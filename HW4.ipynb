{
 "cells": [
  {
   "cell_type": "markdown",
   "metadata": {},
   "source": [
    "# Programming for Data Science Practical Examination\n",
    "## Introduction \n",
    "\n",
    "The challenge of this pratical is to explore the public procurement data available in the portal www.base.gov.pt. <br>\n",
    "Public Procurements are contracts establish between a public institutions (the issuer of a procurement) and a third-party supplier. <br>\n",
    "Each contract is classified using the Common Procurement Vocabulary (CPV). The CPV classification aims at establishing a single classification system for public procurement in Europe, helping in comparative statistics and regulation. The CPV is a five level hierarchical classification encoded in a nine digit string. For instance the first two digits identify the division, the first three the groups, and so on. You can find more information about the CPVs at https://simap.ted.europa.eu/cpv\n",
    "\n",
    "\n",
    "We will use a sample dataset extracted from the portal BASE (www.base.gov.pt) that contains information on public procurements executed between 2012 and 2014. Below you can find a step-by-step instructions of what the tasks you need to perform in order to analyse this dataset. Each step indicates the amount of points you can score. Make sure you comment all your code and provide, when requested, a discussion about what you have done and the results obtained.\n",
    "\n",
    "This examination does not intend to test your ability to:<br>\n",
    ". perform complex data analysis;<br>\n",
    ". develop complex data-driven models; <br>\n",
    ". write optimal algorithmic solutions to a problem. <br>\n",
    "\n",
    "**Instead**, it aims to test your ability to implement a pre-planned step by step project in python.\n",
    "\n",
    "Your submission will be graded according to the following guidelines:\n",
    "1. Execution (does your program does what is asked from the exercise?)\n",
    "2. Objectivity (are you using the adequate libraries? are you using a libraries not in the scope of exercise?)\n",
    "3. Readibility of your code (is your code correctly documented? is variable naming adequate?)\n",
    "\n",
    "This is an individual activity!\n",
    "\n",
    "## Submission Details\n",
    "\n",
    "The deadline for the submission is November 1st at 23:59, and submission must be done through the corresponding activity in moodle. Your submission should consist of an archive (zip file) containing the following files: <br>\n",
    "1) A copy of this notebook with your answers; <br>\n",
    "2) A html version of the notebook with your answers (File -> Download As -> html); <br>\n",
    "3) An Authorship Statement; <br> \n",
    "\n",
    "Submissions done in .rar archives will not be graded. <br>\n",
    "Submissions delivered that are not in a jupyter notebook format will not be graded.\n",
    "\n",
    "Good Luck, and enjoy!\n",
    "\n",
    "**PLEASE FILL THIS INFORMATION IN:** <br>"
   ]
  },
  {
   "cell_type": "code",
   "execution_count": 2,
   "metadata": {},
   "outputs": [],
   "source": [
    "# Student ID: m20200568\n",
    "# Student Name: Nadine Aldesouky"
   ]
  },
  {
   "cell_type": "markdown",
   "metadata": {},
   "source": [
    "## Boilerplate\n",
    "\n",
    "Before you start, let us make sure you have all the necessary packages in your working environment. To that end run the following cells to install and load all the necessary libraries.\n",
    "\n",
    "**Note** You only need to run this cell once, not everytime you open the notebook."
   ]
  },
  {
   "cell_type": "code",
   "execution_count": 1,
   "metadata": {},
   "outputs": [
    {
     "name": "stdout",
     "output_type": "stream",
     "text": [
      "Collecting pip\n",
      "  Downloading pip-20.2.4-py2.py3-none-any.whl (1.5 MB)\n",
      "\u001b[K     |████████████████████████████████| 1.5 MB 2.1 MB/s eta 0:00:01\n",
      "\u001b[?25hInstalling collected packages: pip\n",
      "\u001b[33m  WARNING: The scripts pip, pip3 and pip3.8 are installed in '/Users/Nadine/.local/bin' which is not on PATH.\n",
      "  Consider adding this directory to PATH or, if you prefer to suppress this warning, use --no-warn-script-location.\u001b[0m\n",
      "Successfully installed pip-20.2.4\n",
      "Requirement already satisfied: xlrd in /opt/anaconda3/lib/python3.8/site-packages (1.2.0)\n",
      "Requirement already satisfied: requests in /opt/anaconda3/lib/python3.8/site-packages (2.24.0)\n",
      "Requirement already satisfied: certifi>=2017.4.17 in /opt/anaconda3/lib/python3.8/site-packages (from requests) (2020.6.20)\n",
      "Requirement already satisfied: urllib3!=1.25.0,!=1.25.1,<1.26,>=1.21.1 in /opt/anaconda3/lib/python3.8/site-packages (from requests) (1.25.9)\n",
      "Requirement already satisfied: idna<3,>=2.5 in /opt/anaconda3/lib/python3.8/site-packages (from requests) (2.10)\n",
      "Requirement already satisfied: chardet<4,>=3.0.2 in /opt/anaconda3/lib/python3.8/site-packages (from requests) (3.0.4)\n",
      "Requirement already satisfied: seaborn in /opt/anaconda3/lib/python3.8/site-packages (0.10.1)\n",
      "Requirement already satisfied: pandas>=0.22.0 in /opt/anaconda3/lib/python3.8/site-packages (from seaborn) (1.0.5)\n",
      "Requirement already satisfied: numpy>=1.13.3 in /opt/anaconda3/lib/python3.8/site-packages (from seaborn) (1.18.5)\n",
      "Requirement already satisfied: matplotlib>=2.1.2 in /opt/anaconda3/lib/python3.8/site-packages (from seaborn) (3.2.2)\n",
      "Requirement already satisfied: scipy>=1.0.1 in /opt/anaconda3/lib/python3.8/site-packages (from seaborn) (1.5.0)\n",
      "Requirement already satisfied: python-dateutil>=2.6.1 in /opt/anaconda3/lib/python3.8/site-packages (from pandas>=0.22.0->seaborn) (2.8.1)\n",
      "Requirement already satisfied: pytz>=2017.2 in /opt/anaconda3/lib/python3.8/site-packages (from pandas>=0.22.0->seaborn) (2020.1)\n",
      "Requirement already satisfied: pyparsing!=2.0.4,!=2.1.2,!=2.1.6,>=2.0.1 in /opt/anaconda3/lib/python3.8/site-packages (from matplotlib>=2.1.2->seaborn) (2.4.7)\n",
      "Requirement already satisfied: kiwisolver>=1.0.1 in /opt/anaconda3/lib/python3.8/site-packages (from matplotlib>=2.1.2->seaborn) (1.2.0)\n",
      "Requirement already satisfied: cycler>=0.10 in /opt/anaconda3/lib/python3.8/site-packages (from matplotlib>=2.1.2->seaborn) (0.10.0)\n",
      "Requirement already satisfied: six>=1.5 in /opt/anaconda3/lib/python3.8/site-packages (from python-dateutil>=2.6.1->pandas>=0.22.0->seaborn) (1.15.0)\n"
     ]
    }
   ],
   "source": [
    "import sys\n",
    "!{sys.executable} -m pip install --upgrade pip --user\n",
    "!{sys.executable} -m pip install xlrd\n",
    "!{sys.executable} -m pip install requests\n",
    "!{sys.executable} -m pip install seaborn"
   ]
  },
  {
   "cell_type": "markdown",
   "metadata": {},
   "source": [
    "Then we load the necessary libraries to execute each of the steps below."
   ]
  },
  {
   "cell_type": "code",
   "execution_count": 3,
   "metadata": {},
   "outputs": [],
   "source": [
    "import pandas as pd\n",
    "import numpy as np\n",
    "import scipy as sp\n",
    "import seaborn as sns\n",
    "import matplotlib.pyplot as plt\n",
    "import statsmodels as sm\n",
    "import os\n",
    "from zipfile import ZipFile"
   ]
  },
  {
   "cell_type": "code",
   "execution_count": 4,
   "metadata": {},
   "outputs": [],
   "source": [
    "import requests"
   ]
  },
  {
   "cell_type": "code",
   "execution_count": 5,
   "metadata": {
    "scrolled": true
   },
   "outputs": [
    {
     "name": "stdout",
     "output_type": "stream",
     "text": [
      "Pandas version  1.0.5\n",
      "Numpy version  1.18.5\n",
      "Scipy version  1.5.0\n",
      "Seaborn version  0.10.1\n",
      "StatsModels version  0.11.1\n"
     ]
    }
   ],
   "source": [
    "print('Pandas version ',pd.__version__)\n",
    "print('Numpy version ',np.__version__)\n",
    "print('Scipy version ',sp.__version__)\n",
    "print('Seaborn version ',sns.__version__)\n",
    "print('StatsModels version ',sm.__version__)"
   ]
  },
  {
   "cell_type": "markdown",
   "metadata": {},
   "source": [
    "In the following steps, please used the alias defined at this step. This will help us to correct your answers and track your steps. Students that fail to use the pre-defined aliases will be incur in a penalization. \n",
    "\n",
    "Finally, the following cell downloads the dataset for this project. <br>"
   ]
  },
  {
   "cell_type": "code",
   "execution_count": null,
   "metadata": {},
   "outputs": [],
   "source": [
    "r = requests.get('https://www.dropbox.com/s/r5hknwep5nq2gu9/PDS2020_Data.zip?dl=1', allow_redirects=True)\n",
    "open('Data.zip', 'wb').write(r.content);\n",
    "with ZipFile('Data.zip', 'r') as zipObj:\n",
    "    zipObj.extractall('DATA')"
   ]
  },
  {
   "cell_type": "markdown",
   "metadata": {},
   "source": [
    "The above code will store the datafiles in a folder called \"DATA\" that is in the same filepath as this notebook. <br>\n",
    "The dataset consists of three xlsx files containing all contracts available in 2018 concerning the contracts issued in 2012, 2013, and 2014 that where available in BASE."
   ]
  },
  {
   "cell_type": "markdown",
   "metadata": {},
   "source": [
    "## Exercises (The action starts here)\n",
    "\n",
    "<b>[Step 1. | 0.5 points ]</b> Load all the procurement datafiles (contratos2012.xlsx, contratos2013.xlsx, and contratos2014.xlsx) into a single dataframe named <i>data</i>.<br>\n",
    "Notes: This operation might take a while. When reading data from excel it is safer to always specify the Sheet you want to read. You might need to reset the indexes and drop a column of the final dataframe to obtain a more workable dataframe."
   ]
  },
  {
   "cell_type": "code",
   "execution_count": 6,
   "metadata": {},
   "outputs": [
    {
     "name": "stdout",
     "output_type": "stream",
     "text": [
      "/Users/Nadine/Desktop/Portugal/NOVA IMS/Programming for Data Science/EXAM\n",
      "../EXAM/DATA\n",
      "['contratos2014.xlsx', 'contratos2012.xlsx', 'contratos2013.xlsx', '__MACOSX']\n",
      "['contratos2014.xlsx', 'contratos2012.xlsx', 'contratos2013.xlsx']\n"
     ]
    }
   ],
   "source": [
    "#Reaching the folder DATA to read the files there\n",
    "\n",
    "path=os.getcwd()  #get the current working directory\n",
    "print(path)\n",
    "mypath=os.path.join(\"..\",\"EXAM\",\"DATA\")    #join it with the directory which includes the DATA file, so the path after you open the DATA file\n",
    "print(mypath)\n",
    "files=os.listdir(mypath)                   #list the files in that directory\n",
    "print(files)\n",
    "file=[file for file in files if file[:9]=='contratos']    #assign the excel files that have the word contratos at the beginning of their name to the variable file\n",
    "print(file)"
   ]
  },
  {
   "cell_type": "code",
   "execution_count": 7,
   "metadata": {},
   "outputs": [],
   "source": [
    "#Load the files into a single dataframe called data\n",
    "\n",
    "data = pd.DataFrame()   #create an empty dataframe to store our dataset in\n",
    "for item in file:       #iterate through file, so for every item or file in the list of all the contratos excel files\n",
    "    df=pd.read_excel('DATA/'+item,'Folha1')   #load the sheet Folha1 of every excel file and store it in the variable df\n",
    "    data=df.append(data,ignore_index=True)    #add df to our data dataframe\n",
    "\n",
    "#ignore_index resets the index (and ignores the old one) so that we dont have to add another index column through \n",
    "#reset_index then drop the old index col"
   ]
  },
  {
   "cell_type": "code",
   "execution_count": 8,
   "metadata": {
    "scrolled": false
   },
   "outputs": [
    {
     "data": {
      "text/html": [
       "<div>\n",
       "<style scoped>\n",
       "    .dataframe tbody tr th:only-of-type {\n",
       "        vertical-align: middle;\n",
       "    }\n",
       "\n",
       "    .dataframe tbody tr th {\n",
       "        vertical-align: top;\n",
       "    }\n",
       "\n",
       "    .dataframe thead th {\n",
       "        text-align: right;\n",
       "    }\n",
       "</style>\n",
       "<table border=\"1\" class=\"dataframe\">\n",
       "  <thead>\n",
       "    <tr style=\"text-align: right;\">\n",
       "      <th></th>\n",
       "      <th>idcontrato</th>\n",
       "      <th>nAnuncio</th>\n",
       "      <th>tipoContrato</th>\n",
       "      <th>tipoprocedimento</th>\n",
       "      <th>objectoContrato</th>\n",
       "      <th>adjudicantes</th>\n",
       "      <th>adjudicatarios</th>\n",
       "      <th>dataPublicacao</th>\n",
       "      <th>dataCelebracaoContrato</th>\n",
       "      <th>precoContratual</th>\n",
       "      <th>cpv</th>\n",
       "      <th>prazoExecucao</th>\n",
       "      <th>localExecucao</th>\n",
       "      <th>fundamentacao</th>\n",
       "    </tr>\n",
       "  </thead>\n",
       "  <tbody>\n",
       "    <tr>\n",
       "      <th>0</th>\n",
       "      <td>845377</td>\n",
       "      <td>4828/2009</td>\n",
       "      <td>Empreitadas de obras públicas</td>\n",
       "      <td>Concurso público</td>\n",
       "      <td>AMBIENTE EM MATOSINHOS – CASA MORTUÁRIA DE LAVRA</td>\n",
       "      <td>501305912 - Município de Matosinhos</td>\n",
       "      <td>500687030 - Valentim José Luís &amp;amp; Filhos, S.A.</td>\n",
       "      <td>2013-10-03</td>\n",
       "      <td>2013-08-05</td>\n",
       "      <td>297423.55</td>\n",
       "      <td>45214200-2 - Construção de edifícios escolares</td>\n",
       "      <td>240</td>\n",
       "      <td>Portugal, Porto, Matosinhos</td>\n",
       "      <td>Artigo 19.º, alínea b) do Código dos Contratos...</td>\n",
       "    </tr>\n",
       "    <tr>\n",
       "      <th>1</th>\n",
       "      <td>1208066</td>\n",
       "      <td>4979/2009</td>\n",
       "      <td>Aquisição de serviços</td>\n",
       "      <td>Concurso público</td>\n",
       "      <td>Fornecimento de Estudos de identificação e car...</td>\n",
       "      <td>600082490 - Autoridade Nacional de Protecção C...</td>\n",
       "      <td>505443856 - Metacortex - Consultoria e Modelaç...</td>\n",
       "      <td>2014-09-10</td>\n",
       "      <td>2013-08-30</td>\n",
       "      <td>282000.00</td>\n",
       "      <td>73000000-2 - Serviços de investigação e desenv...</td>\n",
       "      <td>177</td>\n",
       "      <td>Portugal, Lisboa, Oeiras</td>\n",
       "      <td>Artigo 20.º, n.º 1, alínea b) do Código dos Co...</td>\n",
       "    </tr>\n",
       "    <tr>\n",
       "      <th>2</th>\n",
       "      <td>972095</td>\n",
       "      <td>NaN</td>\n",
       "      <td>Aquisição de serviços</td>\n",
       "      <td>Ajuste Direto Regime Geral</td>\n",
       "      <td>Prédio n.º 252 Reabilitação e Remodelação da C...</td>\n",
       "      <td>500745471 - Santa Casa da Misericórdia de Lisboa</td>\n",
       "      <td>232695377 - Pedro Filipe Pinto Barbosa</td>\n",
       "      <td>2014-02-05</td>\n",
       "      <td>2013-06-20</td>\n",
       "      <td>19500.00</td>\n",
       "      <td>50000000-5 - Serviços de reparação e manutenção</td>\n",
       "      <td>79</td>\n",
       "      <td>Portugal, Lisboa, Lisboa</td>\n",
       "      <td>Artigo 20.º, n.º 1, alínea a) do Código dos Co...</td>\n",
       "    </tr>\n",
       "    <tr>\n",
       "      <th>3</th>\n",
       "      <td>750292</td>\n",
       "      <td>NaN</td>\n",
       "      <td>Concessão de serviços públicos</td>\n",
       "      <td>Concurso público</td>\n",
       "      <td>Concessão da exploração do bar e parque de cam...</td>\n",
       "      <td>512044023 - Município da Praia da Vitória</td>\n",
       "      <td>205150349 - César Miguel Nunes Cota</td>\n",
       "      <td>2013-04-30</td>\n",
       "      <td>2013-04-23</td>\n",
       "      <td>160.00</td>\n",
       "      <td>65000000-3 - Serviços públicos</td>\n",
       "      <td>365</td>\n",
       "      <td>Portugal, Região Autónoma dos Açores, Praia da...</td>\n",
       "      <td>Artigo 31.º, n.º 1 do Código dos Contratos Púb...</td>\n",
       "    </tr>\n",
       "    <tr>\n",
       "      <th>4</th>\n",
       "      <td>738435</td>\n",
       "      <td>767/2010</td>\n",
       "      <td>Empreitadas de obras públicas</td>\n",
       "      <td>Concurso público</td>\n",
       "      <td>EN218 - BENEFICIAÇÃO ENTRE RIO FRIO E OUTEIRO</td>\n",
       "      <td>504598686 - EP - ESTRADAS DE PORTUGAL, S.A</td>\n",
       "      <td>500072868 - CONSTRUÇÕES GABRIEL A.S. COUTO, S.A.</td>\n",
       "      <td>2013-04-10</td>\n",
       "      <td>2013-04-05</td>\n",
       "      <td>272654.26</td>\n",
       "      <td>45233120-6 - Construção de estradas</td>\n",
       "      <td>120</td>\n",
       "      <td>Portugal, Braganca, Vimioso</td>\n",
       "      <td>Artigo 19.º, alínea b) do Código dos Contratos...</td>\n",
       "    </tr>\n",
       "  </tbody>\n",
       "</table>\n",
       "</div>"
      ],
      "text/plain": [
       "   idcontrato   nAnuncio                    tipoContrato  \\\n",
       "0      845377  4828/2009   Empreitadas de obras públicas   \n",
       "1     1208066  4979/2009           Aquisição de serviços   \n",
       "2      972095        NaN           Aquisição de serviços   \n",
       "3      750292        NaN  Concessão de serviços públicos   \n",
       "4      738435   767/2010   Empreitadas de obras públicas   \n",
       "\n",
       "             tipoprocedimento  \\\n",
       "0            Concurso público   \n",
       "1            Concurso público   \n",
       "2  Ajuste Direto Regime Geral   \n",
       "3            Concurso público   \n",
       "4            Concurso público   \n",
       "\n",
       "                                     objectoContrato  \\\n",
       "0   AMBIENTE EM MATOSINHOS – CASA MORTUÁRIA DE LAVRA   \n",
       "1  Fornecimento de Estudos de identificação e car...   \n",
       "2  Prédio n.º 252 Reabilitação e Remodelação da C...   \n",
       "3  Concessão da exploração do bar e parque de cam...   \n",
       "4      EN218 - BENEFICIAÇÃO ENTRE RIO FRIO E OUTEIRO   \n",
       "\n",
       "                                        adjudicantes  \\\n",
       "0                501305912 - Município de Matosinhos   \n",
       "1  600082490 - Autoridade Nacional de Protecção C...   \n",
       "2   500745471 - Santa Casa da Misericórdia de Lisboa   \n",
       "3          512044023 - Município da Praia da Vitória   \n",
       "4         504598686 - EP - ESTRADAS DE PORTUGAL, S.A   \n",
       "\n",
       "                                      adjudicatarios dataPublicacao  \\\n",
       "0  500687030 - Valentim José Luís &amp; Filhos, S.A.     2013-10-03   \n",
       "1  505443856 - Metacortex - Consultoria e Modelaç...     2014-09-10   \n",
       "2             232695377 - Pedro Filipe Pinto Barbosa     2014-02-05   \n",
       "3                205150349 - César Miguel Nunes Cota     2013-04-30   \n",
       "4   500072868 - CONSTRUÇÕES GABRIEL A.S. COUTO, S.A.     2013-04-10   \n",
       "\n",
       "  dataCelebracaoContrato  precoContratual  \\\n",
       "0             2013-08-05        297423.55   \n",
       "1             2013-08-30        282000.00   \n",
       "2             2013-06-20         19500.00   \n",
       "3             2013-04-23           160.00   \n",
       "4             2013-04-05        272654.26   \n",
       "\n",
       "                                                 cpv  prazoExecucao  \\\n",
       "0     45214200-2 - Construção de edifícios escolares            240   \n",
       "1  73000000-2 - Serviços de investigação e desenv...            177   \n",
       "2    50000000-5 - Serviços de reparação e manutenção             79   \n",
       "3                     65000000-3 - Serviços públicos            365   \n",
       "4                45233120-6 - Construção de estradas            120   \n",
       "\n",
       "                                       localExecucao  \\\n",
       "0                        Portugal, Porto, Matosinhos   \n",
       "1                           Portugal, Lisboa, Oeiras   \n",
       "2                           Portugal, Lisboa, Lisboa   \n",
       "3  Portugal, Região Autónoma dos Açores, Praia da...   \n",
       "4                        Portugal, Braganca, Vimioso   \n",
       "\n",
       "                                       fundamentacao  \n",
       "0  Artigo 19.º, alínea b) do Código dos Contratos...  \n",
       "1  Artigo 20.º, n.º 1, alínea b) do Código dos Co...  \n",
       "2  Artigo 20.º, n.º 1, alínea a) do Código dos Co...  \n",
       "3  Artigo 31.º, n.º 1 do Código dos Contratos Púb...  \n",
       "4  Artigo 19.º, alínea b) do Código dos Contratos...  "
      ]
     },
     "execution_count": 8,
     "metadata": {},
     "output_type": "execute_result"
    }
   ],
   "source": [
    "data.head()  #check that I loaded the correct dataset and there is no formatting problems by showing the top 5 rows"
   ]
  },
  {
   "cell_type": "markdown",
   "metadata": {},
   "source": [
    "<b>[Step 2. | 0.5 points ]</b> Perform some quick inspection of the data file in order to answer the following questions:\n",
    "1. How many records does the dataset include?"
   ]
  },
  {
   "cell_type": "code",
   "execution_count": 9,
   "metadata": {},
   "outputs": [
    {
     "name": "stdout",
     "output_type": "stream",
     "text": [
      "The dataset has 250092 records\n"
     ]
    }
   ],
   "source": [
    "#returns the shape of the dataframe as (number of records or rows, number of columns or fields)\n",
    "data.shape\n",
    "\n",
    "print('The dataset has',data.shape[0],'records')"
   ]
  },
  {
   "cell_type": "markdown",
   "metadata": {},
   "source": [
    "2. What are the fields names?"
   ]
  },
  {
   "cell_type": "code",
   "execution_count": 10,
   "metadata": {
    "scrolled": true
   },
   "outputs": [
    {
     "data": {
      "text/plain": [
       "array(['idcontrato', 'nAnuncio', 'tipoContrato', 'tipoprocedimento',\n",
       "       'objectoContrato', 'adjudicantes', 'adjudicatarios',\n",
       "       'dataPublicacao', 'dataCelebracaoContrato', 'precoContratual',\n",
       "       'cpv', 'prazoExecucao', 'localExecucao', 'fundamentacao'],\n",
       "      dtype=object)"
      ]
     },
     "execution_count": 10,
     "metadata": {},
     "output_type": "execute_result"
    }
   ],
   "source": [
    "#returns the names of the columns or fields\n",
    "data.columns.values "
   ]
  },
  {
   "cell_type": "markdown",
   "metadata": {},
   "source": [
    "3. What are the datatypes of each field?"
   ]
  },
  {
   "cell_type": "code",
   "execution_count": 11,
   "metadata": {},
   "outputs": [
    {
     "data": {
      "text/plain": [
       "idcontrato                         int64\n",
       "nAnuncio                          object\n",
       "tipoContrato                      object\n",
       "tipoprocedimento                  object\n",
       "objectoContrato                   object\n",
       "adjudicantes                      object\n",
       "adjudicatarios                    object\n",
       "dataPublicacao            datetime64[ns]\n",
       "dataCelebracaoContrato    datetime64[ns]\n",
       "precoContratual                  float64\n",
       "cpv                               object\n",
       "prazoExecucao                      int64\n",
       "localExecucao                     object\n",
       "fundamentacao                     object\n",
       "dtype: object"
      ]
     },
     "execution_count": 11,
     "metadata": {},
     "output_type": "execute_result"
    }
   ],
   "source": [
    "#returns the datatype of each column or field\n",
    "data.dtypes"
   ]
  },
  {
   "cell_type": "markdown",
   "metadata": {},
   "source": [
    "<b>[Step 3. | 3 points ]</b> As you have probably noticed our raw data is not exactly the cleanest dataset in the block. Indeed, we will need to perform some parsing in order to obtain a good working data. In that sense, write the necessary code to perform the following steps: <br>\n",
    "1. Break the field <i>cpv</i> into two columns named <i>cpvDOC</i> and <i>CPV</i>.<br>\n",
    "   The field <i>cpvDOC</i> should retain the CPV id, while the <i>CPV</i> its Description <br>\n",
    "   For instance, a record with value \"72416000-9, Fornecedores de aplicações\" should lead to a <i>cpvDOC</i> equal to \"72416000-9\" and a <i>CPV</i> would be equal to \"Fornecedores de aplicações\" <br>\n",
    "Use the head command to display the top 10 rows of these new columns (and only these new columns)."
   ]
  },
  {
   "cell_type": "code",
   "execution_count": 12,
   "metadata": {},
   "outputs": [
    {
     "name": "stderr",
     "output_type": "stream",
     "text": [
      "<ipython-input-12-1553efb5dfed>:2: FutureWarning: Columnar iteration over characters will be deprecated in future releases.\n",
      "  data['cpvDOC'],data['CPV']=data['cpv'].str.split(' ', 1).str\n"
     ]
    }
   ],
   "source": [
    "#create 2 columns out of the cpv column by turning the column into a string which we split when there is a space\n",
    "data['cpvDOC'],data['CPV']=data['cpv'].str.split(' ', 1).str \n",
    "\n",
    "#clean up the CPV column by getting rid of the '-' at the beginning of each entry and replacing it with nothing\n",
    "data['CPV']=data['CPV'].str.replace(\"-\",\"\")"
   ]
  },
  {
   "cell_type": "code",
   "execution_count": 13,
   "metadata": {},
   "outputs": [
    {
     "data": {
      "text/html": [
       "<div>\n",
       "<style scoped>\n",
       "    .dataframe tbody tr th:only-of-type {\n",
       "        vertical-align: middle;\n",
       "    }\n",
       "\n",
       "    .dataframe tbody tr th {\n",
       "        vertical-align: top;\n",
       "    }\n",
       "\n",
       "    .dataframe thead th {\n",
       "        text-align: right;\n",
       "    }\n",
       "</style>\n",
       "<table border=\"1\" class=\"dataframe\">\n",
       "  <thead>\n",
       "    <tr style=\"text-align: right;\">\n",
       "      <th></th>\n",
       "      <th>cpvDOC</th>\n",
       "      <th>CPV</th>\n",
       "    </tr>\n",
       "  </thead>\n",
       "  <tbody>\n",
       "    <tr>\n",
       "      <th>0</th>\n",
       "      <td>45214200-2</td>\n",
       "      <td>Construção de edifícios escolares</td>\n",
       "    </tr>\n",
       "    <tr>\n",
       "      <th>1</th>\n",
       "      <td>73000000-2</td>\n",
       "      <td>Serviços de investigação e desenvolvimento e ...</td>\n",
       "    </tr>\n",
       "    <tr>\n",
       "      <th>2</th>\n",
       "      <td>50000000-5</td>\n",
       "      <td>Serviços de reparação e manutenção</td>\n",
       "    </tr>\n",
       "    <tr>\n",
       "      <th>3</th>\n",
       "      <td>65000000-3</td>\n",
       "      <td>Serviços públicos</td>\n",
       "    </tr>\n",
       "    <tr>\n",
       "      <th>4</th>\n",
       "      <td>45233120-6</td>\n",
       "      <td>Construção de estradas</td>\n",
       "    </tr>\n",
       "    <tr>\n",
       "      <th>5</th>\n",
       "      <td>75200000-8</td>\n",
       "      <td>Prestação de serviços à comunidade</td>\n",
       "    </tr>\n",
       "    <tr>\n",
       "      <th>6</th>\n",
       "      <td>72611000-6</td>\n",
       "      <td>Serviços de assistência técnica informática</td>\n",
       "    </tr>\n",
       "    <tr>\n",
       "      <th>7</th>\n",
       "      <td>45200000-9</td>\n",
       "      <td>Obras de construção total ou parcial e de eng...</td>\n",
       "    </tr>\n",
       "    <tr>\n",
       "      <th>8</th>\n",
       "      <td>34000000-7</td>\n",
       "      <td>Equipamento e produtos auxiliares de transporte</td>\n",
       "    </tr>\n",
       "    <tr>\n",
       "      <th>9</th>\n",
       "      <td>73000000-2</td>\n",
       "      <td>Serviços de investigação e desenvolvimento e ...</td>\n",
       "    </tr>\n",
       "  </tbody>\n",
       "</table>\n",
       "</div>"
      ],
      "text/plain": [
       "       cpvDOC                                                CPV\n",
       "0  45214200-2                  Construção de edifícios escolares\n",
       "1  73000000-2   Serviços de investigação e desenvolvimento e ...\n",
       "2  50000000-5                 Serviços de reparação e manutenção\n",
       "3  65000000-3                                  Serviços públicos\n",
       "4  45233120-6                             Construção de estradas\n",
       "5  75200000-8                 Prestação de serviços à comunidade\n",
       "6  72611000-6        Serviços de assistência técnica informática\n",
       "7  45200000-9   Obras de construção total ou parcial e de eng...\n",
       "8  34000000-7    Equipamento e produtos auxiliares de transporte\n",
       "9  73000000-2   Serviços de investigação e desenvolvimento e ..."
      ]
     },
     "execution_count": 13,
     "metadata": {},
     "output_type": "execute_result"
    }
   ],
   "source": [
    "#return the top 10 rows of the cpvDOC and CPV column\n",
    "data[['cpvDOC','CPV']].head(10)"
   ]
  },
  {
   "cell_type": "markdown",
   "metadata": {},
   "source": [
    "2. Convert any fields with dates to datetime objects. Show the datatypes for all fields after your conversion.<br>\n",
    "**Tip:** You might want to check Lab 7 for some tips regarding datetime conversion \n",
    "\n"
   ]
  },
  {
   "cell_type": "code",
   "execution_count": 14,
   "metadata": {},
   "outputs": [],
   "source": [
    "#Looking at Step 2 Question 3, the dates columns are already in datetime format however, I went through the process of\n",
    "#typecasting them again just for the purpose of answering the question\n",
    "\n",
    "#import necessary libraries\n",
    "from datetime import datetime\n",
    "import calendar\n",
    "\n",
    "#typecast values of column to string\n",
    "data[\"dataPublicacao\"] = data[\"dataPublicacao\"].astype(str)\n",
    "\n",
    "#edit this string to have a date format by spliting it then typecasting it into a datetime object using the strptime method\n",
    "data[\"dataPublicacao\"] = data[\"dataPublicacao\"].map(lambda x: datetime.strptime(x.split()[0], '%Y-%m-%d'))\n"
   ]
  },
  {
   "cell_type": "code",
   "execution_count": 15,
   "metadata": {},
   "outputs": [
    {
     "data": {
      "text/plain": [
       "dtype('<M8[ns]')"
      ]
     },
     "execution_count": 15,
     "metadata": {},
     "output_type": "execute_result"
    }
   ],
   "source": [
    "#check the type of the column after editing\n",
    "data[\"dataPublicacao\"].dtypes"
   ]
  },
  {
   "cell_type": "code",
   "execution_count": 16,
   "metadata": {},
   "outputs": [],
   "source": [
    "#typecast values of column to string\n",
    "data[\"dataCelebracaoContrato\"] = data[\"dataCelebracaoContrato\"].astype(str)\n",
    "\n",
    "#edit this string to have a date format by spliting it then typecasting it into a datetime object using the strptime method\n",
    "data[\"dataCelebracaoContrato\"] = data[\"dataCelebracaoContrato\"].map(lambda x: datetime.strptime(x.split()[0], '%Y-%m-%d'))"
   ]
  },
  {
   "cell_type": "code",
   "execution_count": 17,
   "metadata": {},
   "outputs": [
    {
     "data": {
      "text/plain": [
       "dtype('<M8[ns]')"
      ]
     },
     "execution_count": 17,
     "metadata": {},
     "output_type": "execute_result"
    }
   ],
   "source": [
    "#check the type of the column after editing\n",
    "data[\"dataCelebracaoContrato\"].dtypes"
   ]
  },
  {
   "cell_type": "code",
   "execution_count": 18,
   "metadata": {},
   "outputs": [
    {
     "data": {
      "text/plain": [
       "idcontrato                         int64\n",
       "nAnuncio                          object\n",
       "tipoContrato                      object\n",
       "tipoprocedimento                  object\n",
       "objectoContrato                   object\n",
       "adjudicantes                      object\n",
       "adjudicatarios                    object\n",
       "dataPublicacao            datetime64[ns]\n",
       "dataCelebracaoContrato    datetime64[ns]\n",
       "precoContratual                  float64\n",
       "cpv                               object\n",
       "prazoExecucao                      int64\n",
       "localExecucao                     object\n",
       "fundamentacao                     object\n",
       "cpvDOC                            object\n",
       "CPV                               object\n",
       "dtype: object"
      ]
     },
     "execution_count": 18,
     "metadata": {},
     "output_type": "execute_result"
    }
   ],
   "source": [
    "#Show the datatypes for all fields after conversion:\n",
    "data.dtypes"
   ]
  },
  {
   "cell_type": "markdown",
   "metadata": {},
   "source": [
    "3. In the fields <i>adjudicantes</i> (issuers) and <i>adjudicatários</i> (suppliers) you should have noticed that it includes both the name and the fiscal numbers (NIF) of the participating institutions.<br>\n",
    "   For each of those two fields, split each record into two new fields. <br>\n",
    "   <i>Entidade adjudicante - Nome, NIF</i> split into <i>issuerNIF</i> and <i>issuerName</i>.<br>\n",
    "   <i>Entidade adjudicatária - Nome, NIF</i> split into <i>supplierNIF</i> and <i>supplierName</i>.<br>\n",
    "   You will find that in some cases there are multiple entities in those fields, which are separated by \"|\". Explain how have you worked around such cases? If you are not able to perform this, feel free to ignore/drop the records that have multiple entities in each of those fields, but report what is the percentage of procurements that you would be dropping."
   ]
  },
  {
   "cell_type": "code",
   "execution_count": 19,
   "metadata": {},
   "outputs": [
    {
     "data": {
      "text/plain": [
       "0.012343457607600403"
      ]
     },
     "execution_count": 19,
     "metadata": {},
     "output_type": "execute_result"
    }
   ],
   "source": [
    "#multiple entities in adjudicatarios\n",
    "\n",
    "#find the number of rows which contain multiple entities ('|') in their adjudicatarios column then divide it by the \n",
    "#total number of rows in the dataset to get the proportion\n",
    "proportion1=len(data[data['adjudicatarios'].str.contains(r\"\\|\",na=False)])/len(data)\n",
    "proportion1"
   ]
  },
  {
   "cell_type": "code",
   "execution_count": 20,
   "metadata": {},
   "outputs": [
    {
     "data": {
      "text/plain": [
       "0.003806599171504886"
      ]
     },
     "execution_count": 20,
     "metadata": {},
     "output_type": "execute_result"
    }
   ],
   "source": [
    "#multiple entities in adjudicantes\n",
    "\n",
    "#find the number of rows which contain multiple entities ('|') in their adjudicantes column then divide it by the \n",
    "#total number of rows in the dataset to get the proportion\n",
    "proportion2=len(data[data['adjudicantes'].str.contains(r\"\\|\",na=False)])/len(data)\n",
    "proportion2"
   ]
  },
  {
   "cell_type": "code",
   "execution_count": 21,
   "metadata": {},
   "outputs": [
    {
     "name": "stdout",
     "output_type": "stream",
     "text": [
      "The percentage of procurements that I would be dropping is 1.615005677910529 %\n"
     ]
    }
   ],
   "source": [
    "#total proportion of data to be dropped\n",
    "\n",
    "#multiply each of the proportions by 100 and add them up to get the total percentage to drop from the dataset\n",
    "percentage_to_drop=(proportion1*100)+(proportion2*100)\n",
    "print('The percentage of procurements that I would be dropping is',percentage_to_drop,'%')"
   ]
  },
  {
   "cell_type": "markdown",
   "metadata": {},
   "source": [
    "<font color='darkblue'> \n",
    "Given the time constraints of this exam and the analysis needed in the following questions, I have decided to drop these values. Since, the percentage of procurements with multiple entities is so low, it won't have a significant effect on my analysis so I will drop them.\n",
    "</font> "
   ]
  },
  {
   "cell_type": "code",
   "execution_count": 22,
   "metadata": {},
   "outputs": [
    {
     "data": {
      "text/html": [
       "<div>\n",
       "<style scoped>\n",
       "    .dataframe tbody tr th:only-of-type {\n",
       "        vertical-align: middle;\n",
       "    }\n",
       "\n",
       "    .dataframe tbody tr th {\n",
       "        vertical-align: top;\n",
       "    }\n",
       "\n",
       "    .dataframe thead th {\n",
       "        text-align: right;\n",
       "    }\n",
       "</style>\n",
       "<table border=\"1\" class=\"dataframe\">\n",
       "  <thead>\n",
       "    <tr style=\"text-align: right;\">\n",
       "      <th></th>\n",
       "      <th>idcontrato</th>\n",
       "      <th>nAnuncio</th>\n",
       "      <th>tipoContrato</th>\n",
       "      <th>tipoprocedimento</th>\n",
       "      <th>objectoContrato</th>\n",
       "      <th>adjudicantes</th>\n",
       "      <th>adjudicatarios</th>\n",
       "      <th>dataPublicacao</th>\n",
       "      <th>dataCelebracaoContrato</th>\n",
       "      <th>precoContratual</th>\n",
       "      <th>cpv</th>\n",
       "      <th>prazoExecucao</th>\n",
       "      <th>localExecucao</th>\n",
       "      <th>fundamentacao</th>\n",
       "      <th>cpvDOC</th>\n",
       "      <th>CPV</th>\n",
       "    </tr>\n",
       "  </thead>\n",
       "  <tbody>\n",
       "    <tr>\n",
       "      <th>0</th>\n",
       "      <td>845377</td>\n",
       "      <td>4828/2009</td>\n",
       "      <td>Empreitadas de obras públicas</td>\n",
       "      <td>Concurso público</td>\n",
       "      <td>AMBIENTE EM MATOSINHOS – CASA MORTUÁRIA DE LAVRA</td>\n",
       "      <td>501305912 - Município de Matosinhos</td>\n",
       "      <td>500687030 - Valentim José Luís &amp;amp; Filhos, S.A.</td>\n",
       "      <td>2013-10-03</td>\n",
       "      <td>2013-08-05</td>\n",
       "      <td>297423.55</td>\n",
       "      <td>45214200-2 - Construção de edifícios escolares</td>\n",
       "      <td>240</td>\n",
       "      <td>Portugal, Porto, Matosinhos</td>\n",
       "      <td>Artigo 19.º, alínea b) do Código dos Contratos...</td>\n",
       "      <td>45214200-2</td>\n",
       "      <td>Construção de edifícios escolares</td>\n",
       "    </tr>\n",
       "    <tr>\n",
       "      <th>1</th>\n",
       "      <td>1208066</td>\n",
       "      <td>4979/2009</td>\n",
       "      <td>Aquisição de serviços</td>\n",
       "      <td>Concurso público</td>\n",
       "      <td>Fornecimento de Estudos de identificação e car...</td>\n",
       "      <td>600082490 - Autoridade Nacional de Protecção C...</td>\n",
       "      <td>505443856 - Metacortex - Consultoria e Modelaç...</td>\n",
       "      <td>2014-09-10</td>\n",
       "      <td>2013-08-30</td>\n",
       "      <td>282000.00</td>\n",
       "      <td>73000000-2 - Serviços de investigação e desenv...</td>\n",
       "      <td>177</td>\n",
       "      <td>Portugal, Lisboa, Oeiras</td>\n",
       "      <td>Artigo 20.º, n.º 1, alínea b) do Código dos Co...</td>\n",
       "      <td>73000000-2</td>\n",
       "      <td>Serviços de investigação e desenvolvimento e ...</td>\n",
       "    </tr>\n",
       "    <tr>\n",
       "      <th>2</th>\n",
       "      <td>972095</td>\n",
       "      <td>NaN</td>\n",
       "      <td>Aquisição de serviços</td>\n",
       "      <td>Ajuste Direto Regime Geral</td>\n",
       "      <td>Prédio n.º 252 Reabilitação e Remodelação da C...</td>\n",
       "      <td>500745471 - Santa Casa da Misericórdia de Lisboa</td>\n",
       "      <td>232695377 - Pedro Filipe Pinto Barbosa</td>\n",
       "      <td>2014-02-05</td>\n",
       "      <td>2013-06-20</td>\n",
       "      <td>19500.00</td>\n",
       "      <td>50000000-5 - Serviços de reparação e manutenção</td>\n",
       "      <td>79</td>\n",
       "      <td>Portugal, Lisboa, Lisboa</td>\n",
       "      <td>Artigo 20.º, n.º 1, alínea a) do Código dos Co...</td>\n",
       "      <td>50000000-5</td>\n",
       "      <td>Serviços de reparação e manutenção</td>\n",
       "    </tr>\n",
       "    <tr>\n",
       "      <th>3</th>\n",
       "      <td>750292</td>\n",
       "      <td>NaN</td>\n",
       "      <td>Concessão de serviços públicos</td>\n",
       "      <td>Concurso público</td>\n",
       "      <td>Concessão da exploração do bar e parque de cam...</td>\n",
       "      <td>512044023 - Município da Praia da Vitória</td>\n",
       "      <td>205150349 - César Miguel Nunes Cota</td>\n",
       "      <td>2013-04-30</td>\n",
       "      <td>2013-04-23</td>\n",
       "      <td>160.00</td>\n",
       "      <td>65000000-3 - Serviços públicos</td>\n",
       "      <td>365</td>\n",
       "      <td>Portugal, Região Autónoma dos Açores, Praia da...</td>\n",
       "      <td>Artigo 31.º, n.º 1 do Código dos Contratos Púb...</td>\n",
       "      <td>65000000-3</td>\n",
       "      <td>Serviços públicos</td>\n",
       "    </tr>\n",
       "    <tr>\n",
       "      <th>4</th>\n",
       "      <td>738435</td>\n",
       "      <td>767/2010</td>\n",
       "      <td>Empreitadas de obras públicas</td>\n",
       "      <td>Concurso público</td>\n",
       "      <td>EN218 - BENEFICIAÇÃO ENTRE RIO FRIO E OUTEIRO</td>\n",
       "      <td>504598686 - EP - ESTRADAS DE PORTUGAL, S.A</td>\n",
       "      <td>500072868 - CONSTRUÇÕES GABRIEL A.S. COUTO, S.A.</td>\n",
       "      <td>2013-04-10</td>\n",
       "      <td>2013-04-05</td>\n",
       "      <td>272654.26</td>\n",
       "      <td>45233120-6 - Construção de estradas</td>\n",
       "      <td>120</td>\n",
       "      <td>Portugal, Braganca, Vimioso</td>\n",
       "      <td>Artigo 19.º, alínea b) do Código dos Contratos...</td>\n",
       "      <td>45233120-6</td>\n",
       "      <td>Construção de estradas</td>\n",
       "    </tr>\n",
       "    <tr>\n",
       "      <th>...</th>\n",
       "      <td>...</td>\n",
       "      <td>...</td>\n",
       "      <td>...</td>\n",
       "      <td>...</td>\n",
       "      <td>...</td>\n",
       "      <td>...</td>\n",
       "      <td>...</td>\n",
       "      <td>...</td>\n",
       "      <td>...</td>\n",
       "      <td>...</td>\n",
       "      <td>...</td>\n",
       "      <td>...</td>\n",
       "      <td>...</td>\n",
       "      <td>...</td>\n",
       "      <td>...</td>\n",
       "      <td>...</td>\n",
       "    </tr>\n",
       "    <tr>\n",
       "      <th>250087</th>\n",
       "      <td>5326806</td>\n",
       "      <td>NaN</td>\n",
       "      <td>Aquisição de serviços</td>\n",
       "      <td>Ao abrigo de acordo-quadro (art.º 258.º)</td>\n",
       "      <td>Fornecimento de refeições aos doentes do HSEIT...</td>\n",
       "      <td>512105030 - Hospital de Santo Espírito da Ilha...</td>\n",
       "      <td>500347506 - EUREST (PORTUGAL) - Sociedade Euro...</td>\n",
       "      <td>2019-03-08</td>\n",
       "      <td>2014-12-01</td>\n",
       "      <td>43358.97</td>\n",
       "      <td>55000000-0 - Serviços de hotelaria, restauraçã...</td>\n",
       "      <td>30</td>\n",
       "      <td>Portugal, Região Autónoma dos Açores, Angra do...</td>\n",
       "      <td>Artigo 20.º, alínea a) do Decreto Legislativo ...</td>\n",
       "      <td>55000000-0</td>\n",
       "      <td>Serviços de hotelaria, restauração e comércio...</td>\n",
       "    </tr>\n",
       "    <tr>\n",
       "      <th>250088</th>\n",
       "      <td>5414071</td>\n",
       "      <td>NaN</td>\n",
       "      <td>Aquisição de bens móveis</td>\n",
       "      <td>Ajuste Direto Regime Geral</td>\n",
       "      <td>Aquisição de viaturaMarca Isuzo Modelo D-Max</td>\n",
       "      <td>510839959 - União das Freguesias de São Pedro ...</td>\n",
       "      <td>509008380 - Freguesia de Carvalho</td>\n",
       "      <td>2019-03-26</td>\n",
       "      <td>2014-04-14</td>\n",
       "      <td>14500.00</td>\n",
       "      <td>34113200-4 - Veículos 4X4</td>\n",
       "      <td>30</td>\n",
       "      <td>Portugal, Coimbra, Penacova</td>\n",
       "      <td>Artigo 20.º, n.º 1, alínea a) do Código dos Co...</td>\n",
       "      <td>34113200-4</td>\n",
       "      <td>Veículos 4X4</td>\n",
       "    </tr>\n",
       "    <tr>\n",
       "      <th>250089</th>\n",
       "      <td>5490660</td>\n",
       "      <td>NaN</td>\n",
       "      <td>Aquisição de serviços</td>\n",
       "      <td>Ajuste Direto Regime Geral</td>\n",
       "      <td>Serviço de transporte escolar regular para o a...</td>\n",
       "      <td>512048746 - Associação de Desenvolvimento da I...</td>\n",
       "      <td>512001812 - Rumo à Natureza Unipessoal</td>\n",
       "      <td>2019-04-15</td>\n",
       "      <td>2014-11-03</td>\n",
       "      <td>92594.80</td>\n",
       "      <td>60000000-8 - Serviços de transporte (excl. tra...</td>\n",
       "      <td>350</td>\n",
       "      <td>Portugal, Região Autónoma dos Açores, Calheta ...</td>\n",
       "      <td>Artigo 24.º, n.º 1, alínea e) do Código dos Co...</td>\n",
       "      <td>60000000-8</td>\n",
       "      <td>Serviços de transporte (excl. transporte de r...</td>\n",
       "    </tr>\n",
       "    <tr>\n",
       "      <th>250090</th>\n",
       "      <td>5609840</td>\n",
       "      <td>NaN</td>\n",
       "      <td>Aquisição de serviços</td>\n",
       "      <td>Ajuste Direto Regime Geral</td>\n",
       "      <td>AQUISIÇÃO DE SERVIÇOS DE SERVIÇOS DE ASSISTÊNC...</td>\n",
       "      <td>600084264 - Agrupamento de Escolas Abade de Ba...</td>\n",
       "      <td>506345564 - Solemp-Informática</td>\n",
       "      <td>2019-06-03</td>\n",
       "      <td>2014-01-31</td>\n",
       "      <td>4020.00</td>\n",
       "      <td>72200000-7 - Serviços de consultoria e de prog...</td>\n",
       "      <td>365</td>\n",
       "      <td>Portugal, Braganca, Bragança</td>\n",
       "      <td>Artigo 20.º, n.º 1, alínea a) do Código dos Co...</td>\n",
       "      <td>72200000-7</td>\n",
       "      <td>Serviços de consultoria e de programação de s...</td>\n",
       "    </tr>\n",
       "    <tr>\n",
       "      <th>250091</th>\n",
       "      <td>5642823</td>\n",
       "      <td>NaN</td>\n",
       "      <td>Aquisição de serviços</td>\n",
       "      <td>Ajuste Direto Regime Geral</td>\n",
       "      <td>Prestação de serviços de fornecimento de energ...</td>\n",
       "      <td>500745749 - Cruz Vermelha Portuguesa</td>\n",
       "      <td>503504564 - EDP Comercial, SA</td>\n",
       "      <td>2019-06-18</td>\n",
       "      <td>2014-11-17</td>\n",
       "      <td>8770.18</td>\n",
       "      <td>65300000-6 - Serviços de distribuição de elect...</td>\n",
       "      <td>365</td>\n",
       "      <td>Portugal, Coimbra, Figueira da Foz</td>\n",
       "      <td>Artigo 20.º, n.º 1, alínea a) do Código dos Co...</td>\n",
       "      <td>65300000-6</td>\n",
       "      <td>Serviços de distribuição de electricidade e s...</td>\n",
       "    </tr>\n",
       "  </tbody>\n",
       "</table>\n",
       "<p>246081 rows × 16 columns</p>\n",
       "</div>"
      ],
      "text/plain": [
       "        idcontrato   nAnuncio                    tipoContrato  \\\n",
       "0           845377  4828/2009   Empreitadas de obras públicas   \n",
       "1          1208066  4979/2009           Aquisição de serviços   \n",
       "2           972095        NaN           Aquisição de serviços   \n",
       "3           750292        NaN  Concessão de serviços públicos   \n",
       "4           738435   767/2010   Empreitadas de obras públicas   \n",
       "...            ...        ...                             ...   \n",
       "250087     5326806        NaN           Aquisição de serviços   \n",
       "250088     5414071        NaN        Aquisição de bens móveis   \n",
       "250089     5490660        NaN           Aquisição de serviços   \n",
       "250090     5609840        NaN           Aquisição de serviços   \n",
       "250091     5642823        NaN           Aquisição de serviços   \n",
       "\n",
       "                                tipoprocedimento  \\\n",
       "0                               Concurso público   \n",
       "1                               Concurso público   \n",
       "2                     Ajuste Direto Regime Geral   \n",
       "3                               Concurso público   \n",
       "4                               Concurso público   \n",
       "...                                          ...   \n",
       "250087  Ao abrigo de acordo-quadro (art.º 258.º)   \n",
       "250088                Ajuste Direto Regime Geral   \n",
       "250089                Ajuste Direto Regime Geral   \n",
       "250090                Ajuste Direto Regime Geral   \n",
       "250091                Ajuste Direto Regime Geral   \n",
       "\n",
       "                                          objectoContrato  \\\n",
       "0        AMBIENTE EM MATOSINHOS – CASA MORTUÁRIA DE LAVRA   \n",
       "1       Fornecimento de Estudos de identificação e car...   \n",
       "2       Prédio n.º 252 Reabilitação e Remodelação da C...   \n",
       "3       Concessão da exploração do bar e parque de cam...   \n",
       "4           EN218 - BENEFICIAÇÃO ENTRE RIO FRIO E OUTEIRO   \n",
       "...                                                   ...   \n",
       "250087  Fornecimento de refeições aos doentes do HSEIT...   \n",
       "250088       Aquisição de viaturaMarca Isuzo Modelo D-Max   \n",
       "250089  Serviço de transporte escolar regular para o a...   \n",
       "250090  AQUISIÇÃO DE SERVIÇOS DE SERVIÇOS DE ASSISTÊNC...   \n",
       "250091  Prestação de serviços de fornecimento de energ...   \n",
       "\n",
       "                                             adjudicantes  \\\n",
       "0                     501305912 - Município de Matosinhos   \n",
       "1       600082490 - Autoridade Nacional de Protecção C...   \n",
       "2        500745471 - Santa Casa da Misericórdia de Lisboa   \n",
       "3               512044023 - Município da Praia da Vitória   \n",
       "4              504598686 - EP - ESTRADAS DE PORTUGAL, S.A   \n",
       "...                                                   ...   \n",
       "250087  512105030 - Hospital de Santo Espírito da Ilha...   \n",
       "250088  510839959 - União das Freguesias de São Pedro ...   \n",
       "250089  512048746 - Associação de Desenvolvimento da I...   \n",
       "250090  600084264 - Agrupamento de Escolas Abade de Ba...   \n",
       "250091               500745749 - Cruz Vermelha Portuguesa   \n",
       "\n",
       "                                           adjudicatarios dataPublicacao  \\\n",
       "0       500687030 - Valentim José Luís &amp; Filhos, S.A.     2013-10-03   \n",
       "1       505443856 - Metacortex - Consultoria e Modelaç...     2014-09-10   \n",
       "2                  232695377 - Pedro Filipe Pinto Barbosa     2014-02-05   \n",
       "3                     205150349 - César Miguel Nunes Cota     2013-04-30   \n",
       "4        500072868 - CONSTRUÇÕES GABRIEL A.S. COUTO, S.A.     2013-04-10   \n",
       "...                                                   ...            ...   \n",
       "250087  500347506 - EUREST (PORTUGAL) - Sociedade Euro...     2019-03-08   \n",
       "250088                  509008380 - Freguesia de Carvalho     2019-03-26   \n",
       "250089             512001812 - Rumo à Natureza Unipessoal     2019-04-15   \n",
       "250090                     506345564 - Solemp-Informática     2019-06-03   \n",
       "250091                      503504564 - EDP Comercial, SA     2019-06-18   \n",
       "\n",
       "       dataCelebracaoContrato  precoContratual  \\\n",
       "0                  2013-08-05        297423.55   \n",
       "1                  2013-08-30        282000.00   \n",
       "2                  2013-06-20         19500.00   \n",
       "3                  2013-04-23           160.00   \n",
       "4                  2013-04-05        272654.26   \n",
       "...                       ...              ...   \n",
       "250087             2014-12-01         43358.97   \n",
       "250088             2014-04-14         14500.00   \n",
       "250089             2014-11-03         92594.80   \n",
       "250090             2014-01-31          4020.00   \n",
       "250091             2014-11-17          8770.18   \n",
       "\n",
       "                                                      cpv  prazoExecucao  \\\n",
       "0          45214200-2 - Construção de edifícios escolares            240   \n",
       "1       73000000-2 - Serviços de investigação e desenv...            177   \n",
       "2         50000000-5 - Serviços de reparação e manutenção             79   \n",
       "3                          65000000-3 - Serviços públicos            365   \n",
       "4                     45233120-6 - Construção de estradas            120   \n",
       "...                                                   ...            ...   \n",
       "250087  55000000-0 - Serviços de hotelaria, restauraçã...             30   \n",
       "250088                          34113200-4 - Veículos 4X4             30   \n",
       "250089  60000000-8 - Serviços de transporte (excl. tra...            350   \n",
       "250090  72200000-7 - Serviços de consultoria e de prog...            365   \n",
       "250091  65300000-6 - Serviços de distribuição de elect...            365   \n",
       "\n",
       "                                            localExecucao  \\\n",
       "0                             Portugal, Porto, Matosinhos   \n",
       "1                                Portugal, Lisboa, Oeiras   \n",
       "2                                Portugal, Lisboa, Lisboa   \n",
       "3       Portugal, Região Autónoma dos Açores, Praia da...   \n",
       "4                             Portugal, Braganca, Vimioso   \n",
       "...                                                   ...   \n",
       "250087  Portugal, Região Autónoma dos Açores, Angra do...   \n",
       "250088                        Portugal, Coimbra, Penacova   \n",
       "250089  Portugal, Região Autónoma dos Açores, Calheta ...   \n",
       "250090                       Portugal, Braganca, Bragança   \n",
       "250091                 Portugal, Coimbra, Figueira da Foz   \n",
       "\n",
       "                                            fundamentacao      cpvDOC  \\\n",
       "0       Artigo 19.º, alínea b) do Código dos Contratos...  45214200-2   \n",
       "1       Artigo 20.º, n.º 1, alínea b) do Código dos Co...  73000000-2   \n",
       "2       Artigo 20.º, n.º 1, alínea a) do Código dos Co...  50000000-5   \n",
       "3       Artigo 31.º, n.º 1 do Código dos Contratos Púb...  65000000-3   \n",
       "4       Artigo 19.º, alínea b) do Código dos Contratos...  45233120-6   \n",
       "...                                                   ...         ...   \n",
       "250087  Artigo 20.º, alínea a) do Decreto Legislativo ...  55000000-0   \n",
       "250088  Artigo 20.º, n.º 1, alínea a) do Código dos Co...  34113200-4   \n",
       "250089  Artigo 24.º, n.º 1, alínea e) do Código dos Co...  60000000-8   \n",
       "250090  Artigo 20.º, n.º 1, alínea a) do Código dos Co...  72200000-7   \n",
       "250091  Artigo 20.º, n.º 1, alínea a) do Código dos Co...  65300000-6   \n",
       "\n",
       "                                                      CPV  \n",
       "0                       Construção de edifícios escolares  \n",
       "1        Serviços de investigação e desenvolvimento e ...  \n",
       "2                      Serviços de reparação e manutenção  \n",
       "3                                       Serviços públicos  \n",
       "4                                  Construção de estradas  \n",
       "...                                                   ...  \n",
       "250087   Serviços de hotelaria, restauração e comércio...  \n",
       "250088                                       Veículos 4X4  \n",
       "250089   Serviços de transporte (excl. transporte de r...  \n",
       "250090   Serviços de consultoria e de programação de s...  \n",
       "250091   Serviços de distribuição de electricidade e s...  \n",
       "\n",
       "[246081 rows x 16 columns]"
      ]
     },
     "execution_count": 22,
     "metadata": {},
     "output_type": "execute_result"
    }
   ],
   "source": [
    "#drop the rows which have multiple entities by negating them so by making the data dataframe only contain the rows\n",
    "#that do not have multiple vlaues using the sign ~\n",
    "\n",
    "data = data[~data['adjudicatarios'].str.contains(r\"\\|\", na=False)]\n",
    "data = data[~data['adjudicantes'].str.contains(r\"\\|\", na=False)]\n",
    "data"
   ]
  },
  {
   "cell_type": "code",
   "execution_count": 23,
   "metadata": {},
   "outputs": [
    {
     "name": "stderr",
     "output_type": "stream",
     "text": [
      "<ipython-input-23-dedb35fbe729>:2: FutureWarning: Columnar iteration over characters will be deprecated in future releases.\n",
      "  data['issuerNIF'],data['issuerName']=data['adjudicantes'].str.split(' ', 1).str\n",
      "<ipython-input-23-dedb35fbe729>:5: FutureWarning: Columnar iteration over characters will be deprecated in future releases.\n",
      "  data['supplierNIF'],data['supplierName']=data['adjudicatarios'].str.split(' ', 1).str\n"
     ]
    }
   ],
   "source": [
    "#create 2 columns out of the adjudicantes column by turning the column into a string which we split when there is a space\n",
    "data['issuerNIF'],data['issuerName']=data['adjudicantes'].str.split(' ', 1).str \n",
    "\n",
    "#create 2 columns out of the adjudicatários column by turning the column into a string which we split when there is a space\n",
    "data['supplierNIF'],data['supplierName']=data['adjudicatarios'].str.split(' ', 1).str "
   ]
  },
  {
   "cell_type": "markdown",
   "metadata": {},
   "source": [
    "<font color='darkblue'>\n",
    "I did some more parsing because I felt it was necessary especially for my analysis that follows in the upcoming questions...\n",
    "</font> "
   ]
  },
  {
   "cell_type": "code",
   "execution_count": 24,
   "metadata": {},
   "outputs": [
    {
     "data": {
      "text/html": [
       "<div>\n",
       "<style scoped>\n",
       "    .dataframe tbody tr th:only-of-type {\n",
       "        vertical-align: middle;\n",
       "    }\n",
       "\n",
       "    .dataframe tbody tr th {\n",
       "        vertical-align: top;\n",
       "    }\n",
       "\n",
       "    .dataframe thead th {\n",
       "        text-align: right;\n",
       "    }\n",
       "</style>\n",
       "<table border=\"1\" class=\"dataframe\">\n",
       "  <thead>\n",
       "    <tr style=\"text-align: right;\">\n",
       "      <th></th>\n",
       "      <th>idcontrato</th>\n",
       "      <th>precoContratual</th>\n",
       "      <th>prazoExecucao</th>\n",
       "    </tr>\n",
       "  </thead>\n",
       "  <tbody>\n",
       "    <tr>\n",
       "      <th>count</th>\n",
       "      <td>2.460810e+05</td>\n",
       "      <td>2.460810e+05</td>\n",
       "      <td>2.460810e+05</td>\n",
       "    </tr>\n",
       "    <tr>\n",
       "      <th>mean</th>\n",
       "      <td>9.755485e+05</td>\n",
       "      <td>4.505873e+04</td>\n",
       "      <td>1.799720e+03</td>\n",
       "    </tr>\n",
       "    <tr>\n",
       "      <th>std</th>\n",
       "      <td>3.914110e+05</td>\n",
       "      <td>4.228564e+05</td>\n",
       "      <td>3.910518e+05</td>\n",
       "    </tr>\n",
       "    <tr>\n",
       "      <th>min</th>\n",
       "      <td>1.155680e+05</td>\n",
       "      <td>-2.500000e+05</td>\n",
       "      <td>0.000000e+00</td>\n",
       "    </tr>\n",
       "    <tr>\n",
       "      <th>25%</th>\n",
       "      <td>7.058850e+05</td>\n",
       "      <td>2.828360e+03</td>\n",
       "      <td>2.000000e+01</td>\n",
       "    </tr>\n",
       "    <tr>\n",
       "      <th>50%</th>\n",
       "      <td>9.226740e+05</td>\n",
       "      <td>9.622800e+03</td>\n",
       "      <td>6.000000e+01</td>\n",
       "    </tr>\n",
       "    <tr>\n",
       "      <th>75%</th>\n",
       "      <td>1.175681e+06</td>\n",
       "      <td>2.620000e+04</td>\n",
       "      <td>3.200000e+02</td>\n",
       "    </tr>\n",
       "    <tr>\n",
       "      <th>max</th>\n",
       "      <td>5.642823e+06</td>\n",
       "      <td>1.052248e+08</td>\n",
       "      <td>1.507192e+08</td>\n",
       "    </tr>\n",
       "  </tbody>\n",
       "</table>\n",
       "</div>"
      ],
      "text/plain": [
       "         idcontrato  precoContratual  prazoExecucao\n",
       "count  2.460810e+05     2.460810e+05   2.460810e+05\n",
       "mean   9.755485e+05     4.505873e+04   1.799720e+03\n",
       "std    3.914110e+05     4.228564e+05   3.910518e+05\n",
       "min    1.155680e+05    -2.500000e+05   0.000000e+00\n",
       "25%    7.058850e+05     2.828360e+03   2.000000e+01\n",
       "50%    9.226740e+05     9.622800e+03   6.000000e+01\n",
       "75%    1.175681e+06     2.620000e+04   3.200000e+02\n",
       "max    5.642823e+06     1.052248e+08   1.507192e+08"
      ]
     },
     "execution_count": 24,
     "metadata": {},
     "output_type": "execute_result"
    }
   ],
   "source": [
    "#show a summary description of the dataframe with min, max, mean etc of each of the numerical columns\n",
    "data.describe()"
   ]
  },
  {
   "cell_type": "markdown",
   "metadata": {},
   "source": [
    "<font color='darkblue'>\n",
    "I notice that the precoContratual column has a negative value as its minimum. This doesn't make sense because the price of a contract cannot be negative, you don't receive money for a procurement contract you pay for one. So it cannot have a negative or 0 value bcause it's not free. As a result, I will check how much of my dataset has this 'mistake' to decide whether or not it is safe to drop those entries.\n",
    "</font> "
   ]
  },
  {
   "cell_type": "code",
   "execution_count": 25,
   "metadata": {},
   "outputs": [
    {
     "data": {
      "text/plain": [
       "0.0029827577098597616"
      ]
     },
     "execution_count": 25,
     "metadata": {},
     "output_type": "execute_result"
    }
   ],
   "source": [
    "#proportion of data with negative or 0 precoContratual values\n",
    "proportion3=len(data[data['precoContratual']<=0])/len(data)\n",
    "proportion3"
   ]
  },
  {
   "cell_type": "code",
   "execution_count": 26,
   "metadata": {},
   "outputs": [],
   "source": [
    "#This is only about 0.3% of my data so it makes sense to delete it by only keeping rows that have precoContratual \n",
    "#values greater than 0\n",
    "data = data.loc[data['precoContratual']>0]"
   ]
  },
  {
   "cell_type": "markdown",
   "metadata": {},
   "source": [
    "<font color='darkblue'>\n",
    "Additionally, the prazoExecucao column seems to have a minimum value of 0 which does not make sense because the duration of a contract cannot be 0 days or months or years...\n",
    "</font> "
   ]
  },
  {
   "cell_type": "code",
   "execution_count": 27,
   "metadata": {},
   "outputs": [
    {
     "data": {
      "text/plain": [
       "0.00345632919905277"
      ]
     },
     "execution_count": 27,
     "metadata": {},
     "output_type": "execute_result"
    }
   ],
   "source": [
    "#proportion of data with 0 prazoExecucao values\n",
    "proportion4=len(data[data['prazoExecucao']==0])/len(data)\n",
    "proportion4"
   ]
  },
  {
   "cell_type": "code",
   "execution_count": 28,
   "metadata": {},
   "outputs": [],
   "source": [
    "#This is only about 0.3% of my data so it makes sense to delete it by only keeping the rows with a contract duration \n",
    "#more than 0\n",
    "data = data.loc[data['prazoExecucao']>0]"
   ]
  },
  {
   "cell_type": "markdown",
   "metadata": {},
   "source": [
    "<font color='darkblue'>\n",
    "Additionally, I assumed that this column represents the duration of the contract in days which is why I will keep the higher values. However, it looks like the max is 150719200 days which is around 400000 years which seems completely unreasonable. Thus, I will draw a disribution plot to see what would be a good cutoff range to drop the unreasonably large values from my dataset.\n",
    "</font> "
   ]
  },
  {
   "cell_type": "code",
   "execution_count": 29,
   "metadata": {},
   "outputs": [
    {
     "data": {
      "image/png": "[encoded data removed]",
      "text/plain": [
       "<Figure size 432x288 with 1 Axes>"
      ]
     },
     "metadata": {
      "needs_background": "light"
     },
     "output_type": "display_data"
    }
   ],
   "source": [
    "#distribution plot of the log base 10 of prazoExecucao column\n",
    "plt.title('Distribution of Contract Duration(or prazoExecucao)')           #title of plot\n",
    "x = np.log10(list(filter(lambda x: x>0, data['prazoExecucao'].values)))    #data to plot\n",
    "x = pd.Series(x, name=\"Contract Duration\")                                 #x=axis label\n",
    "ax = sns.distplot(x,hist=False)                                            #remove built-in histogram, only keep line in plot"
   ]
  },
  {
   "cell_type": "code",
   "execution_count": 30,
   "metadata": {},
   "outputs": [
    {
     "data": {
      "text/plain": [
       "<matplotlib.axes._subplots.AxesSubplot at 0x124d83550>"
      ]
     },
     "execution_count": 30,
     "metadata": {},
     "output_type": "execute_result"
    },
    {
     "data": {
      "image/png": "[encoded data removed]",
      "text/plain": [
       "<Figure size 432x288 with 1 Axes>"
      ]
     },
     "metadata": {
      "needs_background": "light"
     },
     "output_type": "display_data"
    }
   ],
   "source": [
    "#box plot of the log base 10 of prazoExecucao column to show its distribution of values as well\n",
    "plt.title('Distribution of Contract Duration(or prazoExecucao)')       #title of plot\n",
    "sns.boxplot(x)"
   ]
  },
  {
   "cell_type": "code",
   "execution_count": 31,
   "metadata": {},
   "outputs": [
    {
     "data": {
      "text/plain": [
       "0.00024130978040809984"
      ]
     },
     "execution_count": 31,
     "metadata": {},
     "output_type": "execute_result"
    }
   ],
   "source": [
    "#looking at those graph it seems reasonable to drop values that are greater than 10**4\n",
    "proportion5=len(data[data['prazoExecucao']>10000])/len(data)\n",
    "proportion5"
   ]
  },
  {
   "cell_type": "code",
   "execution_count": 32,
   "metadata": {},
   "outputs": [],
   "source": [
    "#This is only 0.02% of my data so it makes sense to delete it by only keeping rows with prazoExecucao values less \n",
    "#than 10000\n",
    "data = data.loc[data['prazoExecucao']<10000]"
   ]
  },
  {
   "cell_type": "code",
   "execution_count": 33,
   "metadata": {},
   "outputs": [
    {
     "name": "stdout",
     "output_type": "stream",
     "text": [
      "<class 'pandas.core.frame.DataFrame'>\n",
      "Int64Index: 244440 entries, 0 to 250091\n",
      "Data columns (total 20 columns):\n",
      " #   Column                  Non-Null Count   Dtype         \n",
      "---  ------                  --------------   -----         \n",
      " 0   idcontrato              244440 non-null  int64         \n",
      " 1   nAnuncio                15647 non-null   object        \n",
      " 2   tipoContrato            244440 non-null  object        \n",
      " 3   tipoprocedimento        244440 non-null  object        \n",
      " 4   objectoContrato         244424 non-null  object        \n",
      " 5   adjudicantes            244440 non-null  object        \n",
      " 6   adjudicatarios          244435 non-null  object        \n",
      " 7   dataPublicacao          244440 non-null  datetime64[ns]\n",
      " 8   dataCelebracaoContrato  244440 non-null  datetime64[ns]\n",
      " 9   precoContratual         244440 non-null  float64       \n",
      " 10  cpv                     244384 non-null  object        \n",
      " 11  prazoExecucao           244440 non-null  int64         \n",
      " 12  localExecucao           244440 non-null  object        \n",
      " 13  fundamentacao           244440 non-null  object        \n",
      " 14  cpvDOC                  244384 non-null  object        \n",
      " 15  CPV                     244384 non-null  object        \n",
      " 16  issuerNIF               244440 non-null  object        \n",
      " 17  issuerName              244440 non-null  object        \n",
      " 18  supplierNIF             244435 non-null  object        \n",
      " 19  supplierName            244435 non-null  object        \n",
      "dtypes: datetime64[ns](2), float64(1), int64(2), object(15)\n",
      "memory usage: 39.2+ MB\n"
     ]
    }
   ],
   "source": [
    "#show important information about each column (including data type, null values...)\n",
    "data.info()\n",
    "\n",
    "#The column nAnuncio seems to have relatively very few values (only 15647 out of 244440 which is only 6% of the data)\n",
    "#As a result I will drop this column since it has too many missing (or null) values"
   ]
  },
  {
   "cell_type": "code",
   "execution_count": 34,
   "metadata": {},
   "outputs": [],
   "source": [
    "#drop the nAnuncio column\n",
    "data=data.drop(['nAnuncio'],axis=1)"
   ]
  },
  {
   "cell_type": "markdown",
   "metadata": {},
   "source": [
    "4. Verify that the parsing was successful "
   ]
  },
  {
   "cell_type": "code",
   "execution_count": 35,
   "metadata": {},
   "outputs": [
    {
     "data": {
      "text/html": [
       "<div>\n",
       "<style scoped>\n",
       "    .dataframe tbody tr th:only-of-type {\n",
       "        vertical-align: middle;\n",
       "    }\n",
       "\n",
       "    .dataframe tbody tr th {\n",
       "        vertical-align: top;\n",
       "    }\n",
       "\n",
       "    .dataframe thead th {\n",
       "        text-align: right;\n",
       "    }\n",
       "</style>\n",
       "<table border=\"1\" class=\"dataframe\">\n",
       "  <thead>\n",
       "    <tr style=\"text-align: right;\">\n",
       "      <th></th>\n",
       "      <th>idcontrato</th>\n",
       "      <th>precoContratual</th>\n",
       "      <th>prazoExecucao</th>\n",
       "    </tr>\n",
       "  </thead>\n",
       "  <tbody>\n",
       "    <tr>\n",
       "      <th>count</th>\n",
       "      <td>2.444400e+05</td>\n",
       "      <td>2.444400e+05</td>\n",
       "      <td>244440.000000</td>\n",
       "    </tr>\n",
       "    <tr>\n",
       "      <th>mean</th>\n",
       "      <td>9.755285e+05</td>\n",
       "      <td>4.533116e+04</td>\n",
       "      <td>177.944097</td>\n",
       "    </tr>\n",
       "    <tr>\n",
       "      <th>std</th>\n",
       "      <td>3.914749e+05</td>\n",
       "      <td>4.242569e+05</td>\n",
       "      <td>252.970539</td>\n",
       "    </tr>\n",
       "    <tr>\n",
       "      <th>min</th>\n",
       "      <td>1.155680e+05</td>\n",
       "      <td>4.500000e-03</td>\n",
       "      <td>1.000000</td>\n",
       "    </tr>\n",
       "    <tr>\n",
       "      <th>25%</th>\n",
       "      <td>7.060562e+05</td>\n",
       "      <td>2.936000e+03</td>\n",
       "      <td>20.000000</td>\n",
       "    </tr>\n",
       "    <tr>\n",
       "      <th>50%</th>\n",
       "      <td>9.223405e+05</td>\n",
       "      <td>9.715180e+03</td>\n",
       "      <td>60.000000</td>\n",
       "    </tr>\n",
       "    <tr>\n",
       "      <th>75%</th>\n",
       "      <td>1.175504e+06</td>\n",
       "      <td>2.643331e+04</td>\n",
       "      <td>320.000000</td>\n",
       "    </tr>\n",
       "    <tr>\n",
       "      <th>max</th>\n",
       "      <td>5.642823e+06</td>\n",
       "      <td>1.052248e+08</td>\n",
       "      <td>9125.000000</td>\n",
       "    </tr>\n",
       "  </tbody>\n",
       "</table>\n",
       "</div>"
      ],
      "text/plain": [
       "         idcontrato  precoContratual  prazoExecucao\n",
       "count  2.444400e+05     2.444400e+05  244440.000000\n",
       "mean   9.755285e+05     4.533116e+04     177.944097\n",
       "std    3.914749e+05     4.242569e+05     252.970539\n",
       "min    1.155680e+05     4.500000e-03       1.000000\n",
       "25%    7.060562e+05     2.936000e+03      20.000000\n",
       "50%    9.223405e+05     9.715180e+03      60.000000\n",
       "75%    1.175504e+06     2.643331e+04     320.000000\n",
       "max    5.642823e+06     1.052248e+08    9125.000000"
      ]
     },
     "execution_count": 35,
     "metadata": {},
     "output_type": "execute_result"
    }
   ],
   "source": [
    "data.describe() #no more extreme or nonsense values"
   ]
  },
  {
   "cell_type": "code",
   "execution_count": 36,
   "metadata": {},
   "outputs": [
    {
     "data": {
      "text/plain": [
       "(244440, 19)"
      ]
     },
     "execution_count": 36,
     "metadata": {},
     "output_type": "execute_result"
    }
   ],
   "source": [
    "data.shape   #initially had 250092 records"
   ]
  },
  {
   "cell_type": "code",
   "execution_count": 37,
   "metadata": {},
   "outputs": [
    {
     "data": {
      "text/html": [
       "<div>\n",
       "<style scoped>\n",
       "    .dataframe tbody tr th:only-of-type {\n",
       "        vertical-align: middle;\n",
       "    }\n",
       "\n",
       "    .dataframe tbody tr th {\n",
       "        vertical-align: top;\n",
       "    }\n",
       "\n",
       "    .dataframe thead th {\n",
       "        text-align: right;\n",
       "    }\n",
       "</style>\n",
       "<table border=\"1\" class=\"dataframe\">\n",
       "  <thead>\n",
       "    <tr style=\"text-align: right;\">\n",
       "      <th></th>\n",
       "      <th>1</th>\n",
       "    </tr>\n",
       "  </thead>\n",
       "  <tbody>\n",
       "    <tr>\n",
       "      <th>idcontrato</th>\n",
       "      <td>1208066</td>\n",
       "    </tr>\n",
       "    <tr>\n",
       "      <th>tipoContrato</th>\n",
       "      <td>Aquisição de serviços</td>\n",
       "    </tr>\n",
       "    <tr>\n",
       "      <th>tipoprocedimento</th>\n",
       "      <td>Concurso público</td>\n",
       "    </tr>\n",
       "    <tr>\n",
       "      <th>objectoContrato</th>\n",
       "      <td>Fornecimento de Estudos de identificação e car...</td>\n",
       "    </tr>\n",
       "    <tr>\n",
       "      <th>adjudicantes</th>\n",
       "      <td>600082490 - Autoridade Nacional de Protecção C...</td>\n",
       "    </tr>\n",
       "    <tr>\n",
       "      <th>adjudicatarios</th>\n",
       "      <td>505443856 - Metacortex - Consultoria e Modelaç...</td>\n",
       "    </tr>\n",
       "    <tr>\n",
       "      <th>dataPublicacao</th>\n",
       "      <td>2014-09-10 00:00:00</td>\n",
       "    </tr>\n",
       "    <tr>\n",
       "      <th>dataCelebracaoContrato</th>\n",
       "      <td>2013-08-30 00:00:00</td>\n",
       "    </tr>\n",
       "    <tr>\n",
       "      <th>precoContratual</th>\n",
       "      <td>282000</td>\n",
       "    </tr>\n",
       "    <tr>\n",
       "      <th>cpv</th>\n",
       "      <td>73000000-2 - Serviços de investigação e desenv...</td>\n",
       "    </tr>\n",
       "    <tr>\n",
       "      <th>prazoExecucao</th>\n",
       "      <td>177</td>\n",
       "    </tr>\n",
       "    <tr>\n",
       "      <th>localExecucao</th>\n",
       "      <td>Portugal, Lisboa, Oeiras</td>\n",
       "    </tr>\n",
       "    <tr>\n",
       "      <th>fundamentacao</th>\n",
       "      <td>Artigo 20.º, n.º 1, alínea b) do Código dos Co...</td>\n",
       "    </tr>\n",
       "    <tr>\n",
       "      <th>cpvDOC</th>\n",
       "      <td>73000000-2</td>\n",
       "    </tr>\n",
       "    <tr>\n",
       "      <th>CPV</th>\n",
       "      <td>Serviços de investigação e desenvolvimento e ...</td>\n",
       "    </tr>\n",
       "    <tr>\n",
       "      <th>issuerNIF</th>\n",
       "      <td>600082490</td>\n",
       "    </tr>\n",
       "    <tr>\n",
       "      <th>issuerName</th>\n",
       "      <td>- Autoridade Nacional de Protecção Civil</td>\n",
       "    </tr>\n",
       "    <tr>\n",
       "      <th>supplierNIF</th>\n",
       "      <td>505443856</td>\n",
       "    </tr>\n",
       "    <tr>\n",
       "      <th>supplierName</th>\n",
       "      <td>- Metacortex - Consultoria e Modelação de Recu...</td>\n",
       "    </tr>\n",
       "  </tbody>\n",
       "</table>\n",
       "</div>"
      ],
      "text/plain": [
       "                                                                        1\n",
       "idcontrato                                                        1208066\n",
       "tipoContrato                                        Aquisição de serviços\n",
       "tipoprocedimento                                         Concurso público\n",
       "objectoContrato         Fornecimento de Estudos de identificação e car...\n",
       "adjudicantes            600082490 - Autoridade Nacional de Protecção C...\n",
       "adjudicatarios          505443856 - Metacortex - Consultoria e Modelaç...\n",
       "dataPublicacao                                        2014-09-10 00:00:00\n",
       "dataCelebracaoContrato                                2013-08-30 00:00:00\n",
       "precoContratual                                                    282000\n",
       "cpv                     73000000-2 - Serviços de investigação e desenv...\n",
       "prazoExecucao                                                         177\n",
       "localExecucao                                    Portugal, Lisboa, Oeiras\n",
       "fundamentacao           Artigo 20.º, n.º 1, alínea b) do Código dos Co...\n",
       "cpvDOC                                                         73000000-2\n",
       "CPV                      Serviços de investigação e desenvolvimento e ...\n",
       "issuerNIF                                                       600082490\n",
       "issuerName                       - Autoridade Nacional de Protecção Civil\n",
       "supplierNIF                                                     505443856\n",
       "supplierName            - Metacortex - Consultoria e Modelação de Recu..."
      ]
     },
     "execution_count": 37,
     "metadata": {},
     "output_type": "execute_result"
    }
   ],
   "source": [
    "#show the first row of our dataset in transpose...you can see the additional columns we made, the ones we split,\n",
    "#you can see the columnswe dropped, you can see the data formatted columns, you don't see multiple entries...\n",
    "\n",
    "\n",
    "#Yes, the parsing was successful...\n",
    "data.iloc[1:2].T"
   ]
  },
  {
   "cell_type": "markdown",
   "metadata": {},
   "source": [
    "<b>[Step 4. | 5 points ]</b> Let us do some exploratory analysis of the data. The goals is to develop some familarity with the data, which we will do by answering some simple questions. Knowing which questions to ask is an important step for any successful data science project. In that sense, write down the necessary code to answer the following questions:\n",
    "\n",
    "(Report the results using a meaningful visualization.)\n",
    "\n",
    "1. What is the total value of procurements per month?"
   ]
  },
  {
   "cell_type": "code",
   "execution_count": 38,
   "metadata": {},
   "outputs": [
    {
     "name": "stderr",
     "output_type": "stream",
     "text": [
      "<ipython-input-38-d84c7d5b2a29>:8: UserWarning: Pandas doesn't allow columns to be created via a new attribute name - see https://pandas.pydata.org/pandas-docs/stable/indexing.html#attribute-access\n",
      "  value.ind = value[\"dataCelebracaoContrato\"].map(lambda x: x.month)\n"
     ]
    },
    {
     "data": {
      "text/plain": [
       "dataCelebracaoContrato\n",
       "1     9.442482e+08\n",
       "2     9.036491e+08\n",
       "3     9.138120e+08\n",
       "4     7.728192e+08\n",
       "5     8.982662e+08\n",
       "6     9.632869e+08\n",
       "7     9.624684e+08\n",
       "8     8.117107e+08\n",
       "9     8.999250e+08\n",
       "10    9.076159e+08\n",
       "11    9.918124e+08\n",
       "12    1.111135e+09\n",
       "Name: precoContratual, dtype: float64"
      ]
     },
     "execution_count": 38,
     "metadata": {},
     "output_type": "execute_result"
    }
   ],
   "source": [
    "#I assumed that the dataCelebracaoContrato would be reasonable to use since it's the date the contract was signed\n",
    "#and based on some googling, generally this is the date used rather than date of publication\n",
    "\n",
    "#create a dataframe that only contains the dataCelebracaoContrato and precoContratual columns\n",
    "value=data.loc[:,[\"dataCelebracaoContrato\",\"precoContratual\"]]\n",
    "\n",
    "#create an index column for this dataframe with only the month \n",
    "value.ind = value[\"dataCelebracaoContrato\"].map(lambda x: x.month)\n",
    "\n",
    "#group the values by their index (per month) and then sum their price (aka sum their associated values in the \n",
    "#precoContratual column) then save it in the variable ser (meaning series)\n",
    "ser=value[\"precoContratual\"].groupby(by=value.ind).sum()\n",
    "ser"
   ]
  },
  {
   "cell_type": "code",
   "execution_count": 39,
   "metadata": {},
   "outputs": [
    {
     "data": {
      "image/png": "[encoded data removed]",
      "text/plain": [
       "<Figure size 576x432 with 1 Axes>"
      ]
     },
     "metadata": {
      "needs_background": "light"
     },
     "output_type": "display_data"
    }
   ],
   "source": [
    "#visualize the above created series\n",
    "\n",
    "plt.figure(figsize=(8,6))                        #specify the size of the graph\n",
    "monthplot=ser.plot.bar(color='purple')           #specify data to plot, type of graph and colour while saving it in a variable\n",
    "\n",
    "#specify how many ticks should be on the x axis and what are their labels\n",
    "plt.xticks(np.arange(12), ('Jan', 'Feb', 'Mar', 'Apr', 'May','Jun','Jul','Aug','Sep','Oct','Nov','Dec'))\n",
    "\n",
    "#specify the axis labels and title of plot\n",
    "monthplot.set(xlabel='Month',ylabel='Total Value of Procurements',title='Total Value of Procurements per Month')\n",
    "\n",
    "plt.show()\n"
   ]
  },
  {
   "cell_type": "markdown",
   "metadata": {},
   "source": [
    "2. How many procurements have been issued per each month of the year?"
   ]
  },
  {
   "cell_type": "code",
   "execution_count": 40,
   "metadata": {},
   "outputs": [
    {
     "name": "stderr",
     "output_type": "stream",
     "text": [
      "<ipython-input-40-0d6192134330>:2: UserWarning: Pandas doesn't allow columns to be created via a new attribute name - see https://pandas.pydata.org/pandas-docs/stable/indexing.html#attribute-access\n",
      "  value.ind2 = value[\"dataCelebracaoContrato\"].map(lambda x:100*x.year+ x.month)\n"
     ]
    },
    {
     "data": {
      "text/plain": [
       "dataCelebracaoContrato\n",
       "201201     5457\n",
       "201202     5359\n",
       "201203     5388\n",
       "201204     4293\n",
       "201205     5255\n",
       "201206     4826\n",
       "201207     4768\n",
       "201208     4305\n",
       "201209     5245\n",
       "201210     5541\n",
       "201211     5564\n",
       "201212     6817\n",
       "201301     6595\n",
       "201302     6018\n",
       "201303     6356\n",
       "201304     5833\n",
       "201305     6918\n",
       "201306     6144\n",
       "201307     7615\n",
       "201308     6041\n",
       "201309     7614\n",
       "201310     6402\n",
       "201311     6623\n",
       "201312     9074\n",
       "201401    11665\n",
       "201402     9526\n",
       "201403     8468\n",
       "201404     7972\n",
       "201405     7929\n",
       "201406     7364\n",
       "201407     8352\n",
       "201408     5796\n",
       "201409     7921\n",
       "201410     8141\n",
       "201411     7379\n",
       "201412     9876\n",
       "Name: precoContratual, dtype: int64"
      ]
     },
     "execution_count": 40,
     "metadata": {},
     "output_type": "execute_result"
    }
   ],
   "source": [
    "#create an index column for the above dataframe with the year and month \n",
    "value.ind2 = value[\"dataCelebracaoContrato\"].map(lambda x:100*x.year+ x.month)\n",
    "\n",
    "#group the values by their index (per month per year) and then count to know the number of elements (aka count \n",
    "#their associated entries in the precoContratual column) then save it in the variable ser2 (meaning series2)\n",
    "ser2=value[\"precoContratual\"].groupby(by=value.ind2).count()\n",
    "ser2"
   ]
  },
  {
   "cell_type": "code",
   "execution_count": 41,
   "metadata": {},
   "outputs": [
    {
     "data": {
      "image/png": "[encoded data removed]",
      "text/plain": [
       "<Figure size 864x504 with 1 Axes>"
      ]
     },
     "metadata": {
      "needs_background": "light"
     },
     "output_type": "display_data"
    }
   ],
   "source": [
    "#visualize the above created series\n",
    "plt.figure(figsize=(12,7))                                   #specify the size of the graph\n",
    "month_per_year_plot=ser2.plot.bar(width=0.8,color='olive')   #specify data to plot, type of graph and colour while saving it in a variable\n",
    "\n",
    "#specify the axis labels and title of plot\n",
    "month_per_year_plot.set(xlabel='Month per Year',ylabel='Count of Procurements',title='Total Number of Procurements per Month per Year')\n",
    "\n",
    "#rotate the labels of the x ticks to show them better\n",
    "plt.xticks(rotation=-35)\n",
    "\n",
    "plt.show()\n"
   ]
  },
  {
   "cell_type": "markdown",
   "metadata": {},
   "source": [
    "3. What is the distribution of values? In other words, what is the proportion of procurements that have value X?  Can you build a visualization to highlight the what you found more interesting and discuss it? Note: Consider working with the Logarithm base 10 of values; Consider use predefined bin in the X values."
   ]
  },
  {
   "cell_type": "code",
   "execution_count": 42,
   "metadata": {},
   "outputs": [
    {
     "data": {
      "text/plain": [
       "<matplotlib.axes._subplots.AxesSubplot at 0x126742250>"
      ]
     },
     "execution_count": 42,
     "metadata": {},
     "output_type": "execute_result"
    },
    {
     "data": {
      "image/png": "[encoded data removed]",
      "text/plain": [
       "<Figure size 432x288 with 1 Axes>"
      ]
     },
     "metadata": {},
     "output_type": "display_data"
    }
   ],
   "source": [
    "#Visualization:\n",
    "sns.set_style('darkgrid')                     #specify style or theme of background of graph\n",
    "plt.axvline(x=np.log10(10000),color='b')      #draws a vertical line at the midpoint of x-axis at contract value=10000 (most common value in distribution)\n",
    "plt.xlim(0,8)                                 #specifies the range or limit of the x axis\n",
    "plt.title('Distribution of Values of Contracts (or precoContratual)')              #specifies the title of the plot\n",
    "\n",
    "#saves the data to plot which is the log 10 of the positive values of the precoContratual column into a variable\n",
    "precodist=np.log10(list(filter(lambda x: x>0, value[\"precoContratual\"].values)))   \n",
    "\n",
    "#specifies the label of the x-axis by naming the series of log values created above\n",
    "precodist=pd.Series(precodist,name='Value of Contract')\n",
    "\n",
    "#specifies the type of plot, the data to plot, the number of bins, and the colour (keeps only the histogram not the line)\n",
    "sns.distplot(precodist,kde=False,bins=15,hist=True,color='c')\n"
   ]
  },
  {
   "cell_type": "markdown",
   "metadata": {},
   "source": [
    "<font color='darkblue'>\n",
    "Note: this is the log10 of X for the x-axis.\n",
    "\n",
    "The distribution is left or negatively skewed with the mode or most common value at 10000. Regarding proportion of procurements, almost 40% of the contracts have a value between 10000 and 50000 euros (95000contracts/244440contracts=38%).\n",
    "</font> "
   ]
  },
  {
   "cell_type": "markdown",
   "metadata": {},
   "source": [
    "4. In the dataset, how many issuing Institutions are there? And how many suppliers?"
   ]
  },
  {
   "cell_type": "code",
   "execution_count": 43,
   "metadata": {},
   "outputs": [
    {
     "name": "stdout",
     "output_type": "stream",
     "text": [
      "There are 5740 issuing institutions and 42517 suppliers\n"
     ]
    }
   ],
   "source": [
    "#I checked using the NIFs and not the names because they are unique identifiers and since they are numbers only\n",
    "#there is less room for error (no non alphanumeric characters)\n",
    "\n",
    "#check how many issuing institutions are there by checking the number of unique values in the issuerNIF column\n",
    "issuers = data['issuerNIF'].nunique()\n",
    "\n",
    "#check how many suppliers are there by checking the number of unique values in the supplierNIF column\n",
    "suppliers = data['supplierNIF'].nunique()\n",
    "\n",
    "print('There are',issuers,'issuing institutions and',suppliers,'suppliers')"
   ]
  },
  {
   "cell_type": "markdown",
   "metadata": {},
   "source": [
    "5. What services has ISEGI-Inst Superior de Estatistica e Gestão de Informação da UNL (NIF: 502322152) supplied? And who are the top three issuers/beneficiaries of such services?"
   ]
  },
  {
   "cell_type": "code",
   "execution_count": 44,
   "metadata": {},
   "outputs": [
    {
     "data": {
      "text/html": [
       "<div>\n",
       "<style scoped>\n",
       "    .dataframe tbody tr th:only-of-type {\n",
       "        vertical-align: middle;\n",
       "    }\n",
       "\n",
       "    .dataframe tbody tr th {\n",
       "        vertical-align: top;\n",
       "    }\n",
       "\n",
       "    .dataframe thead th {\n",
       "        text-align: right;\n",
       "    }\n",
       "</style>\n",
       "<table border=\"1\" class=\"dataframe\">\n",
       "  <thead>\n",
       "    <tr style=\"text-align: right;\">\n",
       "      <th></th>\n",
       "      <th>CPV</th>\n",
       "      <th>supplierNIF</th>\n",
       "    </tr>\n",
       "    <tr>\n",
       "      <th>cpvDOC</th>\n",
       "      <th></th>\n",
       "      <th></th>\n",
       "    </tr>\n",
       "  </thead>\n",
       "  <tbody>\n",
       "    <tr>\n",
       "      <th>79320000-3</th>\n",
       "      <td>Serviços de sondagens de opinião</td>\n",
       "      <td>502322152</td>\n",
       "    </tr>\n",
       "    <tr>\n",
       "      <th>80000000-4</th>\n",
       "      <td>Serviços de ensino e formação</td>\n",
       "      <td>502322152</td>\n",
       "    </tr>\n",
       "    <tr>\n",
       "      <th>79313000-1</th>\n",
       "      <td>Serviços de avaliação dos resultados</td>\n",
       "      <td>502322152</td>\n",
       "    </tr>\n",
       "    <tr>\n",
       "      <th>72000000-5</th>\n",
       "      <td>Serviços de TI: consultoria, desenvolvimento ...</td>\n",
       "      <td>502322152</td>\n",
       "    </tr>\n",
       "    <tr>\n",
       "      <th>79310000-0</th>\n",
       "      <td>Serviços de estudos de mercado</td>\n",
       "      <td>502322152</td>\n",
       "    </tr>\n",
       "    <tr>\n",
       "      <th>72212100-0</th>\n",
       "      <td>Serviços de desenvolvimento de software para ...</td>\n",
       "      <td>502322152</td>\n",
       "    </tr>\n",
       "  </tbody>\n",
       "</table>\n",
       "</div>"
      ],
      "text/plain": [
       "                                                          CPV supplierNIF\n",
       "cpvDOC                                                                   \n",
       "79320000-3                   Serviços de sondagens de opinião   502322152\n",
       "80000000-4                      Serviços de ensino e formação   502322152\n",
       "79313000-1               Serviços de avaliação dos resultados   502322152\n",
       "72000000-5   Serviços de TI: consultoria, desenvolvimento ...   502322152\n",
       "79310000-0                     Serviços de estudos de mercado   502322152\n",
       "72212100-0   Serviços de desenvolvimento de software para ...   502322152"
      ]
     },
     "execution_count": 44,
     "metadata": {},
     "output_type": "execute_result"
    }
   ],
   "source": [
    "#Services supplied by ISEGI: (meaning what is their CPV if their supplier NIF is 502322152)\n",
    "#I assumed you want the code and description of servise which is why I am showing the cpvDOC and CPV\n",
    "\n",
    "#create a dataframe (supp_services_data) which only contains the CPV (aka services) and the supplier codes (aka supplierNIF)\n",
    "supp_services_data=data.filter(['cpvDOC','CPV','supplierNIF'])\n",
    "\n",
    "#create a smaller dataframe from supp_services_data which only contains the rows with the supplier NIF equal to 502322152\n",
    "ISEGI_supplier=supp_services_data.loc[(supp_services_data.supplierNIF == '502322152')]\n",
    "\n",
    "#drop the duplicate data so that you don't list services repetitively\n",
    "ISEGI_supplier=ISEGI_supplier.drop_duplicates()\n",
    "\n",
    "#set the cpvDOC column as the index\n",
    "ISEGI_supplier=ISEGI_supplier.set_index('cpvDOC')\n",
    "ISEGI_supplier"
   ]
  },
  {
   "cell_type": "code",
   "execution_count": 45,
   "metadata": {},
   "outputs": [
    {
     "data": {
      "text/html": [
       "<div>\n",
       "<style scoped>\n",
       "    .dataframe tbody tr th:only-of-type {\n",
       "        vertical-align: middle;\n",
       "    }\n",
       "\n",
       "    .dataframe tbody tr th {\n",
       "        vertical-align: top;\n",
       "    }\n",
       "\n",
       "    .dataframe thead th {\n",
       "        text-align: right;\n",
       "    }\n",
       "</style>\n",
       "<table border=\"1\" class=\"dataframe\">\n",
       "  <thead>\n",
       "    <tr style=\"text-align: right;\">\n",
       "      <th></th>\n",
       "      <th>cpvDOC</th>\n",
       "    </tr>\n",
       "    <tr>\n",
       "      <th>issuerNIF</th>\n",
       "      <th></th>\n",
       "    </tr>\n",
       "  </thead>\n",
       "  <tbody>\n",
       "    <tr>\n",
       "      <th>509906478</th>\n",
       "      <td>607</td>\n",
       "    </tr>\n",
       "    <tr>\n",
       "      <th>501886354</th>\n",
       "      <td>563</td>\n",
       "    </tr>\n",
       "    <tr>\n",
       "      <th>502017368</th>\n",
       "      <td>141</td>\n",
       "    </tr>\n",
       "  </tbody>\n",
       "</table>\n",
       "</div>"
      ],
      "text/plain": [
       "           cpvDOC\n",
       "issuerNIF        \n",
       "509906478     607\n",
       "501886354     563\n",
       "502017368     141"
      ]
     },
     "execution_count": 45,
     "metadata": {},
     "output_type": "execute_result"
    }
   ],
   "source": [
    "#Top three issuers/beneficiaries of such services:\n",
    "#(I assumed you want the codes of these issuers rather than their names since that is the unique identifier, I also \n",
    "#assumed you mean top 3 as in count not value)\n",
    "\n",
    "#create a tiny dataframe with only cpvDOC (unique identifier of CPV) and issuerNIF (unique identifier of issuers)\n",
    "issu_cpv_data=data.filter(['cpvDOC','issuerNIF'])\n",
    "\n",
    "#filter out from the above dataframe the rows that contain the cpvDOC ID codes of ISEGI services and put it in a new df\n",
    "#(checks if value in cpvDOC column of issu_cpv_data is in the list of the indices from the ISEGI_supplier dataframe\n",
    "ISEGI_beneficiaries=issu_cpv_data.loc[issu_cpv_data['cpvDOC'].isin(list(ISEGI_supplier.index))]\n",
    "ISEGI_beneficiaries\n",
    "\n",
    "#count the number of times each issuer shows up in the above dataframe (which only includes cpvDOC IDs/services from \n",
    "#the ISEGI supplier) then show the top 3 counts\n",
    "ISEGI_beneficiaries.groupby('issuerNIF').count().nlargest(3,'cpvDOC')"
   ]
  },
  {
   "cell_type": "markdown",
   "metadata": {},
   "source": [
    "6. What are the top five services (CPV) contracted by Hospital de Santa Maria Maior (NIF: 506361381)?"
   ]
  },
  {
   "cell_type": "code",
   "execution_count": 46,
   "metadata": {},
   "outputs": [
    {
     "data": {
      "text/html": [
       "<div>\n",
       "<style scoped>\n",
       "    .dataframe tbody tr th:only-of-type {\n",
       "        vertical-align: middle;\n",
       "    }\n",
       "\n",
       "    .dataframe tbody tr th {\n",
       "        vertical-align: top;\n",
       "    }\n",
       "\n",
       "    .dataframe thead th {\n",
       "        text-align: right;\n",
       "    }\n",
       "</style>\n",
       "<table border=\"1\" class=\"dataframe\">\n",
       "  <thead>\n",
       "    <tr style=\"text-align: right;\">\n",
       "      <th></th>\n",
       "      <th>issuerNIF</th>\n",
       "    </tr>\n",
       "    <tr>\n",
       "      <th>CPV</th>\n",
       "      <th></th>\n",
       "    </tr>\n",
       "  </thead>\n",
       "  <tbody>\n",
       "    <tr>\n",
       "      <th>Medicamentos usados na terapêutica endócrina</th>\n",
       "      <td>21</td>\n",
       "    </tr>\n",
       "    <tr>\n",
       "      <th>Medicamentos vários</th>\n",
       "      <td>21</td>\n",
       "    </tr>\n",
       "    <tr>\n",
       "      <th>Vestuário profissional</th>\n",
       "      <td>12</td>\n",
       "    </tr>\n",
       "    <tr>\n",
       "      <th>Medicamentos para o sangue e para os órgãos hematopoiéticos</th>\n",
       "      <td>10</td>\n",
       "    </tr>\n",
       "    <tr>\n",
       "      <th>Reagentes de laboratório</th>\n",
       "      <td>8</td>\n",
       "    </tr>\n",
       "  </tbody>\n",
       "</table>\n",
       "</div>"
      ],
      "text/plain": [
       "                                                    issuerNIF\n",
       "CPV                                                          \n",
       " Medicamentos usados na terapêutica endócrina              21\n",
       " Medicamentos vários                                       21\n",
       " Vestuário profissional                                    12\n",
       " Medicamentos para o sangue e para os órgãos he...         10\n",
       " Reagentes de laboratório                                   8"
      ]
     },
     "execution_count": 46,
     "metadata": {},
     "output_type": "execute_result"
    }
   ],
   "source": [
    "#Services contracted by Hospital de Santa Maria Maior: (meaning what is their CPV if their issuer NIF is 506361381)\n",
    "#I assumed you want the description of the services for better visualization purposes which is why I am showing \n",
    "#only CPV description without the ID,I also assumed you mean top 5 as in count not value)\n",
    "\n",
    "#create a dataframe (issu_services_data) which only contains the CPV (aka services) and the supplier codes (aka supplierNIF)\n",
    "issu_services_data=data.filter(['CPV','issuerNIF'])\n",
    "\n",
    "#create a smaller dataframe from issu_services_data which only contains the rows with the issuer NIF equal to 506361381\n",
    "hospital_issuer=issu_services_data.loc[(issu_services_data.issuerNIF == '506361381')]\n",
    "\n",
    "#group the services (aka group the values by their CPV) and then count the number of elements within each group (or CPV)\n",
    "#then find the top 5 services or CPV with the largest count \n",
    "hospital_issuer.groupby('CPV').count().nlargest(5,'issuerNIF')"
   ]
  },
  {
   "cell_type": "markdown",
   "metadata": {},
   "source": [
    "7. What services (CPV) has Novo Banco, S.A. (NIF: 513204016) supplied? Agregate the output by CPV and sort by descending order of total value."
   ]
  },
  {
   "cell_type": "code",
   "execution_count": 47,
   "metadata": {},
   "outputs": [
    {
     "data": {
      "text/html": [
       "<div>\n",
       "<style scoped>\n",
       "    .dataframe tbody tr th:only-of-type {\n",
       "        vertical-align: middle;\n",
       "    }\n",
       "\n",
       "    .dataframe tbody tr th {\n",
       "        vertical-align: top;\n",
       "    }\n",
       "\n",
       "    .dataframe thead th {\n",
       "        text-align: right;\n",
       "    }\n",
       "</style>\n",
       "<table border=\"1\" class=\"dataframe\">\n",
       "  <thead>\n",
       "    <tr style=\"text-align: right;\">\n",
       "      <th></th>\n",
       "      <th>precoContratual</th>\n",
       "    </tr>\n",
       "    <tr>\n",
       "      <th>CPV</th>\n",
       "      <th></th>\n",
       "    </tr>\n",
       "  </thead>\n",
       "  <tbody>\n",
       "    <tr>\n",
       "      <th>Automóveis de passageiros</th>\n",
       "      <td>19918.7</td>\n",
       "    </tr>\n",
       "    <tr>\n",
       "      <th>Serviços das agências de cobrança</th>\n",
       "      <td>16372.8</td>\n",
       "    </tr>\n",
       "  </tbody>\n",
       "</table>\n",
       "</div>"
      ],
      "text/plain": [
       "                                    precoContratual\n",
       "CPV                                                \n",
       " Automóveis de passageiros                  19918.7\n",
       " Serviços das agências de cobrança          16372.8"
      ]
     },
     "execution_count": 47,
     "metadata": {},
     "output_type": "execute_result"
    }
   ],
   "source": [
    "#create a dataframe (supp_services_data2) which only contains the CPV, the supplierNIF, and the precoContratual (aka the value)\n",
    "supp_services_data2=data.filter(['CPV','supplierNIF','precoContratual'])\n",
    "\n",
    "#create a smaller dataframe from supp_services_data2 which only contains the rows with the supplier NIF equal to 513204016\n",
    "novobanco_supp=supp_services_data2.loc[(supp_services_data2.supplierNIF == '513204016')]\n",
    "\n",
    "#group by the service (aka CPV) and sum the prices of all contracts within each service, then sort the sum values in descneding order\n",
    "novobanco_supp.groupby('CPV').sum().sort_values('precoContratual',ascending=False)\n",
    "\n",
    "#Note: there are only 2 services and this is because of the data cleaning I performed earlier...I still did the groupby\n",
    "#or aggregation and sorting to completely answer the question"
   ]
  },
  {
   "cell_type": "markdown",
   "metadata": {},
   "source": [
    "8. Can you measure the correlation between the length/duration of contract (\"Prazo de execução\") and the final value (\"Preço total efetivo\")? Are longer contracts more costly?<br>\n",
    "    8.1 What if you plot the average price per day as a function of the duration of the contract? What relationship to you obtain?"
   ]
  },
  {
   "cell_type": "code",
   "execution_count": 48,
   "metadata": {},
   "outputs": [
    {
     "data": {
      "text/plain": [
       "0.09370738455780588"
      ]
     },
     "execution_count": 48,
     "metadata": {},
     "output_type": "execute_result"
    }
   ],
   "source": [
    "#calculates the pearson correlation between duration of contract and its price\n",
    "float(data['prazoExecucao'].corr(data['precoContratual']))\n",
    "\n",
    "#Being so close to 0, there is a very very weak positive correlation so the price of a contract is not really affected by \n",
    "#its duration"
   ]
  },
  {
   "cell_type": "code",
   "execution_count": 49,
   "metadata": {},
   "outputs": [
    {
     "data": {
      "text/plain": [
       "<function matplotlib.pyplot.show(*args, **kw)>"
      ]
     },
     "execution_count": 49,
     "metadata": {},
     "output_type": "execute_result"
    },
    {
     "data": {
      "image/png": "[encoded data removed]",
      "text/plain": [
       "<Figure size 432x288 with 1 Axes>"
      ]
     },
     "metadata": {},
     "output_type": "display_data"
    }
   ],
   "source": [
    "#Visualization of the above computed Pearson correlation for better analysis:\n",
    "\n",
    "#plot a scatterplot with x as the number of days (or contract duration), and y as the contract price\n",
    "\n",
    "#specify type of plot, columns to plot and colour of plot\n",
    "plt.scatter(data['prazoExecucao'], data['precoContratual'],c='teal')\n",
    "\n",
    "#specify the labels of the axis and the title of the plot\n",
    "plt.xlabel('Duration of Contract')\n",
    "plt.ylabel('Price of Contract')\n",
    "plt.title('Relationship Between Contract Duration and Price')\n",
    "plt.show"
   ]
  },
  {
   "cell_type": "markdown",
   "metadata": {},
   "source": [
    "<font color='darkblue'>\n",
    "The graph confirms the conclusion above...there is a very low and weak positive correlation. Additinally, most of the points seem to be concentrated in the lower prices and lower duration.\n",
    "</font> "
   ]
  },
  {
   "cell_type": "code",
   "execution_count": 50,
   "metadata": {},
   "outputs": [
    {
     "data": {
      "text/plain": [
       "-0.0797887627191651"
      ]
     },
     "execution_count": 50,
     "metadata": {},
     "output_type": "execute_result"
    }
   ],
   "source": [
    "#Question 8.1\n",
    "#Answer following VERSION1\n",
    "#My interpretation of this question was to get the average price per day meaning dividing the price of each contract\n",
    "#with its duration to get the price per day of that specific contract...and thus I did my code and graph in this manner\n",
    "\n",
    "\n",
    "#add a column to the dataset which calculates the average price per day by dividing the price of the contract by its duration\n",
    "data['average_price']=data[\"precoContratual\"]/data['prazoExecucao']\n",
    "\n",
    "#calculates the pearson correlation between duration of contract and its average price\n",
    "float(data['prazoExecucao'].corr(data['average_price']))"
   ]
  },
  {
   "cell_type": "code",
   "execution_count": 51,
   "metadata": {
    "scrolled": false
   },
   "outputs": [
    {
     "data": {
      "text/plain": [
       "<function matplotlib.pyplot.show(*args, **kw)>"
      ]
     },
     "execution_count": 51,
     "metadata": {},
     "output_type": "execute_result"
    },
    {
     "data": {
      "image/png": "[encoded data removed]",
      "text/plain": [
       "<Figure size 432x288 with 1 Axes>"
      ]
     },
     "metadata": {},
     "output_type": "display_data"
    }
   ],
   "source": [
    "#Visualization of the above computed Pearson correlation for better analysis:\n",
    "\n",
    "#plot a scatterplot with x as the number of days (or contract duration), and y as the average price\n",
    "\n",
    "#specify type of plot, columns to plot and colour of plot\n",
    "plt.scatter(data['prazoExecucao'],data['average_price'],c='navy')\n",
    "\n",
    "#specify the labels of the axis and the title of the plot\n",
    "plt.xlabel('Duration of contract (in days)')\n",
    "plt.ylabel('Average Price per Day')\n",
    "plt.title('Relationship Between Contract Duration and Average Daily Price')\n",
    "plt.show"
   ]
  },
  {
   "cell_type": "markdown",
   "metadata": {},
   "source": [
    "<font color='darkblue'>\n",
    "Again, there seems to be almost no correlation. The pearson correlation is -0.08 which means a very very weak negative correlation.The graph also confirms that there is a negligible correlation.\n",
    "</font> "
   ]
  },
  {
   "cell_type": "code",
   "execution_count": 53,
   "metadata": {},
   "outputs": [
    {
     "data": {
      "text/html": [
       "<div>\n",
       "<style scoped>\n",
       "    .dataframe tbody tr th:only-of-type {\n",
       "        vertical-align: middle;\n",
       "    }\n",
       "\n",
       "    .dataframe tbody tr th {\n",
       "        vertical-align: top;\n",
       "    }\n",
       "\n",
       "    .dataframe thead th {\n",
       "        text-align: right;\n",
       "    }\n",
       "</style>\n",
       "<table border=\"1\" class=\"dataframe\">\n",
       "  <thead>\n",
       "    <tr style=\"text-align: right;\">\n",
       "      <th></th>\n",
       "      <th>prazoExecucao</th>\n",
       "      <th>idcontrato</th>\n",
       "      <th>precoContratual</th>\n",
       "      <th>average_price</th>\n",
       "      <th>valueperday</th>\n",
       "    </tr>\n",
       "  </thead>\n",
       "  <tbody>\n",
       "    <tr>\n",
       "      <th>0</th>\n",
       "      <td>1</td>\n",
       "      <td>1.121841e+06</td>\n",
       "      <td>7723.544638</td>\n",
       "      <td>7723.544638</td>\n",
       "      <td>7723.544638</td>\n",
       "    </tr>\n",
       "    <tr>\n",
       "      <th>1</th>\n",
       "      <td>2</td>\n",
       "      <td>9.035357e+05</td>\n",
       "      <td>12166.240266</td>\n",
       "      <td>6083.120133</td>\n",
       "      <td>6083.120133</td>\n",
       "    </tr>\n",
       "    <tr>\n",
       "      <th>2</th>\n",
       "      <td>3</td>\n",
       "      <td>9.778957e+05</td>\n",
       "      <td>7334.601463</td>\n",
       "      <td>2444.867154</td>\n",
       "      <td>2444.867154</td>\n",
       "    </tr>\n",
       "    <tr>\n",
       "      <th>3</th>\n",
       "      <td>4</td>\n",
       "      <td>8.737384e+05</td>\n",
       "      <td>10058.216920</td>\n",
       "      <td>2514.554230</td>\n",
       "      <td>2514.554230</td>\n",
       "    </tr>\n",
       "    <tr>\n",
       "      <th>4</th>\n",
       "      <td>5</td>\n",
       "      <td>9.878923e+05</td>\n",
       "      <td>8125.913516</td>\n",
       "      <td>1625.182703</td>\n",
       "      <td>1625.182703</td>\n",
       "    </tr>\n",
       "  </tbody>\n",
       "</table>\n",
       "</div>"
      ],
      "text/plain": [
       "   prazoExecucao    idcontrato  precoContratual  average_price  valueperday\n",
       "0              1  1.121841e+06      7723.544638    7723.544638  7723.544638\n",
       "1              2  9.035357e+05     12166.240266    6083.120133  6083.120133\n",
       "2              3  9.778957e+05      7334.601463    2444.867154  2444.867154\n",
       "3              4  8.737384e+05     10058.216920    2514.554230  2514.554230\n",
       "4              5  9.878923e+05      8125.913516    1625.182703  1625.182703"
      ]
     },
     "execution_count": 53,
     "metadata": {},
     "output_type": "execute_result"
    }
   ],
   "source": [
    "#Question 8.1\n",
    "#Answer following VERSION 2 \n",
    "#\"The objective is to aggregate all contracts with a duration X, and then compute the average cost/value per day\n",
    "#of such contracts. What relationship do you observe? Are longer contracts cheaper in a daily cost? Or more expensive?\"\n",
    "\n",
    "#My interpretation is to first group the contracts by their duration then average their prices out to get the \n",
    "#average cost (kind of like the cost of one contract). Following this, we should get the value per day by dividing the\n",
    "#average cost with the number of days (aka duration of contract)..this way I have the daily cost or value per day\n",
    "\n",
    "#Create a dataframe which groups the contracts by their duration then averages the prices of all the contracts within\n",
    "#each duration group (reset the index to stop the prazoExecucao column from being an index which we can not manipulate)\n",
    "duration_df= data.groupby(data['prazoExecucao']).agg('mean').reset_index()\n",
    "\n",
    "#Add a column to the above created dataframe which contains the daily cost of a contract in each of the durations\n",
    "#Do this by dividing the price column (which was aggregated by mean) with the number of days (aka duration column)\n",
    "duration_df['valueperday']=duration_df['precoContratual']/duration_df['prazoExecucao']\n",
    "\n",
    "#Show the top of the dataframe for better understanding and visualization\n",
    "duration_df.head()\n",
    "\n",
    "#Note: just rerun if you get error, the notebook glitches sometimes for no reason!"
   ]
  },
  {
   "cell_type": "code",
   "execution_count": 54,
   "metadata": {},
   "outputs": [
    {
     "data": {
      "text/plain": [
       "-0.02190976295416385"
      ]
     },
     "execution_count": 54,
     "metadata": {},
     "output_type": "execute_result"
    }
   ],
   "source": [
    "#compute the pearson correlation between the daily cost of contracts and their duration\n",
    "duration_df['valueperday'].corr(duration_df['prazoExecucao'])"
   ]
  },
  {
   "cell_type": "code",
   "execution_count": 55,
   "metadata": {},
   "outputs": [
    {
     "data": {
      "text/plain": [
       "<function matplotlib.pyplot.show(*args, **kw)>"
      ]
     },
     "execution_count": 55,
     "metadata": {},
     "output_type": "execute_result"
    },
    {
     "data": {
      "image/png": "[encoded data removed]",
      "text/plain": [
       "<Figure size 432x288 with 1 Axes>"
      ]
     },
     "metadata": {},
     "output_type": "display_data"
    }
   ],
   "source": [
    "#Visualization of the above computed Pearson correlation for better analysis:\n",
    "\n",
    "#plot a scatterplot with x as the number of days (or contract duration), and y as the daily cost (or value per day)\n",
    "\n",
    "#specify type of plot, columns to plot and colour of plot\n",
    "plt.scatter(duration_df['prazoExecucao'],duration_df['valueperday'],c='navy')\n",
    "\n",
    "#specify the labels of the axis and the title of the plot\n",
    "plt.xlabel('Duration of contract (in days)')\n",
    "plt.ylabel('Value per Day')\n",
    "plt.title('Relationship Between Contract Duration and Value per Day')\n",
    "plt.show"
   ]
  },
  {
   "cell_type": "markdown",
   "metadata": {},
   "source": [
    "<font color='darkblue'>\n",
    "There seems to be a very weak negative correlation (-0.02) between the duration of the contract and its value per day.\n",
    "So longer contracts are cheaper in terms of daily cost but not that much cheaper. Additionally, the duration is barely impacting the price, there are many other variables at play. Hence, the very weak and negligible correlation.\n",
    "</font> "
   ]
  },
  {
   "cell_type": "markdown",
   "metadata": {},
   "source": [
    "<b>[Step 5. | 5 points ]</b> You probably have noticed that our dataset includes procurements issued by municipalities (Câmara Municipal or Município). Interesting huh?\n",
    "\n",
    "Next, we will explore municipality procurement data a bit more in detail. To that end, we will need to process our procurement dataset, in order to obtain the procurements of each municipality, aggregate the data and obtain the relevant metrics.\n",
    "\n",
    "However, the data is not uniform as some typos lead to the same municipality having different names. Moreover, there are municipal companies that have a different fiscal code than the municipalities. To make it simple, let us ignore municipal companies. Moreover, we have prepared beforehand a .csv file that lists all the NIF ids associated wit each municipality.\n",
    "\n",
    "1. Download the file MunicipiosNIF.csv from https://tinyurl.com/y9kjrgqb and load it into a dataframe;"
   ]
  },
  {
   "cell_type": "code",
   "execution_count": 56,
   "metadata": {},
   "outputs": [
    {
     "data": {
      "text/plain": [
       "dtype('O')"
      ]
     },
     "execution_count": 56,
     "metadata": {},
     "output_type": "execute_result"
    }
   ],
   "source": [
    "#load the excel file into the nif_municip dataframe\n",
    "nif_municip= pd.read_excel('MunicipiosNIF.xlsx','Sheet1')\n",
    "\n",
    "#typecast the NIF column from integer to string in order to be able to merge it in the next step\n",
    "nif_municip['NIF']=nif_municip['NIF'].astype(str)\n",
    "\n",
    "#check that the type of the NIF column has successfully converted to string\n",
    "nif_municip['NIF'].dtypes\n",
    "\n",
    "#Note: I checked if there are duplicates in this dataset by checking shape first to include 308 rows then using\n",
    "#drop_duplicates() on the NIF column and checking the shape of the dataframe again which remained at 308 rows"
   ]
  },
  {
   "cell_type": "markdown",
   "metadata": {},
   "source": [
    "2. Create a new dataframe that contains only the procurements issued by municipalities. Use the dataframe created above to aid your filtering.\n",
    "\n",
    "Note: you will end up with situations where the same municipality will have different names, although it has the same NIF. Consider using only the NIF as the unique identifier of a municipality, and if there are multiple names associated to it, to choose one. Explain how did you proceed."
   ]
  },
  {
   "cell_type": "code",
   "execution_count": 57,
   "metadata": {},
   "outputs": [
    {
     "data": {
      "text/html": [
       "<div>\n",
       "<style scoped>\n",
       "    .dataframe tbody tr th:only-of-type {\n",
       "        vertical-align: middle;\n",
       "    }\n",
       "\n",
       "    .dataframe tbody tr th {\n",
       "        vertical-align: top;\n",
       "    }\n",
       "\n",
       "    .dataframe thead th {\n",
       "        text-align: right;\n",
       "    }\n",
       "</style>\n",
       "<table border=\"1\" class=\"dataframe\">\n",
       "  <thead>\n",
       "    <tr style=\"text-align: right;\">\n",
       "      <th></th>\n",
       "      <th>idcontrato</th>\n",
       "      <th>tipoContrato</th>\n",
       "      <th>tipoprocedimento</th>\n",
       "      <th>objectoContrato</th>\n",
       "      <th>adjudicantes</th>\n",
       "      <th>adjudicatarios</th>\n",
       "      <th>dataPublicacao</th>\n",
       "      <th>dataCelebracaoContrato</th>\n",
       "      <th>precoContratual</th>\n",
       "      <th>cpv</th>\n",
       "      <th>prazoExecucao</th>\n",
       "      <th>localExecucao</th>\n",
       "      <th>fundamentacao</th>\n",
       "      <th>cpvDOC</th>\n",
       "      <th>CPV</th>\n",
       "      <th>issuerNIF</th>\n",
       "      <th>issuerName</th>\n",
       "      <th>supplierNIF</th>\n",
       "      <th>supplierName</th>\n",
       "      <th>average_price</th>\n",
       "    </tr>\n",
       "  </thead>\n",
       "  <tbody>\n",
       "    <tr>\n",
       "      <th>0</th>\n",
       "      <td>845377</td>\n",
       "      <td>Empreitadas de obras públicas</td>\n",
       "      <td>Concurso público</td>\n",
       "      <td>AMBIENTE EM MATOSINHOS – CASA MORTUÁRIA DE LAVRA</td>\n",
       "      <td>501305912 - Município de Matosinhos</td>\n",
       "      <td>500687030 - Valentim José Luís &amp;amp; Filhos, S.A.</td>\n",
       "      <td>2013-10-03</td>\n",
       "      <td>2013-08-05</td>\n",
       "      <td>297423.55</td>\n",
       "      <td>45214200-2 - Construção de edifícios escolares</td>\n",
       "      <td>240</td>\n",
       "      <td>Portugal, Porto, Matosinhos</td>\n",
       "      <td>Artigo 19.º, alínea b) do Código dos Contratos...</td>\n",
       "      <td>45214200-2</td>\n",
       "      <td>Construção de edifícios escolares</td>\n",
       "      <td>501305912</td>\n",
       "      <td>Município de Matosinhos</td>\n",
       "      <td>500687030</td>\n",
       "      <td>- Valentim José Luís &amp;amp; Filhos, S.A.</td>\n",
       "      <td>1239.264792</td>\n",
       "    </tr>\n",
       "    <tr>\n",
       "      <th>1</th>\n",
       "      <td>1297789</td>\n",
       "      <td>Empreitadas de obras públicas</td>\n",
       "      <td>Concurso público</td>\n",
       "      <td>Parque das Austrálias - Contrato n.º 5/2013</td>\n",
       "      <td>501305912 - Município de Matosinhos</td>\n",
       "      <td>507488806 - NBO - Engenharia e Ambiente, S.A</td>\n",
       "      <td>2014-11-12</td>\n",
       "      <td>2013-01-29</td>\n",
       "      <td>292301.37</td>\n",
       "      <td>45112711-2 - Trabalhos de paisagismo em parques</td>\n",
       "      <td>90</td>\n",
       "      <td>Portugal, Porto, Matosinhos</td>\n",
       "      <td>Artigo 19.º, alínea b) do Código dos Contratos...</td>\n",
       "      <td>45112711-2</td>\n",
       "      <td>Trabalhos de paisagismo em parques</td>\n",
       "      <td>501305912</td>\n",
       "      <td>Município de Matosinhos</td>\n",
       "      <td>507488806</td>\n",
       "      <td>- NBO - Engenharia e Ambiente, S.A</td>\n",
       "      <td>3247.793000</td>\n",
       "    </tr>\n",
       "    <tr>\n",
       "      <th>2</th>\n",
       "      <td>801380</td>\n",
       "      <td>Empreitadas de obras públicas</td>\n",
       "      <td>Concurso público</td>\n",
       "      <td>ESPAÇO QUADRA - INOVAÇÃO E CRIATIVIDADE</td>\n",
       "      <td>501305912 - Município de Matosinhos</td>\n",
       "      <td>503590010 - QTCIVIL - ENGENHARIA E REABILITAÇÃ...</td>\n",
       "      <td>2013-07-25</td>\n",
       "      <td>2013-07-04</td>\n",
       "      <td>274702.31</td>\n",
       "      <td>45400000-1 - Obras de acabamento de edifícios</td>\n",
       "      <td>120</td>\n",
       "      <td>Portugal, Porto, Matosinhos</td>\n",
       "      <td>Artigo 19.º, alínea b) do Código dos Contratos...</td>\n",
       "      <td>45400000-1</td>\n",
       "      <td>Obras de acabamento de edifícios</td>\n",
       "      <td>501305912</td>\n",
       "      <td>Município de Matosinhos</td>\n",
       "      <td>503590010</td>\n",
       "      <td>- QTCIVIL - ENGENHARIA E REABILITAÇÃO, S.A.</td>\n",
       "      <td>2289.185917</td>\n",
       "    </tr>\n",
       "    <tr>\n",
       "      <th>3</th>\n",
       "      <td>790849</td>\n",
       "      <td>Empreitadas de obras públicas</td>\n",
       "      <td>Concurso público</td>\n",
       "      <td>ESTAR PERTO DAS PESSOAS: HABITAÇÃO SOCIAL - CO...</td>\n",
       "      <td>501305912 - Município de Matosinhos</td>\n",
       "      <td>504125567 - PEDRIFIEL – Sociedade de Exploraçã...</td>\n",
       "      <td>2013-07-09</td>\n",
       "      <td>2013-07-02</td>\n",
       "      <td>179903.20</td>\n",
       "      <td>45110000-1 - Demolição e destruição de edifíci...</td>\n",
       "      <td>210</td>\n",
       "      <td>Portugal, Porto, Matosinhos</td>\n",
       "      <td>Artigo 19.º, alínea b) do Código dos Contratos...</td>\n",
       "      <td>45110000-1</td>\n",
       "      <td>Demolição e destruição de edifícios e movimen...</td>\n",
       "      <td>501305912</td>\n",
       "      <td>Município de Matosinhos</td>\n",
       "      <td>504125567</td>\n",
       "      <td>- PEDRIFIEL – Sociedade de Exploração de Grani...</td>\n",
       "      <td>856.681905</td>\n",
       "    </tr>\n",
       "    <tr>\n",
       "      <th>4</th>\n",
       "      <td>1011545</td>\n",
       "      <td>Aquisição de serviços | Empreitadas de obras p...</td>\n",
       "      <td>Concurso público</td>\n",
       "      <td>Valorizar as pessoas: educação – EB1/JI da Igr...</td>\n",
       "      <td>501305912 - Município de Matosinhos</td>\n",
       "      <td>501314920 - Cunha &amp;amp; Barroso, Lda</td>\n",
       "      <td>2014-03-19</td>\n",
       "      <td>2013-11-04</td>\n",
       "      <td>1562194.41</td>\n",
       "      <td>45214200-2 - Construção de edifícios escolares...</td>\n",
       "      <td>365</td>\n",
       "      <td>Portugal, Porto, Matosinhos</td>\n",
       "      <td>Artigo 19.º, alínea b) do Código dos Contratos...</td>\n",
       "      <td>45214200-2</td>\n",
       "      <td>Construção de edifícios escolares | 507000002...</td>\n",
       "      <td>501305912</td>\n",
       "      <td>Município de Matosinhos</td>\n",
       "      <td>501314920</td>\n",
       "      <td>- Cunha &amp;amp; Barroso, Lda</td>\n",
       "      <td>4279.984685</td>\n",
       "    </tr>\n",
       "  </tbody>\n",
       "</table>\n",
       "</div>"
      ],
      "text/plain": [
       "   idcontrato                                       tipoContrato  \\\n",
       "0      845377                      Empreitadas de obras públicas   \n",
       "1     1297789                      Empreitadas de obras públicas   \n",
       "2      801380                      Empreitadas de obras públicas   \n",
       "3      790849                      Empreitadas de obras públicas   \n",
       "4     1011545  Aquisição de serviços | Empreitadas de obras p...   \n",
       "\n",
       "   tipoprocedimento                                    objectoContrato  \\\n",
       "0  Concurso público   AMBIENTE EM MATOSINHOS – CASA MORTUÁRIA DE LAVRA   \n",
       "1  Concurso público        Parque das Austrálias - Contrato n.º 5/2013   \n",
       "2  Concurso público           ESPAÇO QUADRA - INOVAÇÃO E CRIATIVIDADE    \n",
       "3  Concurso público  ESTAR PERTO DAS PESSOAS: HABITAÇÃO SOCIAL - CO...   \n",
       "4  Concurso público  Valorizar as pessoas: educação – EB1/JI da Igr...   \n",
       "\n",
       "                          adjudicantes  \\\n",
       "0  501305912 - Município de Matosinhos   \n",
       "1  501305912 - Município de Matosinhos   \n",
       "2  501305912 - Município de Matosinhos   \n",
       "3  501305912 - Município de Matosinhos   \n",
       "4  501305912 - Município de Matosinhos   \n",
       "\n",
       "                                      adjudicatarios dataPublicacao  \\\n",
       "0  500687030 - Valentim José Luís &amp; Filhos, S.A.     2013-10-03   \n",
       "1       507488806 - NBO - Engenharia e Ambiente, S.A     2014-11-12   \n",
       "2  503590010 - QTCIVIL - ENGENHARIA E REABILITAÇÃ...     2013-07-25   \n",
       "3  504125567 - PEDRIFIEL – Sociedade de Exploraçã...     2013-07-09   \n",
       "4               501314920 - Cunha &amp; Barroso, Lda     2014-03-19   \n",
       "\n",
       "  dataCelebracaoContrato  precoContratual  \\\n",
       "0             2013-08-05        297423.55   \n",
       "1             2013-01-29        292301.37   \n",
       "2             2013-07-04        274702.31   \n",
       "3             2013-07-02        179903.20   \n",
       "4             2013-11-04       1562194.41   \n",
       "\n",
       "                                                 cpv  prazoExecucao  \\\n",
       "0     45214200-2 - Construção de edifícios escolares            240   \n",
       "1    45112711-2 - Trabalhos de paisagismo em parques             90   \n",
       "2      45400000-1 - Obras de acabamento de edifícios            120   \n",
       "3  45110000-1 - Demolição e destruição de edifíci...            210   \n",
       "4  45214200-2 - Construção de edifícios escolares...            365   \n",
       "\n",
       "                 localExecucao  \\\n",
       "0  Portugal, Porto, Matosinhos   \n",
       "1  Portugal, Porto, Matosinhos   \n",
       "2  Portugal, Porto, Matosinhos   \n",
       "3  Portugal, Porto, Matosinhos   \n",
       "4  Portugal, Porto, Matosinhos   \n",
       "\n",
       "                                       fundamentacao      cpvDOC  \\\n",
       "0  Artigo 19.º, alínea b) do Código dos Contratos...  45214200-2   \n",
       "1  Artigo 19.º, alínea b) do Código dos Contratos...  45112711-2   \n",
       "2  Artigo 19.º, alínea b) do Código dos Contratos...  45400000-1   \n",
       "3  Artigo 19.º, alínea b) do Código dos Contratos...  45110000-1   \n",
       "4  Artigo 19.º, alínea b) do Código dos Contratos...  45214200-2   \n",
       "\n",
       "                                                 CPV  issuerNIF  \\\n",
       "0                  Construção de edifícios escolares  501305912   \n",
       "1                 Trabalhos de paisagismo em parques  501305912   \n",
       "2                   Obras de acabamento de edifícios  501305912   \n",
       "3   Demolição e destruição de edifícios e movimen...  501305912   \n",
       "4   Construção de edifícios escolares | 507000002...  501305912   \n",
       "\n",
       "                issuerName supplierNIF  \\\n",
       "0  Município de Matosinhos   500687030   \n",
       "1  Município de Matosinhos   507488806   \n",
       "2  Município de Matosinhos   503590010   \n",
       "3  Município de Matosinhos   504125567   \n",
       "4  Município de Matosinhos   501314920   \n",
       "\n",
       "                                        supplierName  average_price  \n",
       "0            - Valentim José Luís &amp; Filhos, S.A.    1239.264792  \n",
       "1                 - NBO - Engenharia e Ambiente, S.A    3247.793000  \n",
       "2        - QTCIVIL - ENGENHARIA E REABILITAÇÃO, S.A.    2289.185917  \n",
       "3  - PEDRIFIEL – Sociedade de Exploração de Grani...     856.681905  \n",
       "4                         - Cunha &amp; Barroso, Lda    4279.984685  "
      ]
     },
     "execution_count": 57,
     "metadata": {},
     "output_type": "execute_result"
    }
   ],
   "source": [
    "#create a new dataframe by merging data and nif_municip dataframes, this is an inner join because we only want to keep\n",
    "#values that exist in both dataframes...meaning only the procurements issued by municipalities (no companies included)\n",
    "municip_issuer_df=pd.merge(data,nif_municip,how='inner',left_on='issuerNIF',right_on='NIF')\n",
    "\n",
    "#now drop the NIF column because it's exactly the same as the issuerNIF column\n",
    "municip_issuer_df=municip_issuer_df.drop('NIF',1)\n",
    "\n",
    "#remove all duplicates (in case)\n",
    "municip_issuer_df.drop_duplicates(inplace=True)\n",
    "\n",
    "#since issuerName has municipalities with different names associated, I decided to only keep the name given in the \n",
    "#Municipality column of the nif_municip dataframe (since it does not have duplicates which we confirmed in the previous cell)\n",
    "#...to do this, I made the values of the issuerName column now equal to the values of the Municipality in the newly merged dataframe\n",
    "municip_issuer_df['issuerName']=municip_issuer_df['Municipality']\n",
    "\n",
    "#now drop the Municipality column because it's exactly the same as the issuerName column\n",
    "municip_issuer_df=municip_issuer_df.drop('Municipality',1)\n",
    "\n",
    "#do a quick check on the dataframe by returning the first 5 rows\n",
    "municip_issuer_df.head()"
   ]
  },
  {
   "cell_type": "markdown",
   "metadata": {},
   "source": [
    "3. What are the top ten suppliers in terms of value to the municipality of Lisbon?"
   ]
  },
  {
   "cell_type": "code",
   "execution_count": 58,
   "metadata": {},
   "outputs": [
    {
     "name": "stdout",
     "output_type": "stream",
     "text": [
      "         NIF         Municipality\n",
      "2  500051070  Município de Lisboa\n"
     ]
    },
    {
     "data": {
      "text/html": [
       "<div>\n",
       "<style scoped>\n",
       "    .dataframe tbody tr th:only-of-type {\n",
       "        vertical-align: middle;\n",
       "    }\n",
       "\n",
       "    .dataframe tbody tr th {\n",
       "        vertical-align: top;\n",
       "    }\n",
       "\n",
       "    .dataframe thead th {\n",
       "        text-align: right;\n",
       "    }\n",
       "</style>\n",
       "<table border=\"1\" class=\"dataframe\">\n",
       "  <thead>\n",
       "    <tr style=\"text-align: right;\">\n",
       "      <th></th>\n",
       "      <th></th>\n",
       "      <th>precoContratual</th>\n",
       "    </tr>\n",
       "    <tr>\n",
       "      <th>supplierNIF</th>\n",
       "      <th>supplierName</th>\n",
       "      <th></th>\n",
       "    </tr>\n",
       "  </thead>\n",
       "  <tbody>\n",
       "    <tr>\n",
       "      <th>500243719</th>\n",
       "      <th>- Securitas - Serviços e Tecnologia de Segurança, S.A.</th>\n",
       "      <td>7073688.48</td>\n",
       "    </tr>\n",
       "    <tr>\n",
       "      <th>502220821</th>\n",
       "      <th>- Habitamega Construções, S.A.</th>\n",
       "      <td>7043241.58</td>\n",
       "    </tr>\n",
       "    <tr>\n",
       "      <th>502629428</th>\n",
       "      <th>- Euromex, Lda.</th>\n",
       "      <td>6323077.34</td>\n",
       "    </tr>\n",
       "    <tr>\n",
       "      <th>503504564</th>\n",
       "      <th>- EDP Comercial, SA</th>\n",
       "      <td>5823386.23</td>\n",
       "    </tr>\n",
       "    <tr>\n",
       "      <th>503864960</th>\n",
       "      <th>- Teixera, Pinto &amp;amp; Soares, S.A.</th>\n",
       "      <td>4446533.16</td>\n",
       "    </tr>\n",
       "    <tr>\n",
       "      <th>502185155</th>\n",
       "      <th>- CONSTRUTORA UDRA, LDA.</th>\n",
       "      <td>4442348.00</td>\n",
       "    </tr>\n",
       "    <tr>\n",
       "      <th>501323325</th>\n",
       "      <th>- Uniself Sociedade de Restaurantes Públicos e Privados SA</th>\n",
       "      <td>4408763.64</td>\n",
       "    </tr>\n",
       "    <tr>\n",
       "      <th>502544180</th>\n",
       "      <th>- VODAFONE PORTUGAL - Comunicações Pessoais, S.A.</th>\n",
       "      <td>4172563.59</td>\n",
       "    </tr>\n",
       "    <tr>\n",
       "      <th>502828110</th>\n",
       "      <th>- Controp-Congevia,SA</th>\n",
       "      <td>4137710.86</td>\n",
       "    </tr>\n",
       "    <tr>\n",
       "      <th>502212900</th>\n",
       "      <th>- XIX - CONSTRUÇÃO, PROJECTOS E GESTÃO, LDA.</th>\n",
       "      <td>3257567.47</td>\n",
       "    </tr>\n",
       "  </tbody>\n",
       "</table>\n",
       "</div>"
      ],
      "text/plain": [
       "                                                                precoContratual\n",
       "supplierNIF supplierName                                                       \n",
       "500243719   - Securitas - Serviços e Tecnologia de Seguranç...       7073688.48\n",
       "502220821   - Habitamega Construções, S.A.                           7043241.58\n",
       "502629428   - Euromex, Lda.                                          6323077.34\n",
       "503504564   - EDP Comercial, SA                                      5823386.23\n",
       "503864960   - Teixera, Pinto &amp; Soares, S.A.                      4446533.16\n",
       "502185155   - CONSTRUTORA UDRA, LDA.                                 4442348.00\n",
       "501323325   - Uniself Sociedade de Restaurantes Públicos e ...       4408763.64\n",
       "502544180   - VODAFONE PORTUGAL - Comunicações Pessoais, S.A.        4172563.59\n",
       "502828110   - Controp-Congevia,SA                                    4137710.86\n",
       "502212900   - XIX - CONSTRUÇÃO, PROJECTOS E GESTÃO, LDA.             3257567.47"
      ]
     },
     "execution_count": 58,
     "metadata": {},
     "output_type": "execute_result"
    }
   ],
   "source": [
    "#I assumed you want the names and codes of the suppliers...\n",
    "\n",
    "#get the NIF value of municipality of Lisbon \n",
    "lisbon_nif=nif_municip.loc[nif_municip['Municipality'].str.contains('Lisboa')]\n",
    "print(lisbon_nif)\n",
    "\n",
    "#create a dataframe (municip_issuer_df2) which only contains the columns listed in brackets below\n",
    "municip_issuer_df2=municip_issuer_df.filter(['issuerNIF','issuerName','supplierNIF','supplierName','precoContratual','CPV'])\n",
    "\n",
    "#create a smaller dataframe from municip_issuer_df2 that filters out only the municipality of Lisbon (so only contains\n",
    "#the rows with the issuerNIF equal to 500051070 which is that of Lisbon municipality)\n",
    "lisbon_mun=municip_issuer_df2.loc[municip_issuer_df['issuerNIF']=='500051070']\n",
    "\n",
    "#group the suppliers in this dataframe and sum their value (by summing the prices of all their associated contracts)\n",
    "#then find the top 10 suppliers with the largest sum (aka value)\n",
    "lisbon_mun.groupby(['supplierNIF','supplierName']).sum().nlargest(10,'precoContratual')\n"
   ]
  },
  {
   "cell_type": "markdown",
   "metadata": {},
   "source": [
    "4. What are the top ten services in terms of value supplied to Lisbon?"
   ]
  },
  {
   "cell_type": "code",
   "execution_count": 59,
   "metadata": {},
   "outputs": [
    {
     "data": {
      "text/html": [
       "<div>\n",
       "<style scoped>\n",
       "    .dataframe tbody tr th:only-of-type {\n",
       "        vertical-align: middle;\n",
       "    }\n",
       "\n",
       "    .dataframe tbody tr th {\n",
       "        vertical-align: top;\n",
       "    }\n",
       "\n",
       "    .dataframe thead th {\n",
       "        text-align: right;\n",
       "    }\n",
       "</style>\n",
       "<table border=\"1\" class=\"dataframe\">\n",
       "  <thead>\n",
       "    <tr style=\"text-align: right;\">\n",
       "      <th></th>\n",
       "      <th>precoContratual</th>\n",
       "    </tr>\n",
       "    <tr>\n",
       "      <th>CPV</th>\n",
       "      <th></th>\n",
       "    </tr>\n",
       "  </thead>\n",
       "  <tbody>\n",
       "    <tr>\n",
       "      <th>Construção de edifícios destinados à educação ou à investigação</th>\n",
       "      <td>14856384.77</td>\n",
       "    </tr>\n",
       "    <tr>\n",
       "      <th>Outros serviços</th>\n",
       "      <td>13960549.01</td>\n",
       "    </tr>\n",
       "    <tr>\n",
       "      <th>Construção</th>\n",
       "      <td>10531445.24</td>\n",
       "    </tr>\n",
       "    <tr>\n",
       "      <th>Serviços de limpeza</th>\n",
       "      <td>10471798.04</td>\n",
       "    </tr>\n",
       "    <tr>\n",
       "      <th>Serviços de vigilância</th>\n",
       "      <td>8109278.67</td>\n",
       "    </tr>\n",
       "    <tr>\n",
       "      <th>Trabalhos de paisagismo</th>\n",
       "      <td>7034760.35</td>\n",
       "    </tr>\n",
       "    <tr>\n",
       "      <th>Construção de edifícios multifuncionais</th>\n",
       "      <td>6578226.59</td>\n",
       "    </tr>\n",
       "    <tr>\n",
       "      <th>Construção de instalações para ocupação de tempos livres</th>\n",
       "      <td>5530271.15</td>\n",
       "    </tr>\n",
       "    <tr>\n",
       "      <th>Obras de recuperação</th>\n",
       "      <td>5459605.04</td>\n",
       "    </tr>\n",
       "    <tr>\n",
       "      <th>Serviços relacionados com a administração pública, a defesa e a segurança social</th>\n",
       "      <td>4623269.64</td>\n",
       "    </tr>\n",
       "  </tbody>\n",
       "</table>\n",
       "</div>"
      ],
      "text/plain": [
       "                                                    precoContratual\n",
       "CPV                                                                \n",
       " Construção de edifícios destinados à educação ...      14856384.77\n",
       " Outros serviços                                        13960549.01\n",
       " Construção                                             10531445.24\n",
       " Serviços de limpeza                                    10471798.04\n",
       " Serviços de vigilância                                  8109278.67\n",
       " Trabalhos de paisagismo                                 7034760.35\n",
       " Construção de edifícios multifuncionais                 6578226.59\n",
       " Construção de instalações para ocupação de tem...       5530271.15\n",
       " Obras de recuperação                                    5459605.04\n",
       " Serviços relacionados com a administração públ...       4623269.64"
      ]
     },
     "execution_count": 59,
     "metadata": {},
     "output_type": "execute_result"
    }
   ],
   "source": [
    "#I assumed you want only the description of the services for better visualization purposes which is why I am showing \n",
    "#only CPV description without the ID...\n",
    "\n",
    "#group by the service (aka CPV) and sum the prices of all contracts within each service,then find the top 10 services\n",
    "#with the largest sum (aka value)\n",
    "lisbon_mun.groupby(['CPV']).sum().nlargest(10,'precoContratual')"
   ]
  },
  {
   "cell_type": "markdown",
   "metadata": {},
   "source": []
  },
  {
   "cell_type": "markdown",
   "metadata": {},
   "source": [
    "5. Compute the average value of the procurements (only those contracted by municipalities) per supplier. Show as ab histogram the number of companies that received a total amount X from municipalities. Identify the top 10 companies that received more money from municipalities."
   ]
  },
  {
   "cell_type": "code",
   "execution_count": 60,
   "metadata": {},
   "outputs": [
    {
     "data": {
      "text/plain": [
       "supplierNIF     supplierName                      \n",
       "003596308B01    - WORLD PRESS PHOTO FOUNDATION        15375.00\n",
       "02547420303     - GEM-MATTHEWS INTERNATIONAL SRL      27000.00\n",
       "0432536163      - Última Vez VZW                       7626.40\n",
       "06371710630     - Tecnobus, S.p.a.                     7424.15\n",
       "06966442H       - Juan Angel, Sonido e Iluminacion    14750.00\n",
       "                                                        ...   \n",
       "G47478920       - ASOCIACION CULTURAL TRADIBERICA     10000.00\n",
       "G91665232       - FUNDACION MUSEO ATRAZANAS            8700.00\n",
       "GB32793115      - Guiness World Records                8500.00\n",
       "NL821174393     - Leaders 2BE BV                      49000.00\n",
       "NL821811939B01  - ReadSpeaker B.V.                     4140.00\n",
       "Name: precoContratual, Length: 17115, dtype: float64"
      ]
     },
     "execution_count": 60,
     "metadata": {},
     "output_type": "execute_result"
    }
   ],
   "source": [
    "#I assumed you want both the codes and names of the suppliers..\n",
    "\n",
    "#average value of the procurements (only those contracted by municipalities) per supplier.\n",
    "#(only those contracted by municipalities) means using the original municip_issuer_df\n",
    "#we groupby the suppliers and compute the mean price of all contracts associated with each supplier\n",
    "municip_issuer_df.groupby(['supplierNIF','supplierName']).precoContratual.mean()"
   ]
  },
  {
   "cell_type": "code",
   "execution_count": 61,
   "metadata": {},
   "outputs": [
    {
     "data": {
      "image/png": "[encoded data removed]",
      "text/plain": [
       "<Figure size 432x288 with 1 Axes>"
      ]
     },
     "metadata": {},
     "output_type": "display_data"
    }
   ],
   "source": [
    "#the Histogram\n",
    "\n",
    "#My interpretation of the question is to do groups of the different prices, and for each price group count the number \n",
    "#of suppliers in order to see how many companies received how much from municipalities..\n",
    "\n",
    "#plot a histogram with x as the amount of money received, and y as the number of companies receiving that money\n",
    "\n",
    "#specify the data to plot in the histogram, its number of bins and colour\n",
    "plt.hist(municip_issuer_df.groupby(['precoContratual']).supplierNIF.count(),bins=1000,color='tomato')\n",
    "\n",
    "#specify the title of the plot and the labels of the axis\n",
    "plt.title('Number of Companies Vs Money Received from Municipalities')\n",
    "plt.xlabel('Amount of money received')\n",
    "plt.ylabel('Number of Companies')\n",
    "\n",
    "#specify the range or limit of the x ticks\n",
    "plt.xlim(0,8)\n",
    "plt.show()"
   ]
  },
  {
   "cell_type": "code",
   "execution_count": 62,
   "metadata": {},
   "outputs": [
    {
     "data": {
      "text/plain": [
       "supplierNIF  supplierName                                                                 \n",
       "503504564    - EDP Comercial, SA                                                              1.384063e+08\n",
       "500697370    - Galp Energia, SA.                                                              6.274617e+07\n",
       "501323325    - Uniself Sociedade de Restaurantes Públicos e Privados SA                       4.563211e+07\n",
       "500126623    - GERTAL - Companhia Geral de Restaurantes e Alimentação, S.A.                   4.060677e+07\n",
       "502877472    - ECOAMBIENTE, Consultores de Engenharia, Gestão e Prestação de Serviços, Lda    2.878159e+07\n",
       "504075497    - CIP Construção, S.A.                                                           2.554026e+07\n",
       "500347506    - EUREST (PORTUGAL) - Sociedade Europeia de Restaurantes,lda.                    2.505790e+07\n",
       "501489126    - Domingos da Silva Teixeira, S.A.                                               2.406987e+07\n",
       "500246963    - Repsol Portuguesa, S.A:                                                        2.401764e+07\n",
       "500553408    - Alexandre Barbosa Borges, S. A.                                                2.191643e+07\n",
       "Name: precoContratual, dtype: float64"
      ]
     },
     "execution_count": 62,
     "metadata": {},
     "output_type": "execute_result"
    }
   ],
   "source": [
    "#the top 10 companies that received more money from municipalities \n",
    "#(I assumed you want the companies by their NIF code and name)\n",
    "\n",
    "#sum value of the procurements (only those contracted by municipalities) per supplier then sort them in descending order\n",
    "#and show the top 10\n",
    "municip_issuer_df.groupby(['supplierNIF','supplierName'])['precoContratual'].sum().sort_values(ascending=False).head(10)"
   ]
  },
  {
   "cell_type": "markdown",
   "metadata": {},
   "source": [
    "6. What is the most common \"tipo de procedimento\" of procurements issued by municipalities? <br>\n",
    "    6.1 What if you consider only procurements with a value above 50 000 euros? <br>\n",
    "    6.2 How do you relate these results with those obtained in Step 5 question 3?"
   ]
  },
  {
   "cell_type": "code",
   "execution_count": 63,
   "metadata": {},
   "outputs": [
    {
     "name": "stdout",
     "output_type": "stream",
     "text": [
      "Ajuste Direto Regime Geral                   55246\n",
      "Concurso público                              5480\n",
      "Ao abrigo de acordo-quadro (art.º 258.º)       378\n",
      "Ao abrigo de acordo-quadro (art.º 259.º)       314\n",
      "Concurso limitado por prévia qualificação       41\n",
      "Name: tipoprocedimento, dtype: int64\n",
      "The most common \"tipo de procedimento\" of procurements issued by municipalities is Ajuste Direto Regime Geral\n"
     ]
    }
   ],
   "source": [
    "#Question 6\n",
    "\n",
    "#count the number of elements in each of the different values of the tipoprocedimento column\n",
    "print(municip_issuer_df['tipoprocedimento'].value_counts())\n",
    "\n",
    "print('The most common \"tipo de procedimento\" of procurements issued by municipalities is Ajuste Direto Regime Geral')"
   ]
  },
  {
   "cell_type": "code",
   "execution_count": 64,
   "metadata": {},
   "outputs": [
    {
     "name": "stdout",
     "output_type": "stream",
     "text": [
      "Ajuste Direto Regime Geral                   7907\n",
      "Concurso público                             3863\n",
      "Ao abrigo de acordo-quadro (art.º 258.º)      140\n",
      "Ao abrigo de acordo-quadro (art.º 259.º)      107\n",
      "Concurso limitado por prévia qualificação      32\n",
      "Name: tipoprocedimento, dtype: int64\n",
      "When considering only procurements issued by municipalities with a value above 50 000 euros, the most common \"tipo de procedimento\" is still Ajuste Direto Regime Geral\n"
     ]
    }
   ],
   "source": [
    "#Question 6.1\n",
    "\n",
    "#create a new dataframe that only includes procurements issued by municipalities with a value above 50 000 euros\n",
    "proc_50k=municip_issuer_df.loc[municip_issuer_df['precoContratual']>50000]\n",
    "\n",
    "#count the number of elements in each of the different values of the tipoprocedimento column in this new dataframe\n",
    "print(proc_50k['tipoprocedimento'].value_counts())\n",
    "\n",
    "print('When considering only procurements issued by municipalities with a value above 50 000 euros, the most common \"tipo de procedimento\" is still Ajuste Direto Regime Geral')"
   ]
  },
  {
   "cell_type": "code",
   "execution_count": 65,
   "metadata": {},
   "outputs": [
    {
     "data": {
      "text/plain": [
       "Ajuste Direto Regime Geral                  518\n",
       "Concurso público                            249\n",
       "Ao abrigo de acordo-quadro (art.º 258.º)     54\n",
       "Ao abrigo de acordo-quadro (art.º 259.º)     23\n",
       "Name: tipoprocedimento, dtype: int64"
      ]
     },
     "execution_count": 65,
     "metadata": {},
     "output_type": "execute_result"
    }
   ],
   "source": [
    "#Question 6.2\n",
    "#VERSION 1\n",
    "\n",
    "#use the groupby from Step 5 number 3 and turn it into a series with the top suppliers and their NIFs as the index\n",
    "topsupp_series=lisbon_mun.groupby('supplierNIF').agg('sum').nlargest(10,'precoContratual')\n",
    "\n",
    "#filter out from the municipality dataframe the rows that contain the NIF codes of our top 10 suppliers and put it in a new df\n",
    "#(checks if value in supplierNIF column of municip_issuer_df is in the list of the indices from the top10 suppliers series)\n",
    "topsupp_df=municip_issuer_df.loc[municip_issuer_df['supplierNIF'].isin(list(topsupp_series.index))]\n",
    "\n",
    "#count the number of elements in each of the different values of the tipoprocedimento column in this new dataframe\n",
    "topsupp_df['tipoprocedimento'].value_counts()\n",
    "\n",
    "#Note if you get an error that 'lisbon_mun' is not defined please rerun step 5 question 3 which defines lisbon_mun \n",
    "#(sometimes the notebook decides to glitch randomly for no reason...again)"
   ]
  },
  {
   "cell_type": "markdown",
   "metadata": {},
   "source": [
    "<font color='darkblue'>\n",
    "I notice that the top ten suppliers to Lisbon also mostly follow Ajuste Direto Regime Geral type of procedures. We dont see any changes in the tipoprocidemento...So just like it's the most popular procedure amongst all municipalities as well as among expensive contracts (worth >50000 euros), it is also the most common in Lisbon.\n",
    "\n",
    "With all municipalities, Ajuste is the most common.\n",
    "With only the municipality of Lisbon, Ajuste is still the most common.\n",
    "</font> "
   ]
  },
  {
   "cell_type": "code",
   "execution_count": 66,
   "metadata": {},
   "outputs": [
    {
     "data": {
      "text/plain": [
       "Ajuste Direto Regime Geral                   217531\n",
       "Concurso público                              15458\n",
       "Ao abrigo de acordo-quadro (art.º 259.º)       7150\n",
       "Ao abrigo de acordo-quadro (art.º 258.º)       3983\n",
       "Concurso limitado por prévia qualificação       308\n",
       "Procedimento de negociação                       10\n",
       "Name: tipoprocedimento, dtype: int64"
      ]
     },
     "execution_count": 66,
     "metadata": {},
     "output_type": "execute_result"
    }
   ],
   "source": [
    "#VERSION 2\n",
    "data['tipoprocedimento'].value_counts()"
   ]
  },
  {
   "cell_type": "markdown",
   "metadata": {},
   "source": [
    "<font color='darkblue'>\n",
    "If I were to answer this question based on VERSION 2 which asks us to relate to Step 4 Question 3...\n",
    "\n",
    "Ajuste Direto Regime Geral is the most common tipoprocidemento for contracts with a price higher than 50000 euros. Thus, we can see that the 7907 Ajuste tipoprocidemento contracts which we found across all municipalities in Question 6.1 are in this group of 40000 contracts or right side of our histogram created in Step 4 Question 3 \n",
    "(starting from between x=4 and 5).\n",
    "\n",
    "Additionally, when looking at Step 4 Question 3, we are using the old dataset with all the potential institutions\n",
    "while in this question we are only looking at the municipalities but the result is the same. Ajuste Direto is the most common in both datasets meaning that its very popular.\n",
    "\n",
    "With all institutions, Ajuste is the most common.\n",
    "With only the municipalities, Ajuste is still the most common.\n",
    "</font>"
   ]
  },
  {
   "cell_type": "markdown",
   "metadata": {},
   "source": [
    "<b>[Step 6. | 4 points ]</b> Next, and in the spirit of a vast scientific literature on Urban Scaling Laws (https://tinyurl.com/y8ohmzx7), let us investigate the relationship between the number and value of procurements issued by municipalities and their population size.\n",
    "\n",
    "To that end we will need to download and load an additional dataset that includes the population size of each municipality. You can find the population data in the following link https://tinyurl.com/y9snl933. <br>\n",
    "This dataset was obtained from the portal pordata. As is the case in many data science projects we don't have a perfect matching key between the population data and the procurement data we have been working so far. \n",
    "\n",
    "1. Download the file popsize.csv from https://tinyurl.com/y9snl933 and load it to a dataframe. Explore the dataframe and explain how can you link this data to the procurement data."
   ]
  },
  {
   "cell_type": "code",
   "execution_count": 67,
   "metadata": {},
   "outputs": [
    {
     "data": {
      "text/html": [
       "<div>\n",
       "<style scoped>\n",
       "    .dataframe tbody tr th:only-of-type {\n",
       "        vertical-align: middle;\n",
       "    }\n",
       "\n",
       "    .dataframe tbody tr th {\n",
       "        vertical-align: top;\n",
       "    }\n",
       "\n",
       "    .dataframe thead th {\n",
       "        text-align: right;\n",
       "    }\n",
       "</style>\n",
       "<table border=\"1\" class=\"dataframe\">\n",
       "  <thead>\n",
       "    <tr style=\"text-align: right;\">\n",
       "      <th></th>\n",
       "      <th>Location</th>\n",
       "      <th>Population</th>\n",
       "    </tr>\n",
       "  </thead>\n",
       "  <tbody>\n",
       "    <tr>\n",
       "      <th>0</th>\n",
       "      <td>Arcos de Valdevez</td>\n",
       "      <td>22 284</td>\n",
       "    </tr>\n",
       "    <tr>\n",
       "      <th>1</th>\n",
       "      <td>Caminha</td>\n",
       "      <td>16 465</td>\n",
       "    </tr>\n",
       "    <tr>\n",
       "      <th>2</th>\n",
       "      <td>Melgaço</td>\n",
       "      <td>8 874</td>\n",
       "    </tr>\n",
       "    <tr>\n",
       "      <th>3</th>\n",
       "      <td>Monção</td>\n",
       "      <td>18 931</td>\n",
       "    </tr>\n",
       "    <tr>\n",
       "      <th>4</th>\n",
       "      <td>Paredes de Coura</td>\n",
       "      <td>9 039</td>\n",
       "    </tr>\n",
       "  </tbody>\n",
       "</table>\n",
       "</div>"
      ],
      "text/plain": [
       "            Location Population\n",
       "0  Arcos de Valdevez     22 284\n",
       "1            Caminha     16 465\n",
       "2            Melgaço      8 874\n",
       "3             Monção     18 931\n",
       "4   Paredes de Coura      9 039"
      ]
     },
     "execution_count": 67,
     "metadata": {},
     "output_type": "execute_result"
    }
   ],
   "source": [
    "#load the csv file into popsize_df and be careful to state the separator or delimiter as ';'\n",
    "popsize_df=pd.read_csv('popsize.csv',delimiter=';')\n",
    "\n",
    "#check by seeing the top of the df\n",
    "popsize_df.head()"
   ]
  },
  {
   "cell_type": "code",
   "execution_count": 68,
   "metadata": {},
   "outputs": [
    {
     "data": {
      "text/plain": [
       "(308, 2)"
      ]
     },
     "execution_count": 68,
     "metadata": {},
     "output_type": "execute_result"
    }
   ],
   "source": [
    "#check how many recors or rows the dataframe has\n",
    "popsize_df.shape"
   ]
  },
  {
   "cell_type": "code",
   "execution_count": 69,
   "metadata": {},
   "outputs": [
    {
     "data": {
      "text/plain": [
       "308"
      ]
     },
     "execution_count": 69,
     "metadata": {},
     "output_type": "execute_result"
    }
   ],
   "source": [
    "#check the number of unique values in the Location column\n",
    "popsize_df['Location'].nunique() \n",
    "\n",
    "#since it's the same as the number of rows, that means there are no duplicates"
   ]
  },
  {
   "cell_type": "code",
   "execution_count": 70,
   "metadata": {},
   "outputs": [
    {
     "data": {
      "text/html": [
       "<div>\n",
       "<style scoped>\n",
       "    .dataframe tbody tr th:only-of-type {\n",
       "        vertical-align: middle;\n",
       "    }\n",
       "\n",
       "    .dataframe tbody tr th {\n",
       "        vertical-align: top;\n",
       "    }\n",
       "\n",
       "    .dataframe thead th {\n",
       "        text-align: right;\n",
       "    }\n",
       "</style>\n",
       "<table border=\"1\" class=\"dataframe\">\n",
       "  <thead>\n",
       "    <tr style=\"text-align: right;\">\n",
       "      <th></th>\n",
       "      <th>NIF</th>\n",
       "      <th>Municipality</th>\n",
       "    </tr>\n",
       "  </thead>\n",
       "  <tbody>\n",
       "    <tr>\n",
       "      <th>0</th>\n",
       "      <td>500051054</td>\n",
       "      <td>Município de Almada</td>\n",
       "    </tr>\n",
       "    <tr>\n",
       "      <th>1</th>\n",
       "      <td>500051062</td>\n",
       "      <td>Município de Sintra</td>\n",
       "    </tr>\n",
       "    <tr>\n",
       "      <th>2</th>\n",
       "      <td>500051070</td>\n",
       "      <td>Município de Lisboa</td>\n",
       "    </tr>\n",
       "    <tr>\n",
       "      <th>3</th>\n",
       "      <td>500745773</td>\n",
       "      <td>Município de Alcanena</td>\n",
       "    </tr>\n",
       "    <tr>\n",
       "      <th>4</th>\n",
       "      <td>500745943</td>\n",
       "      <td>Município de Oeiras</td>\n",
       "    </tr>\n",
       "  </tbody>\n",
       "</table>\n",
       "</div>"
      ],
      "text/plain": [
       "         NIF           Municipality\n",
       "0  500051054    Município de Almada\n",
       "1  500051062    Município de Sintra\n",
       "2  500051070    Município de Lisboa\n",
       "3  500745773  Município de Alcanena\n",
       "4  500745943    Município de Oeiras"
      ]
     },
     "execution_count": 70,
     "metadata": {},
     "output_type": "execute_result"
    }
   ],
   "source": [
    "#reminder of the other dataframes I have and can be handy to merge together\n",
    "nif_municip.head()"
   ]
  },
  {
   "cell_type": "code",
   "execution_count": 71,
   "metadata": {},
   "outputs": [
    {
     "data": {
      "text/html": [
       "<div>\n",
       "<style scoped>\n",
       "    .dataframe tbody tr th:only-of-type {\n",
       "        vertical-align: middle;\n",
       "    }\n",
       "\n",
       "    .dataframe tbody tr th {\n",
       "        vertical-align: top;\n",
       "    }\n",
       "\n",
       "    .dataframe thead th {\n",
       "        text-align: right;\n",
       "    }\n",
       "</style>\n",
       "<table border=\"1\" class=\"dataframe\">\n",
       "  <thead>\n",
       "    <tr style=\"text-align: right;\">\n",
       "      <th></th>\n",
       "      <th>idcontrato</th>\n",
       "      <th>tipoContrato</th>\n",
       "      <th>tipoprocedimento</th>\n",
       "      <th>objectoContrato</th>\n",
       "      <th>adjudicantes</th>\n",
       "      <th>adjudicatarios</th>\n",
       "      <th>dataPublicacao</th>\n",
       "      <th>dataCelebracaoContrato</th>\n",
       "      <th>precoContratual</th>\n",
       "      <th>cpv</th>\n",
       "      <th>prazoExecucao</th>\n",
       "      <th>localExecucao</th>\n",
       "      <th>fundamentacao</th>\n",
       "      <th>cpvDOC</th>\n",
       "      <th>CPV</th>\n",
       "      <th>issuerNIF</th>\n",
       "      <th>issuerName</th>\n",
       "      <th>supplierNIF</th>\n",
       "      <th>supplierName</th>\n",
       "      <th>average_price</th>\n",
       "    </tr>\n",
       "  </thead>\n",
       "  <tbody>\n",
       "    <tr>\n",
       "      <th>0</th>\n",
       "      <td>845377</td>\n",
       "      <td>Empreitadas de obras públicas</td>\n",
       "      <td>Concurso público</td>\n",
       "      <td>AMBIENTE EM MATOSINHOS – CASA MORTUÁRIA DE LAVRA</td>\n",
       "      <td>501305912 - Município de Matosinhos</td>\n",
       "      <td>500687030 - Valentim José Luís &amp;amp; Filhos, S.A.</td>\n",
       "      <td>2013-10-03</td>\n",
       "      <td>2013-08-05</td>\n",
       "      <td>297423.55</td>\n",
       "      <td>45214200-2 - Construção de edifícios escolares</td>\n",
       "      <td>240</td>\n",
       "      <td>Portugal, Porto, Matosinhos</td>\n",
       "      <td>Artigo 19.º, alínea b) do Código dos Contratos...</td>\n",
       "      <td>45214200-2</td>\n",
       "      <td>Construção de edifícios escolares</td>\n",
       "      <td>501305912</td>\n",
       "      <td>Município de Matosinhos</td>\n",
       "      <td>500687030</td>\n",
       "      <td>- Valentim José Luís &amp;amp; Filhos, S.A.</td>\n",
       "      <td>1239.264792</td>\n",
       "    </tr>\n",
       "    <tr>\n",
       "      <th>1</th>\n",
       "      <td>1297789</td>\n",
       "      <td>Empreitadas de obras públicas</td>\n",
       "      <td>Concurso público</td>\n",
       "      <td>Parque das Austrálias - Contrato n.º 5/2013</td>\n",
       "      <td>501305912 - Município de Matosinhos</td>\n",
       "      <td>507488806 - NBO - Engenharia e Ambiente, S.A</td>\n",
       "      <td>2014-11-12</td>\n",
       "      <td>2013-01-29</td>\n",
       "      <td>292301.37</td>\n",
       "      <td>45112711-2 - Trabalhos de paisagismo em parques</td>\n",
       "      <td>90</td>\n",
       "      <td>Portugal, Porto, Matosinhos</td>\n",
       "      <td>Artigo 19.º, alínea b) do Código dos Contratos...</td>\n",
       "      <td>45112711-2</td>\n",
       "      <td>Trabalhos de paisagismo em parques</td>\n",
       "      <td>501305912</td>\n",
       "      <td>Município de Matosinhos</td>\n",
       "      <td>507488806</td>\n",
       "      <td>- NBO - Engenharia e Ambiente, S.A</td>\n",
       "      <td>3247.793000</td>\n",
       "    </tr>\n",
       "    <tr>\n",
       "      <th>2</th>\n",
       "      <td>801380</td>\n",
       "      <td>Empreitadas de obras públicas</td>\n",
       "      <td>Concurso público</td>\n",
       "      <td>ESPAÇO QUADRA - INOVAÇÃO E CRIATIVIDADE</td>\n",
       "      <td>501305912 - Município de Matosinhos</td>\n",
       "      <td>503590010 - QTCIVIL - ENGENHARIA E REABILITAÇÃ...</td>\n",
       "      <td>2013-07-25</td>\n",
       "      <td>2013-07-04</td>\n",
       "      <td>274702.31</td>\n",
       "      <td>45400000-1 - Obras de acabamento de edifícios</td>\n",
       "      <td>120</td>\n",
       "      <td>Portugal, Porto, Matosinhos</td>\n",
       "      <td>Artigo 19.º, alínea b) do Código dos Contratos...</td>\n",
       "      <td>45400000-1</td>\n",
       "      <td>Obras de acabamento de edifícios</td>\n",
       "      <td>501305912</td>\n",
       "      <td>Município de Matosinhos</td>\n",
       "      <td>503590010</td>\n",
       "      <td>- QTCIVIL - ENGENHARIA E REABILITAÇÃO, S.A.</td>\n",
       "      <td>2289.185917</td>\n",
       "    </tr>\n",
       "    <tr>\n",
       "      <th>3</th>\n",
       "      <td>790849</td>\n",
       "      <td>Empreitadas de obras públicas</td>\n",
       "      <td>Concurso público</td>\n",
       "      <td>ESTAR PERTO DAS PESSOAS: HABITAÇÃO SOCIAL - CO...</td>\n",
       "      <td>501305912 - Município de Matosinhos</td>\n",
       "      <td>504125567 - PEDRIFIEL – Sociedade de Exploraçã...</td>\n",
       "      <td>2013-07-09</td>\n",
       "      <td>2013-07-02</td>\n",
       "      <td>179903.20</td>\n",
       "      <td>45110000-1 - Demolição e destruição de edifíci...</td>\n",
       "      <td>210</td>\n",
       "      <td>Portugal, Porto, Matosinhos</td>\n",
       "      <td>Artigo 19.º, alínea b) do Código dos Contratos...</td>\n",
       "      <td>45110000-1</td>\n",
       "      <td>Demolição e destruição de edifícios e movimen...</td>\n",
       "      <td>501305912</td>\n",
       "      <td>Município de Matosinhos</td>\n",
       "      <td>504125567</td>\n",
       "      <td>- PEDRIFIEL – Sociedade de Exploração de Grani...</td>\n",
       "      <td>856.681905</td>\n",
       "    </tr>\n",
       "    <tr>\n",
       "      <th>4</th>\n",
       "      <td>1011545</td>\n",
       "      <td>Aquisição de serviços | Empreitadas de obras p...</td>\n",
       "      <td>Concurso público</td>\n",
       "      <td>Valorizar as pessoas: educação – EB1/JI da Igr...</td>\n",
       "      <td>501305912 - Município de Matosinhos</td>\n",
       "      <td>501314920 - Cunha &amp;amp; Barroso, Lda</td>\n",
       "      <td>2014-03-19</td>\n",
       "      <td>2013-11-04</td>\n",
       "      <td>1562194.41</td>\n",
       "      <td>45214200-2 - Construção de edifícios escolares...</td>\n",
       "      <td>365</td>\n",
       "      <td>Portugal, Porto, Matosinhos</td>\n",
       "      <td>Artigo 19.º, alínea b) do Código dos Contratos...</td>\n",
       "      <td>45214200-2</td>\n",
       "      <td>Construção de edifícios escolares | 507000002...</td>\n",
       "      <td>501305912</td>\n",
       "      <td>Município de Matosinhos</td>\n",
       "      <td>501314920</td>\n",
       "      <td>- Cunha &amp;amp; Barroso, Lda</td>\n",
       "      <td>4279.984685</td>\n",
       "    </tr>\n",
       "  </tbody>\n",
       "</table>\n",
       "</div>"
      ],
      "text/plain": [
       "   idcontrato                                       tipoContrato  \\\n",
       "0      845377                      Empreitadas de obras públicas   \n",
       "1     1297789                      Empreitadas de obras públicas   \n",
       "2      801380                      Empreitadas de obras públicas   \n",
       "3      790849                      Empreitadas de obras públicas   \n",
       "4     1011545  Aquisição de serviços | Empreitadas de obras p...   \n",
       "\n",
       "   tipoprocedimento                                    objectoContrato  \\\n",
       "0  Concurso público   AMBIENTE EM MATOSINHOS – CASA MORTUÁRIA DE LAVRA   \n",
       "1  Concurso público        Parque das Austrálias - Contrato n.º 5/2013   \n",
       "2  Concurso público           ESPAÇO QUADRA - INOVAÇÃO E CRIATIVIDADE    \n",
       "3  Concurso público  ESTAR PERTO DAS PESSOAS: HABITAÇÃO SOCIAL - CO...   \n",
       "4  Concurso público  Valorizar as pessoas: educação – EB1/JI da Igr...   \n",
       "\n",
       "                          adjudicantes  \\\n",
       "0  501305912 - Município de Matosinhos   \n",
       "1  501305912 - Município de Matosinhos   \n",
       "2  501305912 - Município de Matosinhos   \n",
       "3  501305912 - Município de Matosinhos   \n",
       "4  501305912 - Município de Matosinhos   \n",
       "\n",
       "                                      adjudicatarios dataPublicacao  \\\n",
       "0  500687030 - Valentim José Luís &amp; Filhos, S.A.     2013-10-03   \n",
       "1       507488806 - NBO - Engenharia e Ambiente, S.A     2014-11-12   \n",
       "2  503590010 - QTCIVIL - ENGENHARIA E REABILITAÇÃ...     2013-07-25   \n",
       "3  504125567 - PEDRIFIEL – Sociedade de Exploraçã...     2013-07-09   \n",
       "4               501314920 - Cunha &amp; Barroso, Lda     2014-03-19   \n",
       "\n",
       "  dataCelebracaoContrato  precoContratual  \\\n",
       "0             2013-08-05        297423.55   \n",
       "1             2013-01-29        292301.37   \n",
       "2             2013-07-04        274702.31   \n",
       "3             2013-07-02        179903.20   \n",
       "4             2013-11-04       1562194.41   \n",
       "\n",
       "                                                 cpv  prazoExecucao  \\\n",
       "0     45214200-2 - Construção de edifícios escolares            240   \n",
       "1    45112711-2 - Trabalhos de paisagismo em parques             90   \n",
       "2      45400000-1 - Obras de acabamento de edifícios            120   \n",
       "3  45110000-1 - Demolição e destruição de edifíci...            210   \n",
       "4  45214200-2 - Construção de edifícios escolares...            365   \n",
       "\n",
       "                 localExecucao  \\\n",
       "0  Portugal, Porto, Matosinhos   \n",
       "1  Portugal, Porto, Matosinhos   \n",
       "2  Portugal, Porto, Matosinhos   \n",
       "3  Portugal, Porto, Matosinhos   \n",
       "4  Portugal, Porto, Matosinhos   \n",
       "\n",
       "                                       fundamentacao      cpvDOC  \\\n",
       "0  Artigo 19.º, alínea b) do Código dos Contratos...  45214200-2   \n",
       "1  Artigo 19.º, alínea b) do Código dos Contratos...  45112711-2   \n",
       "2  Artigo 19.º, alínea b) do Código dos Contratos...  45400000-1   \n",
       "3  Artigo 19.º, alínea b) do Código dos Contratos...  45110000-1   \n",
       "4  Artigo 19.º, alínea b) do Código dos Contratos...  45214200-2   \n",
       "\n",
       "                                                 CPV  issuerNIF  \\\n",
       "0                  Construção de edifícios escolares  501305912   \n",
       "1                 Trabalhos de paisagismo em parques  501305912   \n",
       "2                   Obras de acabamento de edifícios  501305912   \n",
       "3   Demolição e destruição de edifícios e movimen...  501305912   \n",
       "4   Construção de edifícios escolares | 507000002...  501305912   \n",
       "\n",
       "                issuerName supplierNIF  \\\n",
       "0  Município de Matosinhos   500687030   \n",
       "1  Município de Matosinhos   507488806   \n",
       "2  Município de Matosinhos   503590010   \n",
       "3  Município de Matosinhos   504125567   \n",
       "4  Município de Matosinhos   501314920   \n",
       "\n",
       "                                        supplierName  average_price  \n",
       "0            - Valentim José Luís &amp; Filhos, S.A.    1239.264792  \n",
       "1                 - NBO - Engenharia e Ambiente, S.A    3247.793000  \n",
       "2        - QTCIVIL - ENGENHARIA E REABILITAÇÃO, S.A.    2289.185917  \n",
       "3  - PEDRIFIEL – Sociedade de Exploração de Grani...     856.681905  \n",
       "4                         - Cunha &amp; Barroso, Lda    4279.984685  "
      ]
     },
     "execution_count": 71,
     "metadata": {},
     "output_type": "execute_result"
    }
   ],
   "source": [
    "#reminder of the other dataframes I have and can be handy to merge together\n",
    "municip_issuer_df.head()"
   ]
  },
  {
   "cell_type": "markdown",
   "metadata": {},
   "source": [
    "Explanation:"
   ]
  },
  {
   "cell_type": "markdown",
   "metadata": {},
   "source": [
    "<font color='darkblue'>\n",
    "Option 1:\n",
    "The population dataframe (popsize_df) has a Location column which has words that are contained in the municipality dtaframe (nif_municip) in the Municipality column. Thus, I can split the Municipality column entries into words and then remove the \"Municipio de,da,do,das..\" so as to match it to the Location column in the population dataframe as much as possible. I would put this in a new column called Location and add it to the Municipality dataframe.\n",
    "\n",
    "I would then merge the population dataframe with the municipality dataframe on the Location columns which should be identical or almost identical now. Then I can merge this dataframe with the bigger procurements dataframe (data or even better the filtered one municip_issuer_df) on the NIF columns. That way I connected the location (from population) to the municipality to the NIF (in procurements)\n",
    "\n",
    "In short, I would link the Location column (from population) to the Municipality column (from municipality) and then to the issuerNIF column (from procurements data). \n",
    "</font>"
   ]
  },
  {
   "cell_type": "markdown",
   "metadata": {},
   "source": [
    "2. Create a new dataframe in which contracts are aggregated by municipality. You should have a dataframe in which the columns correspond to: NIF; Municipality Name; Population Size; Number of Issued Procurements; Total Value of Issued Procurements. Note you will have to merge at least two dataframes, and apply several aggregations."
   ]
  },
  {
   "cell_type": "markdown",
   "metadata": {},
   "source": [
    "<font color='darkblue'>\n",
    "I realize that our procurements data is for the 3 years of 2012,2013, and 2014....but I'm not sure about the population data...we don't have information about which years it considers but we will have to work with what we have...\n",
    "\n",
    "Thus, assuming that the population per municipality is the same over the years of 2012-2014, I will perform the merge \n",
    "in the following way...\n",
    "</font> "
   ]
  },
  {
   "cell_type": "code",
   "execution_count": 73,
   "metadata": {},
   "outputs": [],
   "source": [
    "#1.0 create a list which takes the Municipality column and removes 'Município de'\n",
    "\n",
    "issuerloc=list(nif_municip['Municipality'])\n",
    "splitlist=[]\n",
    "for line in issuerloc:\n",
    "    a=line.replace('Município de ','')\n",
    "    splitlist.append(a)"
   ]
  },
  {
   "cell_type": "code",
   "execution_count": 74,
   "metadata": {},
   "outputs": [],
   "source": [
    "#1.1 amend that list to also remove 'Município da'\n",
    "splitlist2=[]\n",
    "for line in splitlist:\n",
    "    b=line.replace('Município da ','')\n",
    "    splitlist2.append(b)"
   ]
  },
  {
   "cell_type": "code",
   "execution_count": 75,
   "metadata": {},
   "outputs": [],
   "source": [
    "#1.2 amend that list to also remove 'Município das'\n",
    "splitlist3=[]\n",
    "for line in splitlist2:\n",
    "    c=line.replace('Município das ','')\n",
    "    splitlist3.append(c)"
   ]
  },
  {
   "cell_type": "code",
   "execution_count": 76,
   "metadata": {},
   "outputs": [],
   "source": [
    "#1.3 amend that list to also remove 'Município do'\n",
    "splitlist4=[]\n",
    "for line in splitlist3:\n",
    "    d=line.replace('Município do ','')\n",
    "    splitlist4.append(d)"
   ]
  },
  {
   "cell_type": "code",
   "execution_count": 77,
   "metadata": {},
   "outputs": [
    {
     "data": {
      "text/html": [
       "<div>\n",
       "<style scoped>\n",
       "    .dataframe tbody tr th:only-of-type {\n",
       "        vertical-align: middle;\n",
       "    }\n",
       "\n",
       "    .dataframe tbody tr th {\n",
       "        vertical-align: top;\n",
       "    }\n",
       "\n",
       "    .dataframe thead th {\n",
       "        text-align: right;\n",
       "    }\n",
       "</style>\n",
       "<table border=\"1\" class=\"dataframe\">\n",
       "  <thead>\n",
       "    <tr style=\"text-align: right;\">\n",
       "      <th></th>\n",
       "      <th>NIF</th>\n",
       "      <th>Municipality</th>\n",
       "      <th>Location</th>\n",
       "    </tr>\n",
       "  </thead>\n",
       "  <tbody>\n",
       "    <tr>\n",
       "      <th>303</th>\n",
       "      <td>512074410</td>\n",
       "      <td>Município de Lagoa - Açores</td>\n",
       "      <td>Lagoa - Açores</td>\n",
       "    </tr>\n",
       "    <tr>\n",
       "      <th>304</th>\n",
       "      <td>512074771</td>\n",
       "      <td>Município de São Roque do Pico</td>\n",
       "      <td>São Roque do Pico</td>\n",
       "    </tr>\n",
       "    <tr>\n",
       "      <th>305</th>\n",
       "      <td>512074836</td>\n",
       "      <td>Município de Lajes das Flores</td>\n",
       "      <td>Lajes das Flores</td>\n",
       "    </tr>\n",
       "    <tr>\n",
       "      <th>306</th>\n",
       "      <td>512075506</td>\n",
       "      <td>Município das Velas</td>\n",
       "      <td>Velas</td>\n",
       "    </tr>\n",
       "    <tr>\n",
       "      <th>307</th>\n",
       "      <td>512079110</td>\n",
       "      <td>Município de Santa Cruz das Flores</td>\n",
       "      <td>Santa Cruz das Flores</td>\n",
       "    </tr>\n",
       "  </tbody>\n",
       "</table>\n",
       "</div>"
      ],
      "text/plain": [
       "           NIF                        Municipality               Location\n",
       "303  512074410         Município de Lagoa - Açores         Lagoa - Açores\n",
       "304  512074771      Município de São Roque do Pico      São Roque do Pico\n",
       "305  512074836       Município de Lajes das Flores       Lajes das Flores\n",
       "306  512075506                 Município das Velas                  Velas\n",
       "307  512079110  Município de Santa Cruz das Flores  Santa Cruz das Flores"
      ]
     },
     "execution_count": 77,
     "metadata": {},
     "output_type": "execute_result"
    }
   ],
   "source": [
    "#2. take the nif_municip dataframe and add a new column called Location filled with the list created above\n",
    "nif_municip['Location']=splitlist4\n",
    "nif_municip.tail()"
   ]
  },
  {
   "cell_type": "code",
   "execution_count": 78,
   "metadata": {},
   "outputs": [
    {
     "data": {
      "text/html": [
       "<div>\n",
       "<style scoped>\n",
       "    .dataframe tbody tr th:only-of-type {\n",
       "        vertical-align: middle;\n",
       "    }\n",
       "\n",
       "    .dataframe tbody tr th {\n",
       "        vertical-align: top;\n",
       "    }\n",
       "\n",
       "    .dataframe thead th {\n",
       "        text-align: right;\n",
       "    }\n",
       "</style>\n",
       "<table border=\"1\" class=\"dataframe\">\n",
       "  <thead>\n",
       "    <tr style=\"text-align: right;\">\n",
       "      <th></th>\n",
       "      <th>NIF</th>\n",
       "      <th>Municipality</th>\n",
       "      <th>Location</th>\n",
       "      <th>Population</th>\n",
       "    </tr>\n",
       "  </thead>\n",
       "  <tbody>\n",
       "    <tr>\n",
       "      <th>0</th>\n",
       "      <td>500051054</td>\n",
       "      <td>Município de Almada</td>\n",
       "      <td>Almada</td>\n",
       "      <td>171 481</td>\n",
       "    </tr>\n",
       "    <tr>\n",
       "      <th>1</th>\n",
       "      <td>500051062</td>\n",
       "      <td>Município de Sintra</td>\n",
       "      <td>Sintra</td>\n",
       "      <td>379 860</td>\n",
       "    </tr>\n",
       "    <tr>\n",
       "      <th>2</th>\n",
       "      <td>500051070</td>\n",
       "      <td>Município de Lisboa</td>\n",
       "      <td>Lisboa</td>\n",
       "      <td>520 549</td>\n",
       "    </tr>\n",
       "    <tr>\n",
       "      <th>3</th>\n",
       "      <td>500745773</td>\n",
       "      <td>Município de Alcanena</td>\n",
       "      <td>Alcanena</td>\n",
       "      <td>13 490</td>\n",
       "    </tr>\n",
       "    <tr>\n",
       "      <th>4</th>\n",
       "      <td>500745943</td>\n",
       "      <td>Município de Oeiras</td>\n",
       "      <td>Oeiras</td>\n",
       "      <td>172 689</td>\n",
       "    </tr>\n",
       "    <tr>\n",
       "      <th>...</th>\n",
       "      <td>...</td>\n",
       "      <td>...</td>\n",
       "      <td>...</td>\n",
       "      <td>...</td>\n",
       "    </tr>\n",
       "    <tr>\n",
       "      <th>296</th>\n",
       "      <td>512074143</td>\n",
       "      <td>Município das Lajes do Pico</td>\n",
       "      <td>Lajes do Pico</td>\n",
       "      <td>4 701</td>\n",
       "    </tr>\n",
       "    <tr>\n",
       "      <th>297</th>\n",
       "      <td>512074771</td>\n",
       "      <td>Município de São Roque do Pico</td>\n",
       "      <td>São Roque do Pico</td>\n",
       "      <td>3 371</td>\n",
       "    </tr>\n",
       "    <tr>\n",
       "      <th>298</th>\n",
       "      <td>512074836</td>\n",
       "      <td>Município de Lajes das Flores</td>\n",
       "      <td>Lajes das Flores</td>\n",
       "      <td>1 527</td>\n",
       "    </tr>\n",
       "    <tr>\n",
       "      <th>299</th>\n",
       "      <td>512075506</td>\n",
       "      <td>Município das Velas</td>\n",
       "      <td>Velas</td>\n",
       "      <td>5 347</td>\n",
       "    </tr>\n",
       "    <tr>\n",
       "      <th>300</th>\n",
       "      <td>512079110</td>\n",
       "      <td>Município de Santa Cruz das Flores</td>\n",
       "      <td>Santa Cruz das Flores</td>\n",
       "      <td>2 248</td>\n",
       "    </tr>\n",
       "  </tbody>\n",
       "</table>\n",
       "<p>301 rows × 4 columns</p>\n",
       "</div>"
      ],
      "text/plain": [
       "           NIF                        Municipality               Location  \\\n",
       "0    500051054                 Município de Almada                 Almada   \n",
       "1    500051062                 Município de Sintra                 Sintra   \n",
       "2    500051070                 Município de Lisboa                 Lisboa   \n",
       "3    500745773               Município de Alcanena               Alcanena   \n",
       "4    500745943                 Município de Oeiras                 Oeiras   \n",
       "..         ...                                 ...                    ...   \n",
       "296  512074143         Município das Lajes do Pico          Lajes do Pico   \n",
       "297  512074771      Município de São Roque do Pico      São Roque do Pico   \n",
       "298  512074836       Município de Lajes das Flores       Lajes das Flores   \n",
       "299  512075506                 Município das Velas                  Velas   \n",
       "300  512079110  Município de Santa Cruz das Flores  Santa Cruz das Flores   \n",
       "\n",
       "    Population  \n",
       "0      171 481  \n",
       "1      379 860  \n",
       "2      520 549  \n",
       "3       13 490  \n",
       "4      172 689  \n",
       "..         ...  \n",
       "296      4 701  \n",
       "297      3 371  \n",
       "298      1 527  \n",
       "299      5 347  \n",
       "300      2 248  \n",
       "\n",
       "[301 rows x 4 columns]"
      ]
     },
     "execution_count": 78,
     "metadata": {},
     "output_type": "execute_result"
    }
   ],
   "source": [
    "#merge the municipality dataframe with the population one on the Location column\n",
    "merged1=nif_municip.merge(popsize_df,how='inner',on='Location')\n",
    "merged1\n",
    "\n",
    "#notice we only have 301 rows which means 7 values are missing which is 2% of our data (7/308)"
   ]
  },
  {
   "cell_type": "code",
   "execution_count": 79,
   "metadata": {},
   "outputs": [
    {
     "data": {
      "text/html": [
       "<div>\n",
       "<style scoped>\n",
       "    .dataframe tbody tr th:only-of-type {\n",
       "        vertical-align: middle;\n",
       "    }\n",
       "\n",
       "    .dataframe tbody tr th {\n",
       "        vertical-align: top;\n",
       "    }\n",
       "\n",
       "    .dataframe thead th {\n",
       "        text-align: right;\n",
       "    }\n",
       "</style>\n",
       "<table border=\"1\" class=\"dataframe\">\n",
       "  <thead>\n",
       "    <tr style=\"text-align: right;\">\n",
       "      <th></th>\n",
       "      <th>Location</th>\n",
       "      <th>Population</th>\n",
       "    </tr>\n",
       "  </thead>\n",
       "  <tbody>\n",
       "    <tr>\n",
       "      <th>131</th>\n",
       "      <td>Castanheira de Pêra</td>\n",
       "      <td>2 983</td>\n",
       "    </tr>\n",
       "    <tr>\n",
       "      <th>157</th>\n",
       "      <td>Vila Velha de Ródão</td>\n",
       "      <td>3 407</td>\n",
       "    </tr>\n",
       "    <tr>\n",
       "      <th>228</th>\n",
       "      <td>Coruche</td>\n",
       "      <td>19 357</td>\n",
       "    </tr>\n",
       "    <tr>\n",
       "      <th>279</th>\n",
       "      <td>Lagoa [R.A.A.]</td>\n",
       "      <td>14 636</td>\n",
       "    </tr>\n",
       "    <tr>\n",
       "      <th>286</th>\n",
       "      <td>Vila da Praia da Vitória</td>\n",
       "      <td>21 532</td>\n",
       "    </tr>\n",
       "    <tr>\n",
       "      <th>288</th>\n",
       "      <td>Calheta [R.A.A.]</td>\n",
       "      <td>3 505</td>\n",
       "    </tr>\n",
       "    <tr>\n",
       "      <th>297</th>\n",
       "      <td>Calheta [R.A.M.]</td>\n",
       "      <td>11 334</td>\n",
       "    </tr>\n",
       "  </tbody>\n",
       "</table>\n",
       "</div>"
      ],
      "text/plain": [
       "                     Location Population\n",
       "131       Castanheira de Pêra      2 983\n",
       "157       Vila Velha de Ródão      3 407\n",
       "228                   Coruche     19 357\n",
       "279            Lagoa [R.A.A.]     14 636\n",
       "286  Vila da Praia da Vitória     21 532\n",
       "288          Calheta [R.A.A.]      3 505\n",
       "297          Calheta [R.A.M.]     11 334"
      ]
     },
     "execution_count": 79,
     "metadata": {},
     "output_type": "execute_result"
    }
   ],
   "source": [
    "#The result is only 301 rows out of 308...the following are the 7 missing values which we will need to manually\n",
    "#insert into our data because we don't want to lose 2% of our data when it's an easy non-time consuming fix, and will\n",
    "#affect our analysis \n",
    "\n",
    "popsize_df[~popsize_df['Location'].isin(splitlist4)]"
   ]
  },
  {
   "cell_type": "code",
   "execution_count": 80,
   "metadata": {},
   "outputs": [],
   "source": [
    "#rename all the missing values in the population dataframe to match those in the municipality dataframe so we can merge them too\n",
    "popsize_df['Location']=popsize_df['Location'].str.replace('Castanheira de Pêra','Castanheira de Pera')\n",
    "popsize_df['Location']=popsize_df['Location'].str.replace('Vila Velha de Ródão','Vila Velha de Rádío')\n",
    "popsize_df['Location']=popsize_df['Location'].str.replace('Coruche','Coruche – Câmara Municipal')\n",
    "popsize_df['Location']=popsize_df['Location'].str.replace('Lagoa \\[R.A.A.\\]','Lagoa - Açores')\n",
    "popsize_df['Location']=popsize_df['Location'].str.replace('Vila da Praia da Vitória','Praia da Vitória')\n",
    "popsize_df['Location']=popsize_df['Location'].str.replace('Calheta \\[R.A.A.\\]','Calheta São Jorge')\n",
    "popsize_df['Location']=popsize_df['Location'].str.replace('Calheta \\[R.A.M.\\]','Calheta')\n"
   ]
  },
  {
   "cell_type": "code",
   "execution_count": 81,
   "metadata": {},
   "outputs": [
    {
     "data": {
      "text/html": [
       "<div>\n",
       "<style scoped>\n",
       "    .dataframe tbody tr th:only-of-type {\n",
       "        vertical-align: middle;\n",
       "    }\n",
       "\n",
       "    .dataframe tbody tr th {\n",
       "        vertical-align: top;\n",
       "    }\n",
       "\n",
       "    .dataframe thead th {\n",
       "        text-align: right;\n",
       "    }\n",
       "</style>\n",
       "<table border=\"1\" class=\"dataframe\">\n",
       "  <thead>\n",
       "    <tr style=\"text-align: right;\">\n",
       "      <th></th>\n",
       "      <th>NIF</th>\n",
       "      <th>Municipality</th>\n",
       "      <th>Location</th>\n",
       "      <th>Population</th>\n",
       "    </tr>\n",
       "  </thead>\n",
       "  <tbody>\n",
       "    <tr>\n",
       "      <th>0</th>\n",
       "      <td>500051054</td>\n",
       "      <td>Município de Almada</td>\n",
       "      <td>Almada</td>\n",
       "      <td>171 481</td>\n",
       "    </tr>\n",
       "    <tr>\n",
       "      <th>1</th>\n",
       "      <td>500051062</td>\n",
       "      <td>Município de Sintra</td>\n",
       "      <td>Sintra</td>\n",
       "      <td>379 860</td>\n",
       "    </tr>\n",
       "    <tr>\n",
       "      <th>2</th>\n",
       "      <td>500051070</td>\n",
       "      <td>Município de Lisboa</td>\n",
       "      <td>Lisboa</td>\n",
       "      <td>520 549</td>\n",
       "    </tr>\n",
       "    <tr>\n",
       "      <th>3</th>\n",
       "      <td>500745773</td>\n",
       "      <td>Município de Alcanena</td>\n",
       "      <td>Alcanena</td>\n",
       "      <td>13 490</td>\n",
       "    </tr>\n",
       "    <tr>\n",
       "      <th>4</th>\n",
       "      <td>500745943</td>\n",
       "      <td>Município de Oeiras</td>\n",
       "      <td>Oeiras</td>\n",
       "      <td>172 689</td>\n",
       "    </tr>\n",
       "    <tr>\n",
       "      <th>...</th>\n",
       "      <td>...</td>\n",
       "      <td>...</td>\n",
       "      <td>...</td>\n",
       "      <td>...</td>\n",
       "    </tr>\n",
       "    <tr>\n",
       "      <th>303</th>\n",
       "      <td>512074410</td>\n",
       "      <td>Município de Lagoa - Açores</td>\n",
       "      <td>Lagoa - Açores</td>\n",
       "      <td>14 636</td>\n",
       "    </tr>\n",
       "    <tr>\n",
       "      <th>304</th>\n",
       "      <td>512074771</td>\n",
       "      <td>Município de São Roque do Pico</td>\n",
       "      <td>São Roque do Pico</td>\n",
       "      <td>3 371</td>\n",
       "    </tr>\n",
       "    <tr>\n",
       "      <th>305</th>\n",
       "      <td>512074836</td>\n",
       "      <td>Município de Lajes das Flores</td>\n",
       "      <td>Lajes das Flores</td>\n",
       "      <td>1 527</td>\n",
       "    </tr>\n",
       "    <tr>\n",
       "      <th>306</th>\n",
       "      <td>512075506</td>\n",
       "      <td>Município das Velas</td>\n",
       "      <td>Velas</td>\n",
       "      <td>5 347</td>\n",
       "    </tr>\n",
       "    <tr>\n",
       "      <th>307</th>\n",
       "      <td>512079110</td>\n",
       "      <td>Município de Santa Cruz das Flores</td>\n",
       "      <td>Santa Cruz das Flores</td>\n",
       "      <td>2 248</td>\n",
       "    </tr>\n",
       "  </tbody>\n",
       "</table>\n",
       "<p>308 rows × 4 columns</p>\n",
       "</div>"
      ],
      "text/plain": [
       "           NIF                        Municipality               Location  \\\n",
       "0    500051054                 Município de Almada                 Almada   \n",
       "1    500051062                 Município de Sintra                 Sintra   \n",
       "2    500051070                 Município de Lisboa                 Lisboa   \n",
       "3    500745773               Município de Alcanena               Alcanena   \n",
       "4    500745943                 Município de Oeiras                 Oeiras   \n",
       "..         ...                                 ...                    ...   \n",
       "303  512074410         Município de Lagoa - Açores         Lagoa - Açores   \n",
       "304  512074771      Município de São Roque do Pico      São Roque do Pico   \n",
       "305  512074836       Município de Lajes das Flores       Lajes das Flores   \n",
       "306  512075506                 Município das Velas                  Velas   \n",
       "307  512079110  Município de Santa Cruz das Flores  Santa Cruz das Flores   \n",
       "\n",
       "    Population  \n",
       "0      171 481  \n",
       "1      379 860  \n",
       "2      520 549  \n",
       "3       13 490  \n",
       "4      172 689  \n",
       "..         ...  \n",
       "303     14 636  \n",
       "304      3 371  \n",
       "305      1 527  \n",
       "306      5 347  \n",
       "307      2 248  \n",
       "\n",
       "[308 rows x 4 columns]"
      ]
     },
     "execution_count": 81,
     "metadata": {},
     "output_type": "execute_result"
    }
   ],
   "source": [
    "#Do the merge again and check to have 308 rows\n",
    "merged1=nif_municip.merge(popsize_df,how='inner',on='Location')\n",
    "merged1"
   ]
  },
  {
   "cell_type": "code",
   "execution_count": 82,
   "metadata": {},
   "outputs": [
    {
     "data": {
      "text/plain": [
       "issuerNIF\n",
       "500051054    2.793470e+07\n",
       "500051062    6.032375e+07\n",
       "500051070    2.016346e+08\n",
       "500745773    2.750230e+06\n",
       "500745943    6.252282e+07\n",
       "                 ...     \n",
       "512074410    2.233646e+06\n",
       "512074771    1.839125e+06\n",
       "512074836    4.843389e+06\n",
       "512075506    2.369482e+06\n",
       "512079110    1.858503e+06\n",
       "Name: precoContratual, Length: 308, dtype: float64"
      ]
     },
     "execution_count": 82,
     "metadata": {},
     "output_type": "execute_result"
    }
   ],
   "source": [
    "#compute the total value of issued procurements by doing a group by NIF on the big dataframe (municip_issuer_df) and \n",
    "#aggregating by sum...store the resulting series in the variable totval\n",
    "totval=municip_issuer_df.groupby('issuerNIF')['precoContratual'].sum()\n",
    "totval"
   ]
  },
  {
   "cell_type": "code",
   "execution_count": 83,
   "metadata": {},
   "outputs": [
    {
     "data": {
      "text/plain": [
       "issuerNIF\n",
       "500051054     724\n",
       "500051062     715\n",
       "500051070    2866\n",
       "500745773      67\n",
       "500745943    1075\n",
       "             ... \n",
       "512074410     116\n",
       "512074771      39\n",
       "512074836      20\n",
       "512075506      29\n",
       "512079110      26\n",
       "Name: precoContratual, Length: 308, dtype: int64"
      ]
     },
     "execution_count": 83,
     "metadata": {},
     "output_type": "execute_result"
    }
   ],
   "source": [
    "#compute the total number of issued procurements by doing a group by NIF on the big dataframe (municip_issuer_df) and \n",
    "#aggregating by count...store the resulting series in the variable numproc\n",
    "numproc=municip_issuer_df.groupby('issuerNIF')['precoContratual'].count()\n",
    "numproc"
   ]
  },
  {
   "cell_type": "code",
   "execution_count": 84,
   "metadata": {},
   "outputs": [],
   "source": [
    "#concat the 2 series created above to form a dataframe called dfextra (this is possible because both series have the \n",
    "#same index which is issuerNIF), axis 1 means concatenating along the columns\n",
    "dfextra=pd.concat([totval,numproc],axis=1)\n",
    "#note: the resulting dfextra dataframe has now 2 columns called precoContratual which we will drop later\n",
    "\n",
    "#add a column named Total Value of Issued Procurements to the dfextra dataframe with the same values as the totval series\n",
    "dfextra['Total Value of Issued Procurements']=totval\n",
    "\n",
    "#add a column named Number of Issued Procurements to the dfextra dataframe with the same values as the numproc series\n",
    "dfextra['Number of Issued Procurements']=numproc\n",
    "\n",
    "#drop the unnecessary precoContratual columns as we replaced them with the above added columns which have proper names\n",
    "dfextra=dfextra.drop('precoContratual',axis=1)"
   ]
  },
  {
   "cell_type": "code",
   "execution_count": 85,
   "metadata": {},
   "outputs": [
    {
     "data": {
      "text/html": [
       "<div>\n",
       "<style scoped>\n",
       "    .dataframe tbody tr th:only-of-type {\n",
       "        vertical-align: middle;\n",
       "    }\n",
       "\n",
       "    .dataframe tbody tr th {\n",
       "        vertical-align: top;\n",
       "    }\n",
       "\n",
       "    .dataframe thead th {\n",
       "        text-align: right;\n",
       "    }\n",
       "</style>\n",
       "<table border=\"1\" class=\"dataframe\">\n",
       "  <thead>\n",
       "    <tr style=\"text-align: right;\">\n",
       "      <th></th>\n",
       "      <th>NIF</th>\n",
       "      <th>Municipality Name</th>\n",
       "      <th>Population Size</th>\n",
       "      <th>Total Value of Issued Procurements</th>\n",
       "      <th>Number of Issued Procurements</th>\n",
       "    </tr>\n",
       "  </thead>\n",
       "  <tbody>\n",
       "    <tr>\n",
       "      <th>0</th>\n",
       "      <td>500051054</td>\n",
       "      <td>Almada</td>\n",
       "      <td>171481</td>\n",
       "      <td>2.793470e+07</td>\n",
       "      <td>724</td>\n",
       "    </tr>\n",
       "    <tr>\n",
       "      <th>1</th>\n",
       "      <td>500051062</td>\n",
       "      <td>Sintra</td>\n",
       "      <td>379860</td>\n",
       "      <td>6.032375e+07</td>\n",
       "      <td>715</td>\n",
       "    </tr>\n",
       "    <tr>\n",
       "      <th>2</th>\n",
       "      <td>500051070</td>\n",
       "      <td>Lisboa</td>\n",
       "      <td>520549</td>\n",
       "      <td>2.016346e+08</td>\n",
       "      <td>2866</td>\n",
       "    </tr>\n",
       "    <tr>\n",
       "      <th>3</th>\n",
       "      <td>500745773</td>\n",
       "      <td>Alcanena</td>\n",
       "      <td>13490</td>\n",
       "      <td>2.750230e+06</td>\n",
       "      <td>67</td>\n",
       "    </tr>\n",
       "    <tr>\n",
       "      <th>4</th>\n",
       "      <td>500745943</td>\n",
       "      <td>Oeiras</td>\n",
       "      <td>172689</td>\n",
       "      <td>6.252282e+07</td>\n",
       "      <td>1075</td>\n",
       "    </tr>\n",
       "    <tr>\n",
       "      <th>...</th>\n",
       "      <td>...</td>\n",
       "      <td>...</td>\n",
       "      <td>...</td>\n",
       "      <td>...</td>\n",
       "      <td>...</td>\n",
       "    </tr>\n",
       "    <tr>\n",
       "      <th>303</th>\n",
       "      <td>512074410</td>\n",
       "      <td>Lagoa - Açores</td>\n",
       "      <td>14636</td>\n",
       "      <td>2.233646e+06</td>\n",
       "      <td>116</td>\n",
       "    </tr>\n",
       "    <tr>\n",
       "      <th>304</th>\n",
       "      <td>512074771</td>\n",
       "      <td>São Roque do Pico</td>\n",
       "      <td>3371</td>\n",
       "      <td>1.839125e+06</td>\n",
       "      <td>39</td>\n",
       "    </tr>\n",
       "    <tr>\n",
       "      <th>305</th>\n",
       "      <td>512074836</td>\n",
       "      <td>Lajes das Flores</td>\n",
       "      <td>1527</td>\n",
       "      <td>4.843389e+06</td>\n",
       "      <td>20</td>\n",
       "    </tr>\n",
       "    <tr>\n",
       "      <th>306</th>\n",
       "      <td>512075506</td>\n",
       "      <td>Velas</td>\n",
       "      <td>5347</td>\n",
       "      <td>2.369482e+06</td>\n",
       "      <td>29</td>\n",
       "    </tr>\n",
       "    <tr>\n",
       "      <th>307</th>\n",
       "      <td>512079110</td>\n",
       "      <td>Santa Cruz das Flores</td>\n",
       "      <td>2248</td>\n",
       "      <td>1.858503e+06</td>\n",
       "      <td>26</td>\n",
       "    </tr>\n",
       "  </tbody>\n",
       "</table>\n",
       "<p>308 rows × 5 columns</p>\n",
       "</div>"
      ],
      "text/plain": [
       "           NIF      Municipality Name  Population Size  \\\n",
       "0    500051054                 Almada           171481   \n",
       "1    500051062                 Sintra           379860   \n",
       "2    500051070                 Lisboa           520549   \n",
       "3    500745773               Alcanena            13490   \n",
       "4    500745943                 Oeiras           172689   \n",
       "..         ...                    ...              ...   \n",
       "303  512074410         Lagoa - Açores            14636   \n",
       "304  512074771      São Roque do Pico             3371   \n",
       "305  512074836       Lajes das Flores             1527   \n",
       "306  512075506                  Velas             5347   \n",
       "307  512079110  Santa Cruz das Flores             2248   \n",
       "\n",
       "     Total Value of Issued Procurements  Number of Issued Procurements  \n",
       "0                          2.793470e+07                            724  \n",
       "1                          6.032375e+07                            715  \n",
       "2                          2.016346e+08                           2866  \n",
       "3                          2.750230e+06                             67  \n",
       "4                          6.252282e+07                           1075  \n",
       "..                                  ...                            ...  \n",
       "303                        2.233646e+06                            116  \n",
       "304                        1.839125e+06                             39  \n",
       "305                        4.843389e+06                             20  \n",
       "306                        2.369482e+06                             29  \n",
       "307                        1.858503e+06                             26  \n",
       "\n",
       "[308 rows x 5 columns]"
      ]
     },
     "execution_count": 85,
     "metadata": {},
     "output_type": "execute_result"
    }
   ],
   "source": [
    "#create a second df which joins merged1 with the above dfextra on the NIF columns, this is to add those additional\n",
    "#columns to our final dataframe which we will use troughout step 6\n",
    "\n",
    "merged2=pd.merge(merged1,dfextra,how='inner',left_on='NIF',right_on='issuerNIF')\n",
    "\n",
    "#rename the columns to match the names specified in the question\n",
    "merged2.rename(columns={'Location':'Municipality Name','Population':'Population Size'}, inplace=True)\n",
    "\n",
    "#drop the Municipality column since it's repetitive compared to the Location (or now Municipality Name) column\n",
    "merged2.drop('Municipality',axis=1,inplace=True)\n",
    "\n",
    "#change the type of the population column by typecasting it into an integer, but first remove any spaces in the string\n",
    "#e.g. string'171 481' will be integer 171481....this will be handy in the following questions\n",
    "merged2['Population Size'] = merged2['Population Size'].str.replace(' ','').astype(int)\n",
    "\n",
    "#show our dataframe with its appropriate column names and 308 rows\n",
    "merged2"
   ]
  },
  {
   "cell_type": "markdown",
   "metadata": {},
   "source": [
    "3. It is common to compare not the absolute values of the different dimensions but their Logarithm. In that sense, create three new columns in your dataframe that correspond to the Logarithm base 10 of the Total Value of Issue Procurements; Number of Issued Procurements; and Population Size."
   ]
  },
  {
   "cell_type": "code",
   "execution_count": 86,
   "metadata": {},
   "outputs": [
    {
     "data": {
      "text/html": [
       "<div>\n",
       "<style scoped>\n",
       "    .dataframe tbody tr th:only-of-type {\n",
       "        vertical-align: middle;\n",
       "    }\n",
       "\n",
       "    .dataframe tbody tr th {\n",
       "        vertical-align: top;\n",
       "    }\n",
       "\n",
       "    .dataframe thead th {\n",
       "        text-align: right;\n",
       "    }\n",
       "</style>\n",
       "<table border=\"1\" class=\"dataframe\">\n",
       "  <thead>\n",
       "    <tr style=\"text-align: right;\">\n",
       "      <th></th>\n",
       "      <th>NIF</th>\n",
       "      <th>Municipality Name</th>\n",
       "      <th>Population Size</th>\n",
       "      <th>Total Value of Issued Procurements</th>\n",
       "      <th>Number of Issued Procurements</th>\n",
       "      <th>totval_log10</th>\n",
       "      <th>numproc_log10</th>\n",
       "      <th>popsize_log10</th>\n",
       "    </tr>\n",
       "  </thead>\n",
       "  <tbody>\n",
       "    <tr>\n",
       "      <th>0</th>\n",
       "      <td>500051054</td>\n",
       "      <td>Almada</td>\n",
       "      <td>171481</td>\n",
       "      <td>2.793470e+07</td>\n",
       "      <td>724</td>\n",
       "      <td>7.446144</td>\n",
       "      <td>2.859739</td>\n",
       "      <td>5.234216</td>\n",
       "    </tr>\n",
       "    <tr>\n",
       "      <th>1</th>\n",
       "      <td>500051062</td>\n",
       "      <td>Sintra</td>\n",
       "      <td>379860</td>\n",
       "      <td>6.032375e+07</td>\n",
       "      <td>715</td>\n",
       "      <td>7.780488</td>\n",
       "      <td>2.854306</td>\n",
       "      <td>5.579624</td>\n",
       "    </tr>\n",
       "    <tr>\n",
       "      <th>2</th>\n",
       "      <td>500051070</td>\n",
       "      <td>Lisboa</td>\n",
       "      <td>520549</td>\n",
       "      <td>2.016346e+08</td>\n",
       "      <td>2866</td>\n",
       "      <td>8.304565</td>\n",
       "      <td>3.457276</td>\n",
       "      <td>5.716462</td>\n",
       "    </tr>\n",
       "    <tr>\n",
       "      <th>3</th>\n",
       "      <td>500745773</td>\n",
       "      <td>Alcanena</td>\n",
       "      <td>13490</td>\n",
       "      <td>2.750230e+06</td>\n",
       "      <td>67</td>\n",
       "      <td>6.439369</td>\n",
       "      <td>1.826075</td>\n",
       "      <td>4.130012</td>\n",
       "    </tr>\n",
       "    <tr>\n",
       "      <th>4</th>\n",
       "      <td>500745943</td>\n",
       "      <td>Oeiras</td>\n",
       "      <td>172689</td>\n",
       "      <td>6.252282e+07</td>\n",
       "      <td>1075</td>\n",
       "      <td>7.796039</td>\n",
       "      <td>3.031408</td>\n",
       "      <td>5.237265</td>\n",
       "    </tr>\n",
       "  </tbody>\n",
       "</table>\n",
       "</div>"
      ],
      "text/plain": [
       "         NIF Municipality Name  Population Size  \\\n",
       "0  500051054            Almada           171481   \n",
       "1  500051062            Sintra           379860   \n",
       "2  500051070            Lisboa           520549   \n",
       "3  500745773          Alcanena            13490   \n",
       "4  500745943            Oeiras           172689   \n",
       "\n",
       "   Total Value of Issued Procurements  Number of Issued Procurements  \\\n",
       "0                        2.793470e+07                            724   \n",
       "1                        6.032375e+07                            715   \n",
       "2                        2.016346e+08                           2866   \n",
       "3                        2.750230e+06                             67   \n",
       "4                        6.252282e+07                           1075   \n",
       "\n",
       "   totval_log10  numproc_log10  popsize_log10  \n",
       "0      7.446144       2.859739       5.234216  \n",
       "1      7.780488       2.854306       5.579624  \n",
       "2      8.304565       3.457276       5.716462  \n",
       "3      6.439369       1.826075       4.130012  \n",
       "4      7.796039       3.031408       5.237265  "
      ]
     },
     "execution_count": 86,
     "metadata": {},
     "output_type": "execute_result"
    }
   ],
   "source": [
    "#add a column with the Logarithm base 10 of the Total Value of Issued Procurements\n",
    "merged2['totval_log10'] = np.log10(merged2['Total Value of Issued Procurements']) \n",
    "\n",
    "#add a column with the Logarithm base 10 of the Total Number of Issued Procurements\n",
    "merged2['numproc_log10'] = np.log10(merged2['Number of Issued Procurements']) \n",
    "\n",
    "#add a column with the Logarithm base 10 of the Population Size\n",
    "merged2['popsize_log10'] = np.log10(merged2['Population Size']) \n",
    "\n",
    "#show the top of the dataframe to check the addition of the columns\n",
    "merged2.head()"
   ]
  },
  {
   "cell_type": "markdown",
   "metadata": {},
   "source": [
    "4. Compute the pearson correlation between the the Logarithms of the Population Size of each municipality with the Total Value of Issued Procurements and the Total Value of Issued Procurements. Make a scatter plot for each relationship to assess the identified relationship."
   ]
  },
  {
   "cell_type": "code",
   "execution_count": 87,
   "metadata": {},
   "outputs": [
    {
     "data": {
      "text/plain": [
       "numproc_log10    0.696348\n",
       "totval_log10     0.763265\n",
       "dtype: float64"
      ]
     },
     "execution_count": 87,
     "metadata": {},
     "output_type": "execute_result"
    }
   ],
   "source": [
    "#correlation between Log of the Population Size and Log of Total Number of Issued Procurements as well as Log of Total\n",
    "#Value of Issued Procurements (as per correction in VERSION 2)\n",
    "\n",
    "merged2[['numproc_log10','totval_log10']].corrwith(merged2['popsize_log10'])\n",
    "\n",
    "#for both, pearson correlation coefficient is around 0.7 which means there is a strong positive correlation. Total \n",
    "#value has a higher coefficient which means an even stronger correlation with population than the number of procurements does."
   ]
  },
  {
   "cell_type": "code",
   "execution_count": 88,
   "metadata": {},
   "outputs": [
    {
     "data": {
      "text/plain": [
       "<function matplotlib.pyplot.show(*args, **kw)>"
      ]
     },
     "execution_count": 88,
     "metadata": {},
     "output_type": "execute_result"
    },
    {
     "data": {
      "image/png": "[encoded data removed]",
      "text/plain": [
       "<Figure size 432x288 with 1 Axes>"
      ]
     },
     "metadata": {},
     "output_type": "display_data"
    }
   ],
   "source": [
    "#plot a scatterplot with x as the (log10) population size, and y as the (log10) total number of issued procurements\n",
    "\n",
    "#specify the type of plot and the columns to plot\n",
    "plt.scatter(merged2['popsize_log10'],merged2['numproc_log10'])\n",
    "\n",
    "#specify the axis labels and the title\n",
    "plt.xlabel('Population Size')\n",
    "plt.ylabel('Number of Issued Procurements')\n",
    "plt.title('Relationship Between Population Size and Number of Procurements')\n",
    "\n",
    "plt.show\n",
    "\n",
    "#The graph matches the pearson correlation computed above which helps us conclude that there is a strong positive \n",
    "#correlation between the population size and the total number of issued procurements...so as the population size \n",
    "#increases, the number of issued procurements also increases. Number of procurements has an weaker correlation \n",
    "#(lower pearson value) with population than the total value of procurements does. This means that the population size \n",
    "#has a lower impact on the number of procurements than it does on the value of procurements."
   ]
  },
  {
   "cell_type": "code",
   "execution_count": 89,
   "metadata": {},
   "outputs": [
    {
     "data": {
      "text/plain": [
       "<function matplotlib.pyplot.show(*args, **kw)>"
      ]
     },
     "execution_count": 89,
     "metadata": {},
     "output_type": "execute_result"
    },
    {
     "data": {
      "image/png": "[encoded data removed]",
      "text/plain": [
       "<Figure size 432x288 with 1 Axes>"
      ]
     },
     "metadata": {},
     "output_type": "display_data"
    }
   ],
   "source": [
    "#plot a scatterplot with x as the (log10) population size, and y as the (log10) total value of issued procurements\n",
    "\n",
    "#specify the type of plot and the columns to plot\n",
    "plt.scatter(merged2['popsize_log10'],merged2['totval_log10'])\n",
    "\n",
    "#specify the axis labels and the title\n",
    "plt.xlabel('Population Size')\n",
    "plt.ylabel('Total Value of Issued Procurements')\n",
    "plt.title('Relationship Between Population Size and Value of Procurements')\n",
    "\n",
    "plt.show\n",
    "\n",
    "#The graph matches the pearson correlation computed above which helps us conclude that there is a strong positive \n",
    "#correlation between the population size and the total value of issued procurements...so as the population size \n",
    "#increases, the value/price of issued procurements also increases. Total value has an even stronger correlation\n",
    "#with population than the number of procurements does. This means that the population size has a stronger impact on \n",
    "#the value of procurements than it does on the number of procurements."
   ]
  },
  {
   "cell_type": "markdown",
   "metadata": {},
   "source": [
    "5. Can you build a linear model using the library Statsmodel that regresses the Logarithms of the Total Value of issued procurements as a funcion of the population size? What is the coefficient that you find? <br>\n",
    "**Tip:** You might to to look for some inspiration in the final part of Lab 7"
   ]
  },
  {
   "cell_type": "code",
   "execution_count": 90,
   "metadata": {},
   "outputs": [
    {
     "name": "stdout",
     "output_type": "stream",
     "text": [
      "const            3.989094\n",
      "popsize_log10    0.667365\n",
      "dtype: float64\n",
      "                            OLS Regression Results                            \n",
      "==============================================================================\n",
      "Dep. Variable:           totval_log10   R-squared:                       0.583\n",
      "Model:                            OLS   Adj. R-squared:                  0.581\n",
      "Method:                 Least Squares   F-statistic:                     427.1\n",
      "Date:                Sun, 01 Nov 2020   Prob (F-statistic):           5.29e-60\n",
      "Time:                        12:41:40   Log-Likelihood:                -46.030\n",
      "No. Observations:                 308   AIC:                             96.06\n",
      "Df Residuals:                     306   BIC:                             103.5\n",
      "Df Model:                           1                                         \n",
      "Covariance Type:            nonrobust                                         \n",
      "=================================================================================\n",
      "                    coef    std err          t      P>|t|      [0.025      0.975]\n",
      "---------------------------------------------------------------------------------\n",
      "const             3.9891      0.137     29.081      0.000       3.719       4.259\n",
      "popsize_log10     0.6674      0.032     20.665      0.000       0.604       0.731\n",
      "==============================================================================\n",
      "Omnibus:                       27.678   Durbin-Watson:                   1.848\n",
      "Prob(Omnibus):                  0.000   Jarque-Bera (JB):               35.447\n",
      "Skew:                          -0.666   Prob(JB):                     2.01e-08\n",
      "Kurtosis:                       3.994   Cond. No.                         38.3\n",
      "==============================================================================\n",
      "\n",
      "Warnings:\n",
      "[1] Standard Errors assume that the covariance matrix of the errors is correctly specified.\n"
     ]
    }
   ],
   "source": [
    "#My interpretation: y as a function of x...y=(log10)total value of issued procurement...x=(log10)population size\n",
    "\n",
    "#import the necessary libraries\n",
    "import statsmodels.api as sm\n",
    "\n",
    "#create a linear regression model with logarithm of the Total Value of Issued Procurements as the dependent variable Y\n",
    "#and logarithm of the population size as the dependent variable X\n",
    "intercept=sm.add_constant(merged2.popsize_log10)            #add an intercept as the stats model does not add this automatically\n",
    "model = sm.OLS(merged2.totval_log10, intercept)\n",
    "\n",
    "#Since the purpose of this question is not to predict anything and only to check the relationship between the variables\n",
    "#I did not do a train-test-split\n",
    "\n",
    "#fit the model\n",
    "results = model.fit()\n",
    "\n",
    "#print its parameters or the coefficient\n",
    "print(results.params)\n",
    "\n",
    "#print the summary\n",
    "print(results.summary())\n",
    "\n",
    "\n",
    "#The coefficient I get from this model is 0.6674 (when the intercept or constant is 3.9891)"
   ]
  },
  {
   "cell_type": "markdown",
   "metadata": {},
   "source": [
    "6. What if instead of the Total Value of issued procurments you had the Value per capita (per capita means per person in the local population)? How would that impact the results in points 5.4 and 5.5?<br>\n"
   ]
  },
  {
   "cell_type": "code",
   "execution_count": 91,
   "metadata": {},
   "outputs": [
    {
     "name": "stdout",
     "output_type": "stream",
     "text": [
      "const            3.989094\n",
      "popsize_log10   -0.332635\n",
      "dtype: float64\n",
      "                            OLS Regression Results                            \n",
      "==============================================================================\n",
      "Dep. Variable:        valpercap_log10   R-squared:                       0.257\n",
      "Model:                            OLS   Adj. R-squared:                  0.255\n",
      "Method:                 Least Squares   F-statistic:                     106.1\n",
      "Date:                Sun, 01 Nov 2020   Prob (F-statistic):           1.48e-21\n",
      "Time:                        12:41:43   Log-Likelihood:                -46.030\n",
      "No. Observations:                 308   AIC:                             96.06\n",
      "Df Residuals:                     306   BIC:                             103.5\n",
      "Df Model:                           1                                         \n",
      "Covariance Type:            nonrobust                                         \n",
      "=================================================================================\n",
      "                    coef    std err          t      P>|t|      [0.025      0.975]\n",
      "---------------------------------------------------------------------------------\n",
      "const             3.9891      0.137     29.081      0.000       3.719       4.259\n",
      "popsize_log10    -0.3326      0.032    -10.300      0.000      -0.396      -0.269\n",
      "==============================================================================\n",
      "Omnibus:                       27.678   Durbin-Watson:                   1.848\n",
      "Prob(Omnibus):                  0.000   Jarque-Bera (JB):               35.447\n",
      "Skew:                          -0.666   Prob(JB):                     2.01e-08\n",
      "Kurtosis:                       3.994   Cond. No.                         38.3\n",
      "==============================================================================\n",
      "\n",
      "Warnings:\n",
      "[1] Standard Errors assume that the covariance matrix of the errors is correctly specified.\n"
     ]
    }
   ],
   "source": [
    "#My interpretation of the question is that you want the Value per Capita as a logarithm as well. As a result, I \n",
    "#calculated it by dividing total value of procurements with population first then finding the log of the value per capita\n",
    "\n",
    "#find the value per capita\n",
    "merged2['valpercap']= merged2['Total Value of Issued Procurements']/merged2['Population Size']\n",
    "\n",
    "#find log base 10 of value per capita\n",
    "merged2['valpercap_log10']=np.log10(merged2['valpercap'])\n",
    "\n",
    "#create a linear regression model with logarithm of the Value per Capita as the dependent variable Y and logarithm of \n",
    "#the population size as the dependent variable X\n",
    "intercept2=sm.add_constant(merged2.popsize_log10)     #add an intercept as the stats model does not add this automatically\n",
    "model2 = sm.OLS(merged2.valpercap_log10, intercept2)\n",
    "\n",
    "#Since the purpose of this question is not to predict anything and only to check the relationship between the variables\n",
    "#I did not do a train-test-split\n",
    "\n",
    "#fit the model\n",
    "results2 = model2.fit()\n",
    "\n",
    "#print its parameters or the coefficient\n",
    "print(results2.params)\n",
    "\n",
    "#print the summary\n",
    "print(results2.summary())\n",
    "\n",
    "#The coefficient I get from this model is -0.333 (when the intercept or constant is 3.989)"
   ]
  },
  {
   "cell_type": "code",
   "execution_count": 92,
   "metadata": {},
   "outputs": [
    {
     "data": {
      "text/plain": [
       "-0.5074003457630128"
      ]
     },
     "execution_count": 92,
     "metadata": {},
     "output_type": "execute_result"
    }
   ],
   "source": [
    "merged2['valpercap_log10'].corr(merged2['popsize_log10'])"
   ]
  },
  {
   "cell_type": "code",
   "execution_count": 93,
   "metadata": {},
   "outputs": [
    {
     "data": {
      "text/plain": [
       "<function matplotlib.pyplot.show(*args, **kw)>"
      ]
     },
     "execution_count": 93,
     "metadata": {},
     "output_type": "execute_result"
    },
    {
     "data": {
      "image/png": "[encoded data removed]",
      "text/plain": [
       "<Figure size 432x288 with 1 Axes>"
      ]
     },
     "metadata": {},
     "output_type": "display_data"
    }
   ],
   "source": [
    "#plot a scatterplot with x as the population size, and y as the value per capita\n",
    "\n",
    "#specify the type of plot and the columns to plot\n",
    "plt.scatter(merged2['popsize_log10'],merged2['valpercap_log10'])\n",
    "\n",
    "#specify the axis labels and the title\n",
    "plt.xlabel('Population Size')\n",
    "plt.ylabel('Value per Capita')\n",
    "plt.title('Relationship Between Population Size and Value Value per Capita')\n",
    "\n",
    "plt.show"
   ]
  },
  {
   "cell_type": "markdown",
   "metadata": {},
   "source": [
    "<font color='darkblue'>\n",
    "This graph shows the complete opposite of Question 6.4 as here there is a moderate negative correlation between the population size and the value per capita...so as the population size increases, the value per capita decreases. The pearson correlation coefficient here is -0.51 compared to that from Question 6.4 which is 0.76. This means that the population size has a stronger impact on the total value of procurements compared to the value per capita.\n",
    "\n",
    "Additionally, the coefficient in Question 6.5 is 0.6674 (for total value) while for this question it is -0.333 (since it's using the value per capita instead). This confirms that the population size has a lower impact (and in the opposite direction...negative) on the value per capita compared to the total value of procurements. \n",
    "\n",
    "Note that this lower coefficient also results from the fact that the values per capita are lower than the total values in general. As a result, I added an intercept to my regression models to be able to see how the r-squared changes. The r-squared (coefficient of determination) is lower for the value per capita (0.257) compared to the total value (0.583) which means my model can explain more of the variation in the total value than it can the value per capita. In conclusion, the population size has a stronger impact on the total value.\n",
    "</font> "
   ]
  },
  {
   "cell_type": "markdown",
   "metadata": {},
   "source": [
    "<b>[Step 7. | 2 point ]</b> Open Question. <br>\n",
    "Given the dataset you have been exploring, and the analysis conducted over the municipalities procurement dataset with the population data. Can you think about a question that you consider interesting to explore? Does it require obtain additional from, for instace, pordata?\n",
    "\n",
    "On this final step you have full control. Be creative and show us your ability to raise a question, identify which data you require to explore it, and report the results. Be as objective and clear as possible with your answer.\n",
    "\n",
    "Use as many cells as necessary."
   ]
  },
  {
   "cell_type": "markdown",
   "metadata": {},
   "source": [
    "<font color='darkblue'>\n",
    "Question 7:\n",
    "</font>\n",
    "Is there a relationship between the price and number of contracts in more attractive municipalities?\n",
    "    (Given that we define attractive as the municipalites with the highest number of cultural facilities OR the highest revenue from tourist accommodations)\n",
    "       \n",
    "In other words, do more attractive municipalities (with higher number of cultural facilities or higher revenue from tourist accommodations) have a higher number of contracts and/or have more expensive contracts?\n",
    "        \n",
    "        Check in the year 2013, since it's the only data available at the moment in pordata while also being available in our dataset which includes the year 2013 (use only the year 2013 for both criteria for consistency and ability to compare). Visualize your findings.\n",
    "\n",
    "<font color='darkblue'>\n",
    "Data required:\n",
    "</font>\n",
    "\n",
    "- Total number of cultural facilities in the year 2013 for each municipality.\n",
    "For this question, cultural facilities will include: number of museums, number of art galleries and number of venues for live performance\n",
    "(This is because the most attractive cities in countries tend to be the capitals and the ones with the most cultural and artistic events. Thus, we can use number of cultural facilities as a criteria for the attractiveness of a municipality)\n",
    "\n",
    "- Total revenue from tourist accommodations in the year 2013 per municipality.\n",
    "Assuming that the higher the income received from tourist accommodations, the higher the number of incoming tourists,  the more attractive the city/municipality is. Thus, we can also use this as another criteria for the attractiveness of a municipality.\n",
    "\n",
    "\n",
    "<font color='darkblue'>\n",
    "Data sources:\n",
    "</font>\n",
    "- Number of Live Performance Venues per municipality\n",
    "https://www.pordata.pt/en/DB/Municipalities/Search+Environment/Table\n",
    "Use above link or click 'more options and data' then filter the data in the link below to only include Years=2013 and Geographical Group=Municipality (https://www.pordata.pt/en/Municipalities/Cultural+facilities+number-55)\n",
    "\n",
    "- Number of Art Galleries per municipality\n",
    "https://www.pordata.pt/en/DB/Municipalities/Search+Environment/Table\n",
    "Use above link or click 'more options and data' then filter the data in the link below to only include Years=2013 and Geographical Group=Municipality \n",
    "https://www.pordata.pt/en/Municipalities/Art+galleries+and+other+places+for+temporary+exhibitions+places-58\n",
    "\n",
    "- Number of Museums per Municipality\n",
    "https://www.pordata.pt/en/DB/Municipalities/Search+Environment/Table\n",
    "Use above link or click 'more options and data' then filter the data in the link below to only include Years=2013 and Geographical Group=Municipality \n",
    "https://www.pordata.pt/en/Municipalities/Museums+number-742\n",
    "\n",
    "- Total Revenue from Tourist Accommodations per Municipality\n",
    "https://www.pordata.pt/en/DB/Municipalities/Search+Environment/Table\n",
    "Use above link or click 'more options and data' then filter the data in the link below to only include Years=2013 and Geographical Group=Municipality \n",
    "https://www.pordata.pt/en/Municipalities/Total+incomes+of+tourist+accommodations+total+and+by+type+of+establishment-769\n",
    "\n",
    "<font color='darkblue'>\n",
    "Note:\n",
    "After getting the data from the links, I had to download it into an excel file and edit it. The only editing I did was remove the pictures with the logo of the website and their associated extra rows and columns. In order to avoid you having to do all this, I have included the excel files of the data I used in this question into the zip file of my submission.\n",
    "</font>"
   ]
  },
  {
   "cell_type": "code",
   "execution_count": 95,
   "metadata": {},
   "outputs": [],
   "source": [
    "#load the data (all data is for the year 2013 only)\n",
    "tourism_df=pd.read_excel('tourism.xlsx','Table') \n",
    "artgalleries_df=pd.read_excel('artgalleries.xlsx','Table') \n",
    "venues_df=pd.read_excel('venues.xlsx','Table') \n",
    "museums_df=pd.read_excel('museums.xlsx','Table') "
   ]
  },
  {
   "cell_type": "code",
   "execution_count": 96,
   "metadata": {},
   "outputs": [],
   "source": [
    "#make the index of all dataframes equal to 'Municipality' column so we can concatenate them\n",
    "tourism_df.set_index('Municipality',inplace=True)\n",
    "artgalleries_df.set_index('Municipality',inplace=True)\n",
    "venues_df.set_index('Municipality',inplace=True)\n",
    "museums_df.set_index('Municipality',inplace=True)"
   ]
  },
  {
   "cell_type": "code",
   "execution_count": 97,
   "metadata": {},
   "outputs": [
    {
     "data": {
      "text/html": [
       "<div>\n",
       "<style scoped>\n",
       "    .dataframe tbody tr th:only-of-type {\n",
       "        vertical-align: middle;\n",
       "    }\n",
       "\n",
       "    .dataframe tbody tr th {\n",
       "        vertical-align: top;\n",
       "    }\n",
       "\n",
       "    .dataframe thead th {\n",
       "        text-align: right;\n",
       "    }\n",
       "</style>\n",
       "<table border=\"1\" class=\"dataframe\">\n",
       "  <thead>\n",
       "    <tr style=\"text-align: right;\">\n",
       "      <th></th>\n",
       "      <th>Numofgall</th>\n",
       "      <th>Numofvenues</th>\n",
       "      <th>numofmuseums</th>\n",
       "      <th>TotRev2013</th>\n",
       "    </tr>\n",
       "    <tr>\n",
       "      <th>Municipality</th>\n",
       "      <th></th>\n",
       "      <th></th>\n",
       "      <th></th>\n",
       "      <th></th>\n",
       "    </tr>\n",
       "  </thead>\n",
       "  <tbody>\n",
       "    <tr>\n",
       "      <th>Arcos de Valdevez</th>\n",
       "      <td>1</td>\n",
       "      <td>1</td>\n",
       "      <td>0</td>\n",
       "      <td>795</td>\n",
       "    </tr>\n",
       "    <tr>\n",
       "      <th>Caminha</th>\n",
       "      <td>4</td>\n",
       "      <td>0</td>\n",
       "      <td>1</td>\n",
       "      <td>1658</td>\n",
       "    </tr>\n",
       "    <tr>\n",
       "      <th>Melgaço</th>\n",
       "      <td>2</td>\n",
       "      <td>0</td>\n",
       "      <td>1</td>\n",
       "      <td>1195</td>\n",
       "    </tr>\n",
       "    <tr>\n",
       "      <th>Monção</th>\n",
       "      <td>3</td>\n",
       "      <td>0</td>\n",
       "      <td>0</td>\n",
       "      <td>0</td>\n",
       "    </tr>\n",
       "    <tr>\n",
       "      <th>Paredes de Coura</th>\n",
       "      <td>1</td>\n",
       "      <td>1</td>\n",
       "      <td>1</td>\n",
       "      <td>0</td>\n",
       "    </tr>\n",
       "  </tbody>\n",
       "</table>\n",
       "</div>"
      ],
      "text/plain": [
       "                   Numofgall  Numofvenues  numofmuseums  TotRev2013\n",
       "Municipality                                                       \n",
       "Arcos de Valdevez          1            1             0         795\n",
       "Caminha                    4            0             1        1658\n",
       "Melgaço                    2            0             1        1195\n",
       "Monção                     3            0             0           0\n",
       "Paredes de Coura           1            1             1           0"
      ]
     },
     "execution_count": 97,
     "metadata": {},
     "output_type": "execute_result"
    }
   ],
   "source": [
    "#concatenate all 4 dataframes along the columns\n",
    "step7data=pd.concat([artgalleries_df,venues_df,museums_df,tourism_df], axis=1, join='inner')\n",
    "step7data.head()"
   ]
  },
  {
   "cell_type": "code",
   "execution_count": 98,
   "metadata": {},
   "outputs": [
    {
     "data": {
      "text/html": [
       "<div>\n",
       "<style scoped>\n",
       "    .dataframe tbody tr th:only-of-type {\n",
       "        vertical-align: middle;\n",
       "    }\n",
       "\n",
       "    .dataframe tbody tr th {\n",
       "        vertical-align: top;\n",
       "    }\n",
       "\n",
       "    .dataframe thead th {\n",
       "        text-align: right;\n",
       "    }\n",
       "</style>\n",
       "<table border=\"1\" class=\"dataframe\">\n",
       "  <thead>\n",
       "    <tr style=\"text-align: right;\">\n",
       "      <th></th>\n",
       "      <th>Numofgall</th>\n",
       "      <th>Numofvenues</th>\n",
       "      <th>numofmuseums</th>\n",
       "      <th>TotRev2013</th>\n",
       "      <th>TotNumofFac</th>\n",
       "    </tr>\n",
       "    <tr>\n",
       "      <th>Municipality</th>\n",
       "      <th></th>\n",
       "      <th></th>\n",
       "      <th></th>\n",
       "      <th></th>\n",
       "      <th></th>\n",
       "    </tr>\n",
       "  </thead>\n",
       "  <tbody>\n",
       "    <tr>\n",
       "      <th>Arcos de Valdevez</th>\n",
       "      <td>1</td>\n",
       "      <td>1</td>\n",
       "      <td>0</td>\n",
       "      <td>795</td>\n",
       "      <td>2</td>\n",
       "    </tr>\n",
       "    <tr>\n",
       "      <th>Caminha</th>\n",
       "      <td>4</td>\n",
       "      <td>0</td>\n",
       "      <td>1</td>\n",
       "      <td>1658</td>\n",
       "      <td>5</td>\n",
       "    </tr>\n",
       "    <tr>\n",
       "      <th>Melgaço</th>\n",
       "      <td>2</td>\n",
       "      <td>0</td>\n",
       "      <td>1</td>\n",
       "      <td>1195</td>\n",
       "      <td>3</td>\n",
       "    </tr>\n",
       "    <tr>\n",
       "      <th>Monção</th>\n",
       "      <td>3</td>\n",
       "      <td>0</td>\n",
       "      <td>0</td>\n",
       "      <td>0</td>\n",
       "      <td>3</td>\n",
       "    </tr>\n",
       "    <tr>\n",
       "      <th>Paredes de Coura</th>\n",
       "      <td>1</td>\n",
       "      <td>1</td>\n",
       "      <td>1</td>\n",
       "      <td>0</td>\n",
       "      <td>3</td>\n",
       "    </tr>\n",
       "  </tbody>\n",
       "</table>\n",
       "</div>"
      ],
      "text/plain": [
       "                   Numofgall  Numofvenues  numofmuseums  TotRev2013  \\\n",
       "Municipality                                                          \n",
       "Arcos de Valdevez          1            1             0         795   \n",
       "Caminha                    4            0             1        1658   \n",
       "Melgaço                    2            0             1        1195   \n",
       "Monção                     3            0             0           0   \n",
       "Paredes de Coura           1            1             1           0   \n",
       "\n",
       "                   TotNumofFac  \n",
       "Municipality                    \n",
       "Arcos de Valdevez            2  \n",
       "Caminha                      5  \n",
       "Melgaço                      3  \n",
       "Monção                       3  \n",
       "Paredes de Coura             3  "
      ]
     },
     "execution_count": 98,
     "metadata": {},
     "output_type": "execute_result"
    }
   ],
   "source": [
    "#add a new column called 'TotNumofFac' (aka total number of cultural facilities) which sums the first 3 columns\n",
    "step7data['TotNumofFac']= step7data['Numofgall']+ step7data['Numofvenues']+ step7data['numofmuseums']\n",
    "\n",
    "#show the top of the dataframe\n",
    "step7data.head()"
   ]
  },
  {
   "cell_type": "code",
   "execution_count": 101,
   "metadata": {},
   "outputs": [
    {
     "data": {
      "text/html": [
       "<div>\n",
       "<style scoped>\n",
       "    .dataframe tbody tr th:only-of-type {\n",
       "        vertical-align: middle;\n",
       "    }\n",
       "\n",
       "    .dataframe tbody tr th {\n",
       "        vertical-align: top;\n",
       "    }\n",
       "\n",
       "    .dataframe thead th {\n",
       "        text-align: right;\n",
       "    }\n",
       "</style>\n",
       "<table border=\"1\" class=\"dataframe\">\n",
       "  <thead>\n",
       "    <tr style=\"text-align: right;\">\n",
       "      <th></th>\n",
       "      <th>NIF</th>\n",
       "      <th>Municipality</th>\n",
       "      <th>Location</th>\n",
       "      <th>Population</th>\n",
       "    </tr>\n",
       "  </thead>\n",
       "  <tbody>\n",
       "    <tr>\n",
       "      <th>0</th>\n",
       "      <td>500051054</td>\n",
       "      <td>Município de Almada</td>\n",
       "      <td>Almada</td>\n",
       "      <td>171 481</td>\n",
       "    </tr>\n",
       "    <tr>\n",
       "      <th>1</th>\n",
       "      <td>500051062</td>\n",
       "      <td>Município de Sintra</td>\n",
       "      <td>Sintra</td>\n",
       "      <td>379 860</td>\n",
       "    </tr>\n",
       "    <tr>\n",
       "      <th>2</th>\n",
       "      <td>500051070</td>\n",
       "      <td>Município de Lisboa</td>\n",
       "      <td>Lisboa</td>\n",
       "      <td>520 549</td>\n",
       "    </tr>\n",
       "    <tr>\n",
       "      <th>3</th>\n",
       "      <td>500745773</td>\n",
       "      <td>Município de Alcanena</td>\n",
       "      <td>Alcanena</td>\n",
       "      <td>13 490</td>\n",
       "    </tr>\n",
       "    <tr>\n",
       "      <th>4</th>\n",
       "      <td>500745943</td>\n",
       "      <td>Município de Oeiras</td>\n",
       "      <td>Oeiras</td>\n",
       "      <td>172 689</td>\n",
       "    </tr>\n",
       "    <tr>\n",
       "      <th>...</th>\n",
       "      <td>...</td>\n",
       "      <td>...</td>\n",
       "      <td>...</td>\n",
       "      <td>...</td>\n",
       "    </tr>\n",
       "    <tr>\n",
       "      <th>303</th>\n",
       "      <td>512074410</td>\n",
       "      <td>Município de Lagoa - Açores</td>\n",
       "      <td>Lagoa - Açores</td>\n",
       "      <td>14 636</td>\n",
       "    </tr>\n",
       "    <tr>\n",
       "      <th>304</th>\n",
       "      <td>512074771</td>\n",
       "      <td>Município de São Roque do Pico</td>\n",
       "      <td>São Roque do Pico</td>\n",
       "      <td>3 371</td>\n",
       "    </tr>\n",
       "    <tr>\n",
       "      <th>305</th>\n",
       "      <td>512074836</td>\n",
       "      <td>Município de Lajes das Flores</td>\n",
       "      <td>Lajes das Flores</td>\n",
       "      <td>1 527</td>\n",
       "    </tr>\n",
       "    <tr>\n",
       "      <th>306</th>\n",
       "      <td>512075506</td>\n",
       "      <td>Município das Velas</td>\n",
       "      <td>Velas</td>\n",
       "      <td>5 347</td>\n",
       "    </tr>\n",
       "    <tr>\n",
       "      <th>307</th>\n",
       "      <td>512079110</td>\n",
       "      <td>Município de Santa Cruz das Flores</td>\n",
       "      <td>Santa Cruz das Flores</td>\n",
       "      <td>2 248</td>\n",
       "    </tr>\n",
       "  </tbody>\n",
       "</table>\n",
       "<p>308 rows × 4 columns</p>\n",
       "</div>"
      ],
      "text/plain": [
       "           NIF                        Municipality               Location  \\\n",
       "0    500051054                 Município de Almada                 Almada   \n",
       "1    500051062                 Município de Sintra                 Sintra   \n",
       "2    500051070                 Município de Lisboa                 Lisboa   \n",
       "3    500745773               Município de Alcanena               Alcanena   \n",
       "4    500745943                 Município de Oeiras                 Oeiras   \n",
       "..         ...                                 ...                    ...   \n",
       "303  512074410         Município de Lagoa - Açores         Lagoa - Açores   \n",
       "304  512074771      Município de São Roque do Pico      São Roque do Pico   \n",
       "305  512074836       Município de Lajes das Flores       Lajes das Flores   \n",
       "306  512075506                 Município das Velas                  Velas   \n",
       "307  512079110  Município de Santa Cruz das Flores  Santa Cruz das Flores   \n",
       "\n",
       "    Population  \n",
       "0      171 481  \n",
       "1      379 860  \n",
       "2      520 549  \n",
       "3       13 490  \n",
       "4      172 689  \n",
       "..         ...  \n",
       "303     14 636  \n",
       "304      3 371  \n",
       "305      1 527  \n",
       "306      5 347  \n",
       "307      2 248  \n",
       "\n",
       "[308 rows x 4 columns]"
      ]
     },
     "execution_count": 101,
     "metadata": {},
     "output_type": "execute_result"
    }
   ],
   "source": [
    "#reminder as to which dataframes can be handy to merge\n",
    "merged1"
   ]
  },
  {
   "cell_type": "code",
   "execution_count": 102,
   "metadata": {},
   "outputs": [
    {
     "data": {
      "text/html": [
       "<div>\n",
       "<style scoped>\n",
       "    .dataframe tbody tr th:only-of-type {\n",
       "        vertical-align: middle;\n",
       "    }\n",
       "\n",
       "    .dataframe tbody tr th {\n",
       "        vertical-align: top;\n",
       "    }\n",
       "\n",
       "    .dataframe thead th {\n",
       "        text-align: right;\n",
       "    }\n",
       "</style>\n",
       "<table border=\"1\" class=\"dataframe\">\n",
       "  <thead>\n",
       "    <tr style=\"text-align: right;\">\n",
       "      <th></th>\n",
       "      <th>idcontrato</th>\n",
       "      <th>tipoContrato</th>\n",
       "      <th>tipoprocedimento</th>\n",
       "      <th>objectoContrato</th>\n",
       "      <th>adjudicantes</th>\n",
       "      <th>adjudicatarios</th>\n",
       "      <th>dataPublicacao</th>\n",
       "      <th>dataCelebracaoContrato</th>\n",
       "      <th>precoContratual</th>\n",
       "      <th>cpv</th>\n",
       "      <th>prazoExecucao</th>\n",
       "      <th>localExecucao</th>\n",
       "      <th>fundamentacao</th>\n",
       "      <th>cpvDOC</th>\n",
       "      <th>CPV</th>\n",
       "      <th>issuerNIF</th>\n",
       "      <th>issuerName</th>\n",
       "      <th>supplierNIF</th>\n",
       "      <th>supplierName</th>\n",
       "      <th>average_price</th>\n",
       "    </tr>\n",
       "  </thead>\n",
       "  <tbody>\n",
       "    <tr>\n",
       "      <th>0</th>\n",
       "      <td>845377</td>\n",
       "      <td>Empreitadas de obras públicas</td>\n",
       "      <td>Concurso público</td>\n",
       "      <td>AMBIENTE EM MATOSINHOS – CASA MORTUÁRIA DE LAVRA</td>\n",
       "      <td>501305912 - Município de Matosinhos</td>\n",
       "      <td>500687030 - Valentim José Luís &amp;amp; Filhos, S.A.</td>\n",
       "      <td>2013-10-03</td>\n",
       "      <td>2013-08-05</td>\n",
       "      <td>297423.55</td>\n",
       "      <td>45214200-2 - Construção de edifícios escolares</td>\n",
       "      <td>240</td>\n",
       "      <td>Portugal, Porto, Matosinhos</td>\n",
       "      <td>Artigo 19.º, alínea b) do Código dos Contratos...</td>\n",
       "      <td>45214200-2</td>\n",
       "      <td>Construção de edifícios escolares</td>\n",
       "      <td>501305912</td>\n",
       "      <td>Município de Matosinhos</td>\n",
       "      <td>500687030</td>\n",
       "      <td>- Valentim José Luís &amp;amp; Filhos, S.A.</td>\n",
       "      <td>1239.264792</td>\n",
       "    </tr>\n",
       "    <tr>\n",
       "      <th>1</th>\n",
       "      <td>1297789</td>\n",
       "      <td>Empreitadas de obras públicas</td>\n",
       "      <td>Concurso público</td>\n",
       "      <td>Parque das Austrálias - Contrato n.º 5/2013</td>\n",
       "      <td>501305912 - Município de Matosinhos</td>\n",
       "      <td>507488806 - NBO - Engenharia e Ambiente, S.A</td>\n",
       "      <td>2014-11-12</td>\n",
       "      <td>2013-01-29</td>\n",
       "      <td>292301.37</td>\n",
       "      <td>45112711-2 - Trabalhos de paisagismo em parques</td>\n",
       "      <td>90</td>\n",
       "      <td>Portugal, Porto, Matosinhos</td>\n",
       "      <td>Artigo 19.º, alínea b) do Código dos Contratos...</td>\n",
       "      <td>45112711-2</td>\n",
       "      <td>Trabalhos de paisagismo em parques</td>\n",
       "      <td>501305912</td>\n",
       "      <td>Município de Matosinhos</td>\n",
       "      <td>507488806</td>\n",
       "      <td>- NBO - Engenharia e Ambiente, S.A</td>\n",
       "      <td>3247.793000</td>\n",
       "    </tr>\n",
       "    <tr>\n",
       "      <th>2</th>\n",
       "      <td>801380</td>\n",
       "      <td>Empreitadas de obras públicas</td>\n",
       "      <td>Concurso público</td>\n",
       "      <td>ESPAÇO QUADRA - INOVAÇÃO E CRIATIVIDADE</td>\n",
       "      <td>501305912 - Município de Matosinhos</td>\n",
       "      <td>503590010 - QTCIVIL - ENGENHARIA E REABILITAÇÃ...</td>\n",
       "      <td>2013-07-25</td>\n",
       "      <td>2013-07-04</td>\n",
       "      <td>274702.31</td>\n",
       "      <td>45400000-1 - Obras de acabamento de edifícios</td>\n",
       "      <td>120</td>\n",
       "      <td>Portugal, Porto, Matosinhos</td>\n",
       "      <td>Artigo 19.º, alínea b) do Código dos Contratos...</td>\n",
       "      <td>45400000-1</td>\n",
       "      <td>Obras de acabamento de edifícios</td>\n",
       "      <td>501305912</td>\n",
       "      <td>Município de Matosinhos</td>\n",
       "      <td>503590010</td>\n",
       "      <td>- QTCIVIL - ENGENHARIA E REABILITAÇÃO, S.A.</td>\n",
       "      <td>2289.185917</td>\n",
       "    </tr>\n",
       "    <tr>\n",
       "      <th>3</th>\n",
       "      <td>790849</td>\n",
       "      <td>Empreitadas de obras públicas</td>\n",
       "      <td>Concurso público</td>\n",
       "      <td>ESTAR PERTO DAS PESSOAS: HABITAÇÃO SOCIAL - CO...</td>\n",
       "      <td>501305912 - Município de Matosinhos</td>\n",
       "      <td>504125567 - PEDRIFIEL – Sociedade de Exploraçã...</td>\n",
       "      <td>2013-07-09</td>\n",
       "      <td>2013-07-02</td>\n",
       "      <td>179903.20</td>\n",
       "      <td>45110000-1 - Demolição e destruição de edifíci...</td>\n",
       "      <td>210</td>\n",
       "      <td>Portugal, Porto, Matosinhos</td>\n",
       "      <td>Artigo 19.º, alínea b) do Código dos Contratos...</td>\n",
       "      <td>45110000-1</td>\n",
       "      <td>Demolição e destruição de edifícios e movimen...</td>\n",
       "      <td>501305912</td>\n",
       "      <td>Município de Matosinhos</td>\n",
       "      <td>504125567</td>\n",
       "      <td>- PEDRIFIEL – Sociedade de Exploração de Grani...</td>\n",
       "      <td>856.681905</td>\n",
       "    </tr>\n",
       "    <tr>\n",
       "      <th>4</th>\n",
       "      <td>1011545</td>\n",
       "      <td>Aquisição de serviços | Empreitadas de obras p...</td>\n",
       "      <td>Concurso público</td>\n",
       "      <td>Valorizar as pessoas: educação – EB1/JI da Igr...</td>\n",
       "      <td>501305912 - Município de Matosinhos</td>\n",
       "      <td>501314920 - Cunha &amp;amp; Barroso, Lda</td>\n",
       "      <td>2014-03-19</td>\n",
       "      <td>2013-11-04</td>\n",
       "      <td>1562194.41</td>\n",
       "      <td>45214200-2 - Construção de edifícios escolares...</td>\n",
       "      <td>365</td>\n",
       "      <td>Portugal, Porto, Matosinhos</td>\n",
       "      <td>Artigo 19.º, alínea b) do Código dos Contratos...</td>\n",
       "      <td>45214200-2</td>\n",
       "      <td>Construção de edifícios escolares | 507000002...</td>\n",
       "      <td>501305912</td>\n",
       "      <td>Município de Matosinhos</td>\n",
       "      <td>501314920</td>\n",
       "      <td>- Cunha &amp;amp; Barroso, Lda</td>\n",
       "      <td>4279.984685</td>\n",
       "    </tr>\n",
       "    <tr>\n",
       "      <th>...</th>\n",
       "      <td>...</td>\n",
       "      <td>...</td>\n",
       "      <td>...</td>\n",
       "      <td>...</td>\n",
       "      <td>...</td>\n",
       "      <td>...</td>\n",
       "      <td>...</td>\n",
       "      <td>...</td>\n",
       "      <td>...</td>\n",
       "      <td>...</td>\n",
       "      <td>...</td>\n",
       "      <td>...</td>\n",
       "      <td>...</td>\n",
       "      <td>...</td>\n",
       "      <td>...</td>\n",
       "      <td>...</td>\n",
       "      <td>...</td>\n",
       "      <td>...</td>\n",
       "      <td>...</td>\n",
       "      <td>...</td>\n",
       "    </tr>\n",
       "    <tr>\n",
       "      <th>61454</th>\n",
       "      <td>1268062</td>\n",
       "      <td>Aquisição de serviços</td>\n",
       "      <td>Ajuste Direto Regime Geral</td>\n",
       "      <td>Aquisição de serviços relacionados com o Ensin...</td>\n",
       "      <td>507012100 - Município da Nazaré</td>\n",
       "      <td>209398833 - Alberto Santos Lopes Valongo</td>\n",
       "      <td>2014-10-13</td>\n",
       "      <td>2014-10-08</td>\n",
       "      <td>1200.00</td>\n",
       "      <td>80000000-4 - Serviços de ensino e formação</td>\n",
       "      <td>90</td>\n",
       "      <td>Portugal, Leiria, Nazaré</td>\n",
       "      <td>Artigo 20.º, n.º 1, alínea a) do Código dos Co...</td>\n",
       "      <td>80000000-4</td>\n",
       "      <td>Serviços de ensino e formação</td>\n",
       "      <td>507012100</td>\n",
       "      <td>Município da Nazaré</td>\n",
       "      <td>209398833</td>\n",
       "      <td>- Alberto Santos Lopes Valongo</td>\n",
       "      <td>13.333333</td>\n",
       "    </tr>\n",
       "    <tr>\n",
       "      <th>61455</th>\n",
       "      <td>1268064</td>\n",
       "      <td>Aquisição de serviços</td>\n",
       "      <td>Ajuste Direto Regime Geral</td>\n",
       "      <td>Aquisição de serviços relacionados com a Música</td>\n",
       "      <td>507012100 - Município da Nazaré</td>\n",
       "      <td>194627594 - Rui Manuel Carreira Fragata</td>\n",
       "      <td>2014-10-13</td>\n",
       "      <td>2014-10-08</td>\n",
       "      <td>1800.00</td>\n",
       "      <td>80000000-4 - Serviços de ensino e formação</td>\n",
       "      <td>90</td>\n",
       "      <td>Portugal, Leiria, Nazaré</td>\n",
       "      <td>Artigo 20.º, n.º 1, alínea a) do Código dos Co...</td>\n",
       "      <td>80000000-4</td>\n",
       "      <td>Serviços de ensino e formação</td>\n",
       "      <td>507012100</td>\n",
       "      <td>Município da Nazaré</td>\n",
       "      <td>194627594</td>\n",
       "      <td>- Rui Manuel Carreira Fragata</td>\n",
       "      <td>20.000000</td>\n",
       "    </tr>\n",
       "    <tr>\n",
       "      <th>61456</th>\n",
       "      <td>3755929</td>\n",
       "      <td>Aquisição de bens móveis</td>\n",
       "      <td>Ajuste Direto Regime Geral</td>\n",
       "      <td>AQUISIÇÃO DE BENS MÓVEIS</td>\n",
       "      <td>507012100 - Município da Nazaré</td>\n",
       "      <td>506439119 - Simocerro, Lda.</td>\n",
       "      <td>2017-10-10</td>\n",
       "      <td>2014-12-15</td>\n",
       "      <td>14600.00</td>\n",
       "      <td>34952000-5 - Plataformas hidráulicas elevadoras</td>\n",
       "      <td>15</td>\n",
       "      <td>Portugal, Leiria, Nazaré</td>\n",
       "      <td>Artigo 20.º, n.º 1, alínea a) do Código dos Co...</td>\n",
       "      <td>34952000-5</td>\n",
       "      <td>Plataformas hidráulicas elevadoras</td>\n",
       "      <td>507012100</td>\n",
       "      <td>Município da Nazaré</td>\n",
       "      <td>506439119</td>\n",
       "      <td>- Simocerro, Lda.</td>\n",
       "      <td>973.333333</td>\n",
       "    </tr>\n",
       "    <tr>\n",
       "      <th>61457</th>\n",
       "      <td>3753993</td>\n",
       "      <td>Empreitadas de obras públicas</td>\n",
       "      <td>Concurso público</td>\n",
       "      <td>Empreitada</td>\n",
       "      <td>507012100 - Município da Nazaré</td>\n",
       "      <td>505563746 - Cordivias - Engenharia, Lda.</td>\n",
       "      <td>2017-10-10</td>\n",
       "      <td>2014-10-20</td>\n",
       "      <td>283800.01</td>\n",
       "      <td>45212210-1 - Construção de instalações desport...</td>\n",
       "      <td>73</td>\n",
       "      <td>Portugal, Leiria, Nazaré</td>\n",
       "      <td>Artigo 19.º, alínea b) do Código dos Contratos...</td>\n",
       "      <td>45212210-1</td>\n",
       "      <td>Construção de instalações desportivas especia...</td>\n",
       "      <td>507012100</td>\n",
       "      <td>Município da Nazaré</td>\n",
       "      <td>505563746</td>\n",
       "      <td>- Cordivias - Engenharia, Lda.</td>\n",
       "      <td>3887.671370</td>\n",
       "    </tr>\n",
       "    <tr>\n",
       "      <th>61458</th>\n",
       "      <td>1342273</td>\n",
       "      <td>Aquisição de serviços</td>\n",
       "      <td>Ajuste Direto Regime Geral</td>\n",
       "      <td>Aquisição de Serviços - Técnico de Fitness</td>\n",
       "      <td>507012100 - Município da Nazaré</td>\n",
       "      <td>219140987 - Nuno Miguel Ferreira Gonçalves</td>\n",
       "      <td>2015-01-07</td>\n",
       "      <td>2014-10-08</td>\n",
       "      <td>9792.00</td>\n",
       "      <td>92000000-1 - Serviços recreativos, culturais e...</td>\n",
       "      <td>270</td>\n",
       "      <td>Portugal, Leiria, Nazaré</td>\n",
       "      <td>Artigo 20.º, n.º 1, alínea a) do Código dos Co...</td>\n",
       "      <td>92000000-1</td>\n",
       "      <td>Serviços recreativos, culturais e desportivos</td>\n",
       "      <td>507012100</td>\n",
       "      <td>Município da Nazaré</td>\n",
       "      <td>219140987</td>\n",
       "      <td>- Nuno Miguel Ferreira Gonçalves</td>\n",
       "      <td>36.266667</td>\n",
       "    </tr>\n",
       "  </tbody>\n",
       "</table>\n",
       "<p>61459 rows × 20 columns</p>\n",
       "</div>"
      ],
      "text/plain": [
       "       idcontrato                                       tipoContrato  \\\n",
       "0          845377                      Empreitadas de obras públicas   \n",
       "1         1297789                      Empreitadas de obras públicas   \n",
       "2          801380                      Empreitadas de obras públicas   \n",
       "3          790849                      Empreitadas de obras públicas   \n",
       "4         1011545  Aquisição de serviços | Empreitadas de obras p...   \n",
       "...           ...                                                ...   \n",
       "61454     1268062                              Aquisição de serviços   \n",
       "61455     1268064                              Aquisição de serviços   \n",
       "61456     3755929                           Aquisição de bens móveis   \n",
       "61457     3753993                      Empreitadas de obras públicas   \n",
       "61458     1342273                              Aquisição de serviços   \n",
       "\n",
       "                 tipoprocedimento  \\\n",
       "0                Concurso público   \n",
       "1                Concurso público   \n",
       "2                Concurso público   \n",
       "3                Concurso público   \n",
       "4                Concurso público   \n",
       "...                           ...   \n",
       "61454  Ajuste Direto Regime Geral   \n",
       "61455  Ajuste Direto Regime Geral   \n",
       "61456  Ajuste Direto Regime Geral   \n",
       "61457            Concurso público   \n",
       "61458  Ajuste Direto Regime Geral   \n",
       "\n",
       "                                         objectoContrato  \\\n",
       "0       AMBIENTE EM MATOSINHOS – CASA MORTUÁRIA DE LAVRA   \n",
       "1            Parque das Austrálias - Contrato n.º 5/2013   \n",
       "2               ESPAÇO QUADRA - INOVAÇÃO E CRIATIVIDADE    \n",
       "3      ESTAR PERTO DAS PESSOAS: HABITAÇÃO SOCIAL - CO...   \n",
       "4      Valorizar as pessoas: educação – EB1/JI da Igr...   \n",
       "...                                                  ...   \n",
       "61454  Aquisição de serviços relacionados com o Ensin...   \n",
       "61455    Aquisição de serviços relacionados com a Música   \n",
       "61456                          AQUISIÇÃO DE BENS MÓVEIS    \n",
       "61457                                         Empreitada   \n",
       "61458         Aquisição de Serviços - Técnico de Fitness   \n",
       "\n",
       "                              adjudicantes  \\\n",
       "0      501305912 - Município de Matosinhos   \n",
       "1      501305912 - Município de Matosinhos   \n",
       "2      501305912 - Município de Matosinhos   \n",
       "3      501305912 - Município de Matosinhos   \n",
       "4      501305912 - Município de Matosinhos   \n",
       "...                                    ...   \n",
       "61454      507012100 - Município da Nazaré   \n",
       "61455      507012100 - Município da Nazaré   \n",
       "61456      507012100 - Município da Nazaré   \n",
       "61457      507012100 - Município da Nazaré   \n",
       "61458      507012100 - Município da Nazaré   \n",
       "\n",
       "                                          adjudicatarios dataPublicacao  \\\n",
       "0      500687030 - Valentim José Luís &amp; Filhos, S.A.     2013-10-03   \n",
       "1           507488806 - NBO - Engenharia e Ambiente, S.A     2014-11-12   \n",
       "2      503590010 - QTCIVIL - ENGENHARIA E REABILITAÇÃ...     2013-07-25   \n",
       "3      504125567 - PEDRIFIEL – Sociedade de Exploraçã...     2013-07-09   \n",
       "4                   501314920 - Cunha &amp; Barroso, Lda     2014-03-19   \n",
       "...                                                  ...            ...   \n",
       "61454           209398833 - Alberto Santos Lopes Valongo     2014-10-13   \n",
       "61455            194627594 - Rui Manuel Carreira Fragata     2014-10-13   \n",
       "61456                        506439119 - Simocerro, Lda.     2017-10-10   \n",
       "61457           505563746 - Cordivias - Engenharia, Lda.     2017-10-10   \n",
       "61458         219140987 - Nuno Miguel Ferreira Gonçalves     2015-01-07   \n",
       "\n",
       "      dataCelebracaoContrato  precoContratual  \\\n",
       "0                 2013-08-05        297423.55   \n",
       "1                 2013-01-29        292301.37   \n",
       "2                 2013-07-04        274702.31   \n",
       "3                 2013-07-02        179903.20   \n",
       "4                 2013-11-04       1562194.41   \n",
       "...                      ...              ...   \n",
       "61454             2014-10-08          1200.00   \n",
       "61455             2014-10-08          1800.00   \n",
       "61456             2014-12-15         14600.00   \n",
       "61457             2014-10-20        283800.01   \n",
       "61458             2014-10-08          9792.00   \n",
       "\n",
       "                                                     cpv  prazoExecucao  \\\n",
       "0         45214200-2 - Construção de edifícios escolares            240   \n",
       "1        45112711-2 - Trabalhos de paisagismo em parques             90   \n",
       "2          45400000-1 - Obras de acabamento de edifícios            120   \n",
       "3      45110000-1 - Demolição e destruição de edifíci...            210   \n",
       "4      45214200-2 - Construção de edifícios escolares...            365   \n",
       "...                                                  ...            ...   \n",
       "61454         80000000-4 - Serviços de ensino e formação             90   \n",
       "61455         80000000-4 - Serviços de ensino e formação             90   \n",
       "61456    34952000-5 - Plataformas hidráulicas elevadoras             15   \n",
       "61457  45212210-1 - Construção de instalações desport...             73   \n",
       "61458  92000000-1 - Serviços recreativos, culturais e...            270   \n",
       "\n",
       "                     localExecucao  \\\n",
       "0      Portugal, Porto, Matosinhos   \n",
       "1      Portugal, Porto, Matosinhos   \n",
       "2      Portugal, Porto, Matosinhos   \n",
       "3      Portugal, Porto, Matosinhos   \n",
       "4      Portugal, Porto, Matosinhos   \n",
       "...                            ...   \n",
       "61454     Portugal, Leiria, Nazaré   \n",
       "61455     Portugal, Leiria, Nazaré   \n",
       "61456     Portugal, Leiria, Nazaré   \n",
       "61457     Portugal, Leiria, Nazaré   \n",
       "61458     Portugal, Leiria, Nazaré   \n",
       "\n",
       "                                           fundamentacao      cpvDOC  \\\n",
       "0      Artigo 19.º, alínea b) do Código dos Contratos...  45214200-2   \n",
       "1      Artigo 19.º, alínea b) do Código dos Contratos...  45112711-2   \n",
       "2      Artigo 19.º, alínea b) do Código dos Contratos...  45400000-1   \n",
       "3      Artigo 19.º, alínea b) do Código dos Contratos...  45110000-1   \n",
       "4      Artigo 19.º, alínea b) do Código dos Contratos...  45214200-2   \n",
       "...                                                  ...         ...   \n",
       "61454  Artigo 20.º, n.º 1, alínea a) do Código dos Co...  80000000-4   \n",
       "61455  Artigo 20.º, n.º 1, alínea a) do Código dos Co...  80000000-4   \n",
       "61456  Artigo 20.º, n.º 1, alínea a) do Código dos Co...  34952000-5   \n",
       "61457  Artigo 19.º, alínea b) do Código dos Contratos...  45212210-1   \n",
       "61458  Artigo 20.º, n.º 1, alínea a) do Código dos Co...  92000000-1   \n",
       "\n",
       "                                                     CPV  issuerNIF  \\\n",
       "0                      Construção de edifícios escolares  501305912   \n",
       "1                     Trabalhos de paisagismo em parques  501305912   \n",
       "2                       Obras de acabamento de edifícios  501305912   \n",
       "3       Demolição e destruição de edifícios e movimen...  501305912   \n",
       "4       Construção de edifícios escolares | 507000002...  501305912   \n",
       "...                                                  ...        ...   \n",
       "61454                      Serviços de ensino e formação  507012100   \n",
       "61455                      Serviços de ensino e formação  507012100   \n",
       "61456                 Plataformas hidráulicas elevadoras  507012100   \n",
       "61457   Construção de instalações desportivas especia...  507012100   \n",
       "61458      Serviços recreativos, culturais e desportivos  507012100   \n",
       "\n",
       "                    issuerName supplierNIF  \\\n",
       "0      Município de Matosinhos   500687030   \n",
       "1      Município de Matosinhos   507488806   \n",
       "2      Município de Matosinhos   503590010   \n",
       "3      Município de Matosinhos   504125567   \n",
       "4      Município de Matosinhos   501314920   \n",
       "...                        ...         ...   \n",
       "61454      Município da Nazaré   209398833   \n",
       "61455      Município da Nazaré   194627594   \n",
       "61456      Município da Nazaré   506439119   \n",
       "61457      Município da Nazaré   505563746   \n",
       "61458      Município da Nazaré   219140987   \n",
       "\n",
       "                                            supplierName  average_price  \n",
       "0                - Valentim José Luís &amp; Filhos, S.A.    1239.264792  \n",
       "1                     - NBO - Engenharia e Ambiente, S.A    3247.793000  \n",
       "2            - QTCIVIL - ENGENHARIA E REABILITAÇÃO, S.A.    2289.185917  \n",
       "3      - PEDRIFIEL – Sociedade de Exploração de Grani...     856.681905  \n",
       "4                             - Cunha &amp; Barroso, Lda    4279.984685  \n",
       "...                                                  ...            ...  \n",
       "61454                     - Alberto Santos Lopes Valongo      13.333333  \n",
       "61455                      - Rui Manuel Carreira Fragata      20.000000  \n",
       "61456                                  - Simocerro, Lda.     973.333333  \n",
       "61457                     - Cordivias - Engenharia, Lda.    3887.671370  \n",
       "61458                   - Nuno Miguel Ferreira Gonçalves      36.266667  \n",
       "\n",
       "[61459 rows x 20 columns]"
      ]
     },
     "execution_count": 102,
     "metadata": {},
     "output_type": "execute_result"
    }
   ],
   "source": [
    "#reminder as to which dataframes can be handy to merge\n",
    "municip_issuer_df"
   ]
  },
  {
   "cell_type": "code",
   "execution_count": 103,
   "metadata": {},
   "outputs": [
    {
     "data": {
      "text/html": [
       "<div>\n",
       "<style scoped>\n",
       "    .dataframe tbody tr th:only-of-type {\n",
       "        vertical-align: middle;\n",
       "    }\n",
       "\n",
       "    .dataframe tbody tr th {\n",
       "        vertical-align: top;\n",
       "    }\n",
       "\n",
       "    .dataframe thead th {\n",
       "        text-align: right;\n",
       "    }\n",
       "</style>\n",
       "<table border=\"1\" class=\"dataframe\">\n",
       "  <thead>\n",
       "    <tr style=\"text-align: right;\">\n",
       "      <th></th>\n",
       "      <th>dataCelebracaoContrato</th>\n",
       "      <th>precoContratual</th>\n",
       "      <th>issuerNIF</th>\n",
       "    </tr>\n",
       "  </thead>\n",
       "  <tbody>\n",
       "    <tr>\n",
       "      <th>0</th>\n",
       "      <td>2013</td>\n",
       "      <td>297423.55</td>\n",
       "      <td>501305912</td>\n",
       "    </tr>\n",
       "    <tr>\n",
       "      <th>1</th>\n",
       "      <td>2013</td>\n",
       "      <td>292301.37</td>\n",
       "      <td>501305912</td>\n",
       "    </tr>\n",
       "    <tr>\n",
       "      <th>2</th>\n",
       "      <td>2013</td>\n",
       "      <td>274702.31</td>\n",
       "      <td>501305912</td>\n",
       "    </tr>\n",
       "    <tr>\n",
       "      <th>3</th>\n",
       "      <td>2013</td>\n",
       "      <td>179903.20</td>\n",
       "      <td>501305912</td>\n",
       "    </tr>\n",
       "    <tr>\n",
       "      <th>4</th>\n",
       "      <td>2013</td>\n",
       "      <td>1562194.41</td>\n",
       "      <td>501305912</td>\n",
       "    </tr>\n",
       "  </tbody>\n",
       "</table>\n",
       "</div>"
      ],
      "text/plain": [
       "   dataCelebracaoContrato  precoContratual  issuerNIF\n",
       "0                    2013        297423.55  501305912\n",
       "1                    2013        292301.37  501305912\n",
       "2                    2013        274702.31  501305912\n",
       "3                    2013        179903.20  501305912\n",
       "4                    2013       1562194.41  501305912"
      ]
     },
     "execution_count": 103,
     "metadata": {},
     "output_type": "execute_result"
    }
   ],
   "source": [
    "#Need to extract only the 2013 contracts from our original dataset \n",
    "\n",
    "#filter out the following column to deal with a smaller dataframe and store them in the variable value2\n",
    "value2=municip_issuer_df.loc[:,[\"dataCelebracaoContrato\",\"precoContratual\",\"issuerNIF\"]]\n",
    "\n",
    "#convert the dataCelebracaoContrato column into years only instead of a full date\n",
    "value2[\"dataCelebracaoContrato\"]= value2[\"dataCelebracaoContrato\"].map(lambda x:x.year)\n",
    "\n",
    "#filter out only the year 2013\n",
    "value2=value2.loc[value2['dataCelebracaoContrato']== 2013]\n",
    "\n",
    "#show the top of this dataframe\n",
    "value2.head()\n"
   ]
  },
  {
   "cell_type": "code",
   "execution_count": 104,
   "metadata": {},
   "outputs": [
    {
     "data": {
      "text/html": [
       "<div>\n",
       "<style scoped>\n",
       "    .dataframe tbody tr th:only-of-type {\n",
       "        vertical-align: middle;\n",
       "    }\n",
       "\n",
       "    .dataframe tbody tr th {\n",
       "        vertical-align: top;\n",
       "    }\n",
       "\n",
       "    .dataframe thead th {\n",
       "        text-align: right;\n",
       "    }\n",
       "</style>\n",
       "<table border=\"1\" class=\"dataframe\">\n",
       "  <thead>\n",
       "    <tr style=\"text-align: right;\">\n",
       "      <th></th>\n",
       "      <th>dataCelebracaoContrato</th>\n",
       "      <th>precoContratual</th>\n",
       "      <th>Total Value of Issued Procurements</th>\n",
       "      <th>Number of Issued Procurements</th>\n",
       "    </tr>\n",
       "    <tr>\n",
       "      <th>issuerNIF</th>\n",
       "      <th></th>\n",
       "      <th></th>\n",
       "      <th></th>\n",
       "      <th></th>\n",
       "    </tr>\n",
       "  </thead>\n",
       "  <tbody>\n",
       "    <tr>\n",
       "      <th>501305912</th>\n",
       "      <td>2013</td>\n",
       "      <td>297423.55</td>\n",
       "      <td>18558402.26</td>\n",
       "      <td>176</td>\n",
       "    </tr>\n",
       "    <tr>\n",
       "      <th>501305912</th>\n",
       "      <td>2013</td>\n",
       "      <td>292301.37</td>\n",
       "      <td>18558402.26</td>\n",
       "      <td>176</td>\n",
       "    </tr>\n",
       "    <tr>\n",
       "      <th>501305912</th>\n",
       "      <td>2013</td>\n",
       "      <td>274702.31</td>\n",
       "      <td>18558402.26</td>\n",
       "      <td>176</td>\n",
       "    </tr>\n",
       "    <tr>\n",
       "      <th>501305912</th>\n",
       "      <td>2013</td>\n",
       "      <td>179903.20</td>\n",
       "      <td>18558402.26</td>\n",
       "      <td>176</td>\n",
       "    </tr>\n",
       "    <tr>\n",
       "      <th>501305912</th>\n",
       "      <td>2013</td>\n",
       "      <td>1562194.41</td>\n",
       "      <td>18558402.26</td>\n",
       "      <td>176</td>\n",
       "    </tr>\n",
       "  </tbody>\n",
       "</table>\n",
       "</div>"
      ],
      "text/plain": [
       "           dataCelebracaoContrato  precoContratual  \\\n",
       "issuerNIF                                            \n",
       "501305912                    2013        297423.55   \n",
       "501305912                    2013        292301.37   \n",
       "501305912                    2013        274702.31   \n",
       "501305912                    2013        179903.20   \n",
       "501305912                    2013       1562194.41   \n",
       "\n",
       "           Total Value of Issued Procurements  Number of Issued Procurements  \n",
       "issuerNIF                                                                     \n",
       "501305912                         18558402.26                            176  \n",
       "501305912                         18558402.26                            176  \n",
       "501305912                         18558402.26                            176  \n",
       "501305912                         18558402.26                            176  \n",
       "501305912                         18558402.26                            176  "
      ]
     },
     "execution_count": 104,
     "metadata": {},
     "output_type": "execute_result"
    }
   ],
   "source": [
    "#calculate the total value of procurements by grouping by the issuerNIF and summing all the associated prices\n",
    "#save this data in a series called totval2 (which has as issuerNIF the index)\n",
    "totval2=value2.groupby('issuerNIF')['precoContratual'].sum()\n",
    "\n",
    "#calculate the number of procurements by grouping by the issuerNIF and counting all the associated entries \n",
    "#save this data in a series called numproc2 (which has as issuerNIF the index)\n",
    "numproc2=value2.groupby('issuerNIF')['precoContratual'].count()\n",
    "\n",
    "#set the index of the value2 dataframe to issuerNIF so you can add to it the above created series as columns\n",
    "value2.set_index('issuerNIF',inplace=True)\n",
    "\n",
    "#add the above created series as columns to the value2 dataframe\n",
    "value2['Total Value of Issued Procurements']=totval2\n",
    "value2['Number of Issued Procurements']=numproc2\n",
    "\n",
    "#show the top of this dataframe\n",
    "value2.head()"
   ]
  },
  {
   "cell_type": "code",
   "execution_count": 105,
   "metadata": {},
   "outputs": [
    {
     "data": {
      "text/html": [
       "<div>\n",
       "<style scoped>\n",
       "    .dataframe tbody tr th:only-of-type {\n",
       "        vertical-align: middle;\n",
       "    }\n",
       "\n",
       "    .dataframe tbody tr th {\n",
       "        vertical-align: top;\n",
       "    }\n",
       "\n",
       "    .dataframe thead th {\n",
       "        text-align: right;\n",
       "    }\n",
       "</style>\n",
       "<table border=\"1\" class=\"dataframe\">\n",
       "  <thead>\n",
       "    <tr style=\"text-align: right;\">\n",
       "      <th></th>\n",
       "      <th>Total Value of Issued Procurements</th>\n",
       "      <th>Number of Issued Procurements</th>\n",
       "      <th>Location</th>\n",
       "    </tr>\n",
       "  </thead>\n",
       "  <tbody>\n",
       "    <tr>\n",
       "      <th>0</th>\n",
       "      <td>1.855840e+07</td>\n",
       "      <td>176</td>\n",
       "      <td>Matosinhos</td>\n",
       "    </tr>\n",
       "    <tr>\n",
       "      <th>176</th>\n",
       "      <td>9.882641e+05</td>\n",
       "      <td>21</td>\n",
       "      <td>Praia da Vitória</td>\n",
       "    </tr>\n",
       "    <tr>\n",
       "      <th>197</th>\n",
       "      <td>8.037944e+07</td>\n",
       "      <td>1092</td>\n",
       "      <td>Lisboa</td>\n",
       "    </tr>\n",
       "    <tr>\n",
       "      <th>1289</th>\n",
       "      <td>3.037822e+06</td>\n",
       "      <td>34</td>\n",
       "      <td>Câmara de Lobos</td>\n",
       "    </tr>\n",
       "    <tr>\n",
       "      <th>1323</th>\n",
       "      <td>4.894210e+06</td>\n",
       "      <td>148</td>\n",
       "      <td>Viseu</td>\n",
       "    </tr>\n",
       "    <tr>\n",
       "      <th>...</th>\n",
       "      <td>...</td>\n",
       "      <td>...</td>\n",
       "      <td>...</td>\n",
       "    </tr>\n",
       "    <tr>\n",
       "      <th>21051</th>\n",
       "      <td>8.058502e+05</td>\n",
       "      <td>14</td>\n",
       "      <td>Bombarral</td>\n",
       "    </tr>\n",
       "    <tr>\n",
       "      <th>21065</th>\n",
       "      <td>7.458585e+04</td>\n",
       "      <td>1</td>\n",
       "      <td>Fornos de Algodres</td>\n",
       "    </tr>\n",
       "    <tr>\n",
       "      <th>21066</th>\n",
       "      <td>1.265574e+05</td>\n",
       "      <td>5</td>\n",
       "      <td>São Vicente</td>\n",
       "    </tr>\n",
       "    <tr>\n",
       "      <th>21071</th>\n",
       "      <td>1.419416e+05</td>\n",
       "      <td>2</td>\n",
       "      <td>Calheta São Jorge</td>\n",
       "    </tr>\n",
       "    <tr>\n",
       "      <th>21073</th>\n",
       "      <td>8.020000e+04</td>\n",
       "      <td>8</td>\n",
       "      <td>Nazaré</td>\n",
       "    </tr>\n",
       "  </tbody>\n",
       "</table>\n",
       "<p>308 rows × 3 columns</p>\n",
       "</div>"
      ],
      "text/plain": [
       "       Total Value of Issued Procurements  Number of Issued Procurements  \\\n",
       "0                            1.855840e+07                            176   \n",
       "176                          9.882641e+05                             21   \n",
       "197                          8.037944e+07                           1092   \n",
       "1289                         3.037822e+06                             34   \n",
       "1323                         4.894210e+06                            148   \n",
       "...                                   ...                            ...   \n",
       "21051                        8.058502e+05                             14   \n",
       "21065                        7.458585e+04                              1   \n",
       "21066                        1.265574e+05                              5   \n",
       "21071                        1.419416e+05                              2   \n",
       "21073                        8.020000e+04                              8   \n",
       "\n",
       "                 Location  \n",
       "0              Matosinhos  \n",
       "176      Praia da Vitória  \n",
       "197                Lisboa  \n",
       "1289      Câmara de Lobos  \n",
       "1323                Viseu  \n",
       "...                   ...  \n",
       "21051           Bombarral  \n",
       "21065  Fornos de Algodres  \n",
       "21066         São Vicente  \n",
       "21071   Calheta São Jorge  \n",
       "21073              Nazaré  \n",
       "\n",
       "[308 rows x 3 columns]"
      ]
     },
     "execution_count": 105,
     "metadata": {},
     "output_type": "execute_result"
    }
   ],
   "source": [
    "#merge this dataframe with the merged1 dataframe on column NIF \n",
    "step7merge1=pd.merge(value2,merged1,how='inner',left_on='issuerNIF',right_on='NIF')\n",
    "\n",
    "#drop all unnecessary columns\n",
    "step7merge1=step7merge1.drop(['dataCelebracaoContrato','precoContratual','Municipality','Population','NIF'],axis=1)\n",
    "\n",
    "#set the 'Location' column as the index in order to be able to merge it again later\n",
    "#step7merge1.set_index('Location',inplace=True)\n",
    "\n",
    "#drop all the duplicate data (we should now have 308 rows)\n",
    "step7merge1.drop_duplicates(inplace=True)\n",
    "\n",
    "step7merge1"
   ]
  },
  {
   "cell_type": "code",
   "execution_count": 106,
   "metadata": {},
   "outputs": [
    {
     "data": {
      "text/html": [
       "<div>\n",
       "<style scoped>\n",
       "    .dataframe tbody tr th:only-of-type {\n",
       "        vertical-align: middle;\n",
       "    }\n",
       "\n",
       "    .dataframe tbody tr th {\n",
       "        vertical-align: top;\n",
       "    }\n",
       "\n",
       "    .dataframe thead th {\n",
       "        text-align: right;\n",
       "    }\n",
       "</style>\n",
       "<table border=\"1\" class=\"dataframe\">\n",
       "  <thead>\n",
       "    <tr style=\"text-align: right;\">\n",
       "      <th></th>\n",
       "      <th>Municipality</th>\n",
       "      <th>Numofgall</th>\n",
       "      <th>Numofvenues</th>\n",
       "      <th>numofmuseums</th>\n",
       "      <th>TotRev2013</th>\n",
       "      <th>TotNumofFac</th>\n",
       "    </tr>\n",
       "  </thead>\n",
       "  <tbody>\n",
       "    <tr>\n",
       "      <th>0</th>\n",
       "      <td>Arcos de Valdevez</td>\n",
       "      <td>1</td>\n",
       "      <td>1</td>\n",
       "      <td>0</td>\n",
       "      <td>795</td>\n",
       "      <td>2</td>\n",
       "    </tr>\n",
       "    <tr>\n",
       "      <th>1</th>\n",
       "      <td>Caminha</td>\n",
       "      <td>4</td>\n",
       "      <td>0</td>\n",
       "      <td>1</td>\n",
       "      <td>1658</td>\n",
       "      <td>5</td>\n",
       "    </tr>\n",
       "    <tr>\n",
       "      <th>2</th>\n",
       "      <td>Melgaço</td>\n",
       "      <td>2</td>\n",
       "      <td>0</td>\n",
       "      <td>1</td>\n",
       "      <td>1195</td>\n",
       "      <td>3</td>\n",
       "    </tr>\n",
       "    <tr>\n",
       "      <th>3</th>\n",
       "      <td>Monção</td>\n",
       "      <td>3</td>\n",
       "      <td>0</td>\n",
       "      <td>0</td>\n",
       "      <td>0</td>\n",
       "      <td>3</td>\n",
       "    </tr>\n",
       "    <tr>\n",
       "      <th>4</th>\n",
       "      <td>Paredes de Coura</td>\n",
       "      <td>1</td>\n",
       "      <td>1</td>\n",
       "      <td>1</td>\n",
       "      <td>0</td>\n",
       "      <td>3</td>\n",
       "    </tr>\n",
       "  </tbody>\n",
       "</table>\n",
       "</div>"
      ],
      "text/plain": [
       "        Municipality  Numofgall  Numofvenues  numofmuseums  TotRev2013  \\\n",
       "0  Arcos de Valdevez          1            1             0         795   \n",
       "1            Caminha          4            0             1        1658   \n",
       "2            Melgaço          2            0             1        1195   \n",
       "3             Monção          3            0             0           0   \n",
       "4   Paredes de Coura          1            1             1           0   \n",
       "\n",
       "   TotNumofFac  \n",
       "0            2  \n",
       "1            5  \n",
       "2            3  \n",
       "3            3  \n",
       "4            3  "
      ]
     },
     "execution_count": 106,
     "metadata": {},
     "output_type": "execute_result"
    }
   ],
   "source": [
    "#reset the index for editing and merging \n",
    "step7data.reset_index(inplace=True)\n",
    "\n",
    "#check to see the dataframe\n",
    "step7data.head()"
   ]
  },
  {
   "cell_type": "code",
   "execution_count": 107,
   "metadata": {},
   "outputs": [
    {
     "data": {
      "text/html": [
       "<div>\n",
       "<style scoped>\n",
       "    .dataframe tbody tr th:only-of-type {\n",
       "        vertical-align: middle;\n",
       "    }\n",
       "\n",
       "    .dataframe tbody tr th {\n",
       "        vertical-align: top;\n",
       "    }\n",
       "\n",
       "    .dataframe thead th {\n",
       "        text-align: right;\n",
       "    }\n",
       "</style>\n",
       "<table border=\"1\" class=\"dataframe\">\n",
       "  <thead>\n",
       "    <tr style=\"text-align: right;\">\n",
       "      <th></th>\n",
       "      <th>Total Value of Issued Procurements</th>\n",
       "      <th>Number of Issued Procurements</th>\n",
       "      <th>Location</th>\n",
       "      <th>Municipality</th>\n",
       "      <th>TotRev2013</th>\n",
       "      <th>TotNumofFac</th>\n",
       "    </tr>\n",
       "  </thead>\n",
       "  <tbody>\n",
       "    <tr>\n",
       "      <th>0</th>\n",
       "      <td>1.855840e+07</td>\n",
       "      <td>176</td>\n",
       "      <td>Matosinhos</td>\n",
       "      <td>Matosinhos</td>\n",
       "      <td>9598</td>\n",
       "      <td>14</td>\n",
       "    </tr>\n",
       "    <tr>\n",
       "      <th>1</th>\n",
       "      <td>8.037944e+07</td>\n",
       "      <td>1092</td>\n",
       "      <td>Lisboa</td>\n",
       "      <td>Lisboa</td>\n",
       "      <td>415638</td>\n",
       "      <td>222</td>\n",
       "    </tr>\n",
       "    <tr>\n",
       "      <th>2</th>\n",
       "      <td>3.037822e+06</td>\n",
       "      <td>34</td>\n",
       "      <td>Câmara de Lobos</td>\n",
       "      <td>Câmara de Lobos</td>\n",
       "      <td>0</td>\n",
       "      <td>8</td>\n",
       "    </tr>\n",
       "    <tr>\n",
       "      <th>3</th>\n",
       "      <td>4.894210e+06</td>\n",
       "      <td>148</td>\n",
       "      <td>Viseu</td>\n",
       "      <td>Viseu</td>\n",
       "      <td>5718</td>\n",
       "      <td>16</td>\n",
       "    </tr>\n",
       "    <tr>\n",
       "      <th>4</th>\n",
       "      <td>1.923027e+06</td>\n",
       "      <td>30</td>\n",
       "      <td>Batalha</td>\n",
       "      <td>Batalha</td>\n",
       "      <td>1651</td>\n",
       "      <td>2</td>\n",
       "    </tr>\n",
       "    <tr>\n",
       "      <th>...</th>\n",
       "      <td>...</td>\n",
       "      <td>...</td>\n",
       "      <td>...</td>\n",
       "      <td>...</td>\n",
       "      <td>...</td>\n",
       "      <td>...</td>\n",
       "    </tr>\n",
       "    <tr>\n",
       "      <th>296</th>\n",
       "      <td>5.625826e+05</td>\n",
       "      <td>12</td>\n",
       "      <td>Machico</td>\n",
       "      <td>Machico</td>\n",
       "      <td>5981</td>\n",
       "      <td>8</td>\n",
       "    </tr>\n",
       "    <tr>\n",
       "      <th>297</th>\n",
       "      <td>8.058502e+05</td>\n",
       "      <td>14</td>\n",
       "      <td>Bombarral</td>\n",
       "      <td>Bombarral</td>\n",
       "      <td>120</td>\n",
       "      <td>3</td>\n",
       "    </tr>\n",
       "    <tr>\n",
       "      <th>298</th>\n",
       "      <td>7.458585e+04</td>\n",
       "      <td>1</td>\n",
       "      <td>Fornos de Algodres</td>\n",
       "      <td>Fornos de Algodres</td>\n",
       "      <td>0</td>\n",
       "      <td>1</td>\n",
       "    </tr>\n",
       "    <tr>\n",
       "      <th>299</th>\n",
       "      <td>1.265574e+05</td>\n",
       "      <td>5</td>\n",
       "      <td>São Vicente</td>\n",
       "      <td>São Vicente</td>\n",
       "      <td>3498</td>\n",
       "      <td>0</td>\n",
       "    </tr>\n",
       "    <tr>\n",
       "      <th>300</th>\n",
       "      <td>8.020000e+04</td>\n",
       "      <td>8</td>\n",
       "      <td>Nazaré</td>\n",
       "      <td>Nazaré</td>\n",
       "      <td>6026</td>\n",
       "      <td>5</td>\n",
       "    </tr>\n",
       "  </tbody>\n",
       "</table>\n",
       "<p>301 rows × 6 columns</p>\n",
       "</div>"
      ],
      "text/plain": [
       "     Total Value of Issued Procurements  Number of Issued Procurements  \\\n",
       "0                          1.855840e+07                            176   \n",
       "1                          8.037944e+07                           1092   \n",
       "2                          3.037822e+06                             34   \n",
       "3                          4.894210e+06                            148   \n",
       "4                          1.923027e+06                             30   \n",
       "..                                  ...                            ...   \n",
       "296                        5.625826e+05                             12   \n",
       "297                        8.058502e+05                             14   \n",
       "298                        7.458585e+04                              1   \n",
       "299                        1.265574e+05                              5   \n",
       "300                        8.020000e+04                              8   \n",
       "\n",
       "               Location        Municipality  TotRev2013  TotNumofFac  \n",
       "0            Matosinhos          Matosinhos        9598           14  \n",
       "1                Lisboa              Lisboa      415638          222  \n",
       "2       Câmara de Lobos     Câmara de Lobos           0            8  \n",
       "3                 Viseu               Viseu        5718           16  \n",
       "4               Batalha             Batalha        1651            2  \n",
       "..                  ...                 ...         ...          ...  \n",
       "296             Machico             Machico        5981            8  \n",
       "297           Bombarral           Bombarral         120            3  \n",
       "298  Fornos de Algodres  Fornos de Algodres           0            1  \n",
       "299         São Vicente         São Vicente        3498            0  \n",
       "300              Nazaré              Nazaré        6026            5  \n",
       "\n",
       "[301 rows x 6 columns]"
      ]
     },
     "execution_count": 107,
     "metadata": {},
     "output_type": "execute_result"
    }
   ],
   "source": [
    "#merge again but with the culture dataset (step7data) which we otained at the beginning of the question \n",
    "#step7merge2 = step7merge1.merge(step7data, left_index=True, right_index=True)\n",
    "step7merge2 = step7merge1.merge(step7data, left_on='Location', right_on='Municipality',how='inner')\n",
    "\n",
    "#drop all unnecessary columns\n",
    "step7merge2=step7merge2.drop(['Numofgall','Numofvenues','numofmuseums'],axis=1)\n",
    "\n",
    "step7merge2\n",
    "#as you can see we have only 301 rows which means we are missing 7 values"
   ]
  },
  {
   "cell_type": "code",
   "execution_count": 108,
   "metadata": {},
   "outputs": [
    {
     "data": {
      "text/html": [
       "<div>\n",
       "<style scoped>\n",
       "    .dataframe tbody tr th:only-of-type {\n",
       "        vertical-align: middle;\n",
       "    }\n",
       "\n",
       "    .dataframe tbody tr th {\n",
       "        vertical-align: top;\n",
       "    }\n",
       "\n",
       "    .dataframe thead th {\n",
       "        text-align: right;\n",
       "    }\n",
       "</style>\n",
       "<table border=\"1\" class=\"dataframe\">\n",
       "  <thead>\n",
       "    <tr style=\"text-align: right;\">\n",
       "      <th></th>\n",
       "      <th>Municipality</th>\n",
       "      <th>Numofgall</th>\n",
       "      <th>Numofvenues</th>\n",
       "      <th>numofmuseums</th>\n",
       "      <th>TotRev2013</th>\n",
       "      <th>TotNumofFac</th>\n",
       "    </tr>\n",
       "  </thead>\n",
       "  <tbody>\n",
       "    <tr>\n",
       "      <th>131</th>\n",
       "      <td>Castanheira de Pêra</td>\n",
       "      <td>2</td>\n",
       "      <td>0</td>\n",
       "      <td>1</td>\n",
       "      <td>0</td>\n",
       "      <td>3</td>\n",
       "    </tr>\n",
       "    <tr>\n",
       "      <th>157</th>\n",
       "      <td>Vila Velha de Ródão</td>\n",
       "      <td>1</td>\n",
       "      <td>0</td>\n",
       "      <td>1</td>\n",
       "      <td>0</td>\n",
       "      <td>2</td>\n",
       "    </tr>\n",
       "    <tr>\n",
       "      <th>228</th>\n",
       "      <td>Coruche</td>\n",
       "      <td>2</td>\n",
       "      <td>2</td>\n",
       "      <td>1</td>\n",
       "      <td>0</td>\n",
       "      <td>5</td>\n",
       "    </tr>\n",
       "    <tr>\n",
       "      <th>279</th>\n",
       "      <td>Lagoa [R.A.A.]</td>\n",
       "      <td>1</td>\n",
       "      <td>1</td>\n",
       "      <td>1</td>\n",
       "      <td>1230</td>\n",
       "      <td>3</td>\n",
       "    </tr>\n",
       "    <tr>\n",
       "      <th>286</th>\n",
       "      <td>Vila da Praia da Vitória</td>\n",
       "      <td>1</td>\n",
       "      <td>2</td>\n",
       "      <td>0</td>\n",
       "      <td>1447</td>\n",
       "      <td>3</td>\n",
       "    </tr>\n",
       "    <tr>\n",
       "      <th>288</th>\n",
       "      <td>Calheta [R.A.A.]</td>\n",
       "      <td>1</td>\n",
       "      <td>0</td>\n",
       "      <td>1</td>\n",
       "      <td>0</td>\n",
       "      <td>2</td>\n",
       "    </tr>\n",
       "    <tr>\n",
       "      <th>297</th>\n",
       "      <td>Calheta [R.A.M.]</td>\n",
       "      <td>2</td>\n",
       "      <td>1</td>\n",
       "      <td>0</td>\n",
       "      <td>8058</td>\n",
       "      <td>3</td>\n",
       "    </tr>\n",
       "  </tbody>\n",
       "</table>\n",
       "</div>"
      ],
      "text/plain": [
       "                 Municipality  Numofgall  Numofvenues  numofmuseums  \\\n",
       "131       Castanheira de Pêra          2            0             1   \n",
       "157       Vila Velha de Ródão          1            0             1   \n",
       "228                   Coruche          2            2             1   \n",
       "279            Lagoa [R.A.A.]          1            1             1   \n",
       "286  Vila da Praia da Vitória          1            2             0   \n",
       "288          Calheta [R.A.A.]          1            0             1   \n",
       "297          Calheta [R.A.M.]          2            1             0   \n",
       "\n",
       "     TotRev2013  TotNumofFac  \n",
       "131           0            3  \n",
       "157           0            2  \n",
       "228           0            5  \n",
       "279        1230            3  \n",
       "286        1447            3  \n",
       "288           0            2  \n",
       "297        8058            3  "
      ]
     },
     "execution_count": 108,
     "metadata": {},
     "output_type": "execute_result"
    }
   ],
   "source": [
    "#the following are the missing 7 values\n",
    "step7data[~step7data['Municipality'].isin(list(step7merge1['Location']))]"
   ]
  },
  {
   "cell_type": "code",
   "execution_count": 109,
   "metadata": {},
   "outputs": [],
   "source": [
    "#rename all the missing values in the step7data dataframe to match those in the step7merge1 dataframe so we can merge them too\n",
    "step7data['Municipality']=step7data['Municipality'].str.replace('Castanheira de Pêra','Castanheira de Pera')\n",
    "step7data['Municipality']=step7data['Municipality'].str.replace('Vila Velha de Ródão','Vila Velha de Rádío')\n",
    "step7data['Municipality']=step7data['Municipality'].str.replace('Coruche','Coruche – Câmara Municipal')\n",
    "step7data['Municipality']=step7data['Municipality'].str.replace('Lagoa \\[R.A.A.\\]','Lagoa - Açores')\n",
    "step7data['Municipality']=step7data['Municipality'].str.replace('Vila da Praia da Vitória','Praia da Vitória')\n",
    "step7data['Municipality']=step7data['Municipality'].str.replace('Calheta \\[R.A.A.\\]','Calheta São Jorge')\n",
    "step7data['Municipality']=step7data['Municipality'].str.replace('Calheta \\[R.A.M.\\]','Calheta')"
   ]
  },
  {
   "cell_type": "code",
   "execution_count": 110,
   "metadata": {},
   "outputs": [
    {
     "data": {
      "text/html": [
       "<div>\n",
       "<style scoped>\n",
       "    .dataframe tbody tr th:only-of-type {\n",
       "        vertical-align: middle;\n",
       "    }\n",
       "\n",
       "    .dataframe tbody tr th {\n",
       "        vertical-align: top;\n",
       "    }\n",
       "\n",
       "    .dataframe thead th {\n",
       "        text-align: right;\n",
       "    }\n",
       "</style>\n",
       "<table border=\"1\" class=\"dataframe\">\n",
       "  <thead>\n",
       "    <tr style=\"text-align: right;\">\n",
       "      <th></th>\n",
       "      <th>Total Value of Issued Procurements</th>\n",
       "      <th>Number of Issued Procurements</th>\n",
       "      <th>Municipality</th>\n",
       "      <th>TotRev2013</th>\n",
       "      <th>TotNumofFac</th>\n",
       "    </tr>\n",
       "  </thead>\n",
       "  <tbody>\n",
       "    <tr>\n",
       "      <th>0</th>\n",
       "      <td>1.855840e+07</td>\n",
       "      <td>176</td>\n",
       "      <td>Matosinhos</td>\n",
       "      <td>9598</td>\n",
       "      <td>14</td>\n",
       "    </tr>\n",
       "    <tr>\n",
       "      <th>1</th>\n",
       "      <td>9.882641e+05</td>\n",
       "      <td>21</td>\n",
       "      <td>Praia da Vitória</td>\n",
       "      <td>1447</td>\n",
       "      <td>3</td>\n",
       "    </tr>\n",
       "    <tr>\n",
       "      <th>2</th>\n",
       "      <td>8.037944e+07</td>\n",
       "      <td>1092</td>\n",
       "      <td>Lisboa</td>\n",
       "      <td>415638</td>\n",
       "      <td>222</td>\n",
       "    </tr>\n",
       "    <tr>\n",
       "      <th>3</th>\n",
       "      <td>3.037822e+06</td>\n",
       "      <td>34</td>\n",
       "      <td>Câmara de Lobos</td>\n",
       "      <td>0</td>\n",
       "      <td>8</td>\n",
       "    </tr>\n",
       "    <tr>\n",
       "      <th>4</th>\n",
       "      <td>4.894210e+06</td>\n",
       "      <td>148</td>\n",
       "      <td>Viseu</td>\n",
       "      <td>5718</td>\n",
       "      <td>16</td>\n",
       "    </tr>\n",
       "    <tr>\n",
       "      <th>...</th>\n",
       "      <td>...</td>\n",
       "      <td>...</td>\n",
       "      <td>...</td>\n",
       "      <td>...</td>\n",
       "      <td>...</td>\n",
       "    </tr>\n",
       "    <tr>\n",
       "      <th>303</th>\n",
       "      <td>8.058502e+05</td>\n",
       "      <td>14</td>\n",
       "      <td>Bombarral</td>\n",
       "      <td>120</td>\n",
       "      <td>3</td>\n",
       "    </tr>\n",
       "    <tr>\n",
       "      <th>304</th>\n",
       "      <td>7.458585e+04</td>\n",
       "      <td>1</td>\n",
       "      <td>Fornos de Algodres</td>\n",
       "      <td>0</td>\n",
       "      <td>1</td>\n",
       "    </tr>\n",
       "    <tr>\n",
       "      <th>305</th>\n",
       "      <td>1.265574e+05</td>\n",
       "      <td>5</td>\n",
       "      <td>São Vicente</td>\n",
       "      <td>3498</td>\n",
       "      <td>0</td>\n",
       "    </tr>\n",
       "    <tr>\n",
       "      <th>306</th>\n",
       "      <td>1.419416e+05</td>\n",
       "      <td>2</td>\n",
       "      <td>Calheta São Jorge</td>\n",
       "      <td>0</td>\n",
       "      <td>2</td>\n",
       "    </tr>\n",
       "    <tr>\n",
       "      <th>307</th>\n",
       "      <td>8.020000e+04</td>\n",
       "      <td>8</td>\n",
       "      <td>Nazaré</td>\n",
       "      <td>6026</td>\n",
       "      <td>5</td>\n",
       "    </tr>\n",
       "  </tbody>\n",
       "</table>\n",
       "<p>308 rows × 5 columns</p>\n",
       "</div>"
      ],
      "text/plain": [
       "     Total Value of Issued Procurements  Number of Issued Procurements  \\\n",
       "0                          1.855840e+07                            176   \n",
       "1                          9.882641e+05                             21   \n",
       "2                          8.037944e+07                           1092   \n",
       "3                          3.037822e+06                             34   \n",
       "4                          4.894210e+06                            148   \n",
       "..                                  ...                            ...   \n",
       "303                        8.058502e+05                             14   \n",
       "304                        7.458585e+04                              1   \n",
       "305                        1.265574e+05                              5   \n",
       "306                        1.419416e+05                              2   \n",
       "307                        8.020000e+04                              8   \n",
       "\n",
       "           Municipality  TotRev2013  TotNumofFac  \n",
       "0            Matosinhos        9598           14  \n",
       "1      Praia da Vitória        1447            3  \n",
       "2                Lisboa      415638          222  \n",
       "3       Câmara de Lobos           0            8  \n",
       "4                 Viseu        5718           16  \n",
       "..                  ...         ...          ...  \n",
       "303           Bombarral         120            3  \n",
       "304  Fornos de Algodres           0            1  \n",
       "305         São Vicente        3498            0  \n",
       "306   Calheta São Jorge           0            2  \n",
       "307              Nazaré        6026            5  \n",
       "\n",
       "[308 rows x 5 columns]"
      ]
     },
     "execution_count": 110,
     "metadata": {},
     "output_type": "execute_result"
    }
   ],
   "source": [
    "#repeat merge (we should now finally have the 308 rows)\n",
    "step7merge2 = step7merge1.merge(step7data, left_on='Location', right_on='Municipality',how='inner')\n",
    "\n",
    "#drop all unnecessary columns\n",
    "step7merge2=step7merge2.drop(['Numofgall','Numofvenues','numofmuseums','Location'],axis=1)\n",
    "\n",
    "step7merge2\n",
    "#we finally have our 308 rows"
   ]
  },
  {
   "cell_type": "markdown",
   "metadata": {},
   "source": [
    "Criteria 1: Total Number of Cultural Facilities"
   ]
  },
  {
   "cell_type": "code",
   "execution_count": 151,
   "metadata": {},
   "outputs": [
    {
     "data": {
      "text/plain": [
       "0.8256356611142557"
      ]
     },
     "execution_count": 151,
     "metadata": {},
     "output_type": "execute_result"
    }
   ],
   "source": [
    "#calculates the pearson correlation between number of cultural facilities and price of contracts\n",
    "float(step7merge2['TotNumofFac'].corr(step7merge2['Total Value of Issued Procurements']))\n",
    "\n",
    "#The Pearson correlation value is very high so there is a strong positive correlation. Meaning that the more cultural\n",
    "#cultural facilities a municipality has, the more expensive its contracts tend to be"
   ]
  },
  {
   "cell_type": "code",
   "execution_count": 115,
   "metadata": {},
   "outputs": [
    {
     "data": {
      "text/plain": [
       "<function matplotlib.pyplot.show(*args, **kw)>"
      ]
     },
     "execution_count": 115,
     "metadata": {},
     "output_type": "execute_result"
    },
    {
     "data": {
      "image/png": "[encoded data removed]",
      "text/plain": [
       "<Figure size 432x288 with 1 Axes>"
      ]
     },
     "metadata": {},
     "output_type": "display_data"
    }
   ],
   "source": [
    "#I used the logarithms for better comparison and visualization\n",
    "\n",
    "#plot a scatterplot with x as the total number of cultural facilities, and y as the total value of issued procurements\n",
    "\n",
    "#specify the type of plot and the columns to plot\n",
    "plt.scatter(np.log10(step7merge2['TotNumofFac']),np.log10(step7merge2['Total Value of Issued Procurements']),color='m')\n",
    "\n",
    "#specify the axis labels and title\n",
    "plt.xlabel('Total No of Cultural Facilities')\n",
    "plt.ylabel('Price of Contracts')\n",
    "plt.title('No of Cultural Facilities vs Prices of Contracts')\n",
    "\n",
    "plt.show\n",
    "\n"
   ]
  },
  {
   "cell_type": "markdown",
   "metadata": {},
   "source": [
    "<font color='darkblue'>  \n",
    "CONCLUSION\n",
    "\n",
    "The Pearson correlation value is very high (0.826) so there is a very strong positive correlation. Meaning that the more cultural facilities a municipality has, the more expensive the contracts tend to be in it. \n",
    "\n",
    "Indeed, the number of cultural facilities has a very strong impact on the prices of the contracts. Thus, the more \n",
    "attractive a municipality is (higher number of cultural facilities), the more expensive its contracts are.\n",
    "</font> "
   ]
  },
  {
   "cell_type": "code",
   "execution_count": 153,
   "metadata": {},
   "outputs": [
    {
     "data": {
      "text/plain": [
       "0.7636537940624992"
      ]
     },
     "execution_count": 153,
     "metadata": {},
     "output_type": "execute_result"
    }
   ],
   "source": [
    "#calculates the pearson correlation between number of cultural facilities and number of contracts issued\n",
    "float(step7merge2['TotNumofFac'].corr(step7merge2['Number of Issued Procurements']))"
   ]
  },
  {
   "cell_type": "code",
   "execution_count": 112,
   "metadata": {
    "scrolled": true
   },
   "outputs": [
    {
     "data": {
      "text/plain": [
       "<function matplotlib.pyplot.show(*args, **kw)>"
      ]
     },
     "execution_count": 112,
     "metadata": {},
     "output_type": "execute_result"
    },
    {
     "data": {
      "image/png": "[encoded data removed]",
      "text/plain": [
       "<Figure size 432x288 with 1 Axes>"
      ]
     },
     "metadata": {},
     "output_type": "display_data"
    }
   ],
   "source": [
    "#I used the logarithms for better comparison and visualization\n",
    "\n",
    "#plot a scatterplot with x as the total number of cultural facilities, and y as the total number of issued procurements\n",
    "\n",
    "#specify the type of plot and the columns to plot\n",
    "plt.scatter(np.log10(step7merge2['TotNumofFac']),np.log10(step7merge2['Number of Issued Procurements']),color='m')\n",
    "\n",
    "#specify the axis labels and title\n",
    "plt.xlabel('Total No of Cultural Facilities')\n",
    "plt.ylabel('Number of Issued Contracts')\n",
    "plt.title('No of Cultural Facilities vs Number of Contracts')\n",
    "\n",
    "plt.show\n",
    "             "
   ]
  },
  {
   "cell_type": "markdown",
   "metadata": {},
   "source": [
    "<font color='darkblue'>\n",
    "CONCLUSION:\n",
    "\n",
    "The Pearson correlation value is quite high (0.764) so there is a strong positive correlation. Meaning that the more cultural facilities a municipality has, the more contracts tend to be issued in it. \n",
    "\n",
    "Note that the pearson correlation is lower than the one above (0.825) which means that the number of cultural \n",
    "facilities has a stronger impact on the price of the contracts rather than the number of the contracts.\n",
    "\n",
    "Indeed, the more attractive a municipality is (higher number of cultural facilities), the higher the number of \n",
    "contracts issued in it.\n",
    "</font>  "
   ]
  },
  {
   "cell_type": "markdown",
   "metadata": {},
   "source": [
    "Criteria 2: Total Revenue from Tourism"
   ]
  },
  {
   "cell_type": "code",
   "execution_count": 165,
   "metadata": {},
   "outputs": [
    {
     "data": {
      "text/plain": [
       "0.7020809044840672"
      ]
     },
     "execution_count": 165,
     "metadata": {},
     "output_type": "execute_result"
    }
   ],
   "source": [
    "#calculates the pearson correlation between revenue from tourism and prices of contracts issued\n",
    "float(step7merge2['TotRev2013'].corr(step7merge2['Total Value of Issued Procurements']))"
   ]
  },
  {
   "cell_type": "code",
   "execution_count": 116,
   "metadata": {},
   "outputs": [
    {
     "data": {
      "text/plain": [
       "<function matplotlib.pyplot.show(*args, **kw)>"
      ]
     },
     "execution_count": 116,
     "metadata": {},
     "output_type": "execute_result"
    },
    {
     "data": {
      "image/png": "[encoded data removed]",
      "text/plain": [
       "<Figure size 432x288 with 1 Axes>"
      ]
     },
     "metadata": {},
     "output_type": "display_data"
    }
   ],
   "source": [
    "#I used the logarithms for better comparison and visualization\n",
    "\n",
    "#plot a scatterplot with x as the total revenue from tourist accommodations, and y as the total value of issued procurements\n",
    "\n",
    "#specify the type of plot and the columns to plot\n",
    "plt.scatter(np.log10(step7merge2['TotRev2013']),np.log10(step7merge2['Total Value of Issued Procurements']),color='limegreen')\n",
    "\n",
    "#specify the axis labels and title\n",
    "plt.xlabel('Total Revenue from Tourist Accommodations ')\n",
    "plt.ylabel('Price of Contracts')\n",
    "plt.title('Revenue from Tourism vs Prices of Contracts')\n",
    "\n",
    "plt.show"
   ]
  },
  {
   "cell_type": "markdown",
   "metadata": {},
   "source": [
    "<font color='darkblue'>\n",
    "CONCLUSION\n",
    "\n",
    "The Pearson correlation value is quite high (0.702) so there is a strong positive correlation. Meaning that the \n",
    "higher the revenue from tourism a municipality receives, the higher the prices of contracts tend to be in it. \n",
    "\n",
    "Indeed, the revenue from tourism has a strong impact on the prices of the contracts. Thus, the more attractive a municipality is (receives higher revenue from tourist accommodations), the more expensive its contracts are.\n",
    "</font>"
   ]
  },
  {
   "cell_type": "code",
   "execution_count": 114,
   "metadata": {},
   "outputs": [
    {
     "data": {
      "text/plain": [
       "0.6376844678093251"
      ]
     },
     "execution_count": 114,
     "metadata": {},
     "output_type": "execute_result"
    }
   ],
   "source": [
    "#calculates the pearson correlation between revenue from tourism and number of contracts issued\n",
    "float(step7merge2['TotRev2013'].corr(step7merge2['Number of Issued Procurements']))\n",
    "\n",
    "#The Pearson correlation value is quite high so there is a strong positive correlation. Meaning that the higher the \n",
    "#revenue from tourism a municipality has, the higher the prices of contracts tend to be in it. "
   ]
  },
  {
   "cell_type": "code",
   "execution_count": 117,
   "metadata": {},
   "outputs": [
    {
     "data": {
      "text/plain": [
       "<function matplotlib.pyplot.show(*args, **kw)>"
      ]
     },
     "execution_count": 117,
     "metadata": {},
     "output_type": "execute_result"
    },
    {
     "data": {
      "image/png": "[encoded data removed]",
      "text/plain": [
       "<Figure size 432x288 with 1 Axes>"
      ]
     },
     "metadata": {},
     "output_type": "display_data"
    }
   ],
   "source": [
    "#I used the logarithms for better comparison and visualization\n",
    "\n",
    "#plot a scatterplot with x as the total revenue from tourist accommodations, and y as the total number of issued procurements\n",
    "\n",
    "#specify the type of plot and the columns to plot\n",
    "plt.scatter(np.log10(step7merge2['TotRev2013']),np.log10(step7merge2['Number of Issued Procurements']),color='limegreen')\n",
    "\n",
    "#specify the axis labels and title\n",
    "plt.xlabel('Total Revenue from Tourist Accommodations ')\n",
    "plt.ylabel('Number of Contracts')\n",
    "plt.title('Revenue from Tourism vs Number of Contracts')\n",
    "\n",
    "plt.show"
   ]
  },
  {
   "cell_type": "markdown",
   "metadata": {},
   "source": [
    "<font color='darkblue'>\n",
    "CONCLUSION\n",
    "\n",
    "The Pearson correlation value is quite moderate (0.638) so there is a moderate positive correlation. Meaning that the more cultural higher the revenue from tourism a municipality receives, the more contracts tend to be issued in it. \n",
    "\n",
    "Note that the pearson correlation is lower than the one above (0.702) which means that the revenue from tourism has\n",
    "a stronger impact on the price of the contracts rather than the number of the contracts.\n",
    "\n",
    "Indeed, the more attractive a municipality is (receives higher revenue from tourist accommodations), the higher the \n",
    "number of contracts issued in it.\n",
    "</font>"
   ]
  },
  {
   "cell_type": "code",
   "execution_count": 147,
   "metadata": {},
   "outputs": [
    {
     "data": {
      "text/plain": [
       "<matplotlib.axes._subplots.AxesSubplot at 0x1324eceb0>"
      ]
     },
     "execution_count": 147,
     "metadata": {},
     "output_type": "execute_result"
    },
    {
     "data": {
      "image/png": "[encoded data removed]",
      "text/plain": [
       "<Figure size 792x648 with 2 Axes>"
      ]
     },
     "metadata": {},
     "output_type": "display_data"
    }
   ],
   "source": [
    "#Make a heatmap to show the correlations among all the variables in a more global view (using colour)\n",
    "\n",
    "#calculate the correlation matrix\n",
    "corr = step7merge2[[\"TotRev2013\",\"TotNumofFac\",\"Total Value of Issued Procurements\",\"Number of Issued Procurements\"]].corr()\n",
    "\n",
    "#make a mask for the upper triangle\n",
    "mask = np.triu(np.ones_like(corr, dtype=bool))\n",
    "\n",
    "#set up the matplotlib figure\n",
    "f, ax = plt.subplots(figsize=(11, 9))\n",
    "\n",
    "#make a custom diverging colormap\n",
    "cmap = sns.diverging_palette(220, 10, as_cmap=True)\n",
    "\n",
    "\n",
    "#draw the heatmap with the mask and correct aspect ratio\n",
    "sns.heatmap(corr, mask=mask, cmap=cmap, vmin=-1, vmax=1, center=0,\n",
    "            square=True, linewidths=.5, cbar_kws={\"shrink\": .5})"
   ]
  },
  {
   "cell_type": "code",
   "execution_count": 148,
   "metadata": {},
   "outputs": [
    {
     "data": {
      "text/plain": [
       "<seaborn.axisgrid.PairGrid at 0x129806e80>"
      ]
     },
     "execution_count": 148,
     "metadata": {},
     "output_type": "execute_result"
    },
    {
     "data": {
      "image/png": "[encoded data removed]",
      "text/plain": [
       "<Figure size 720x720 with 14 Axes>"
      ]
     },
     "metadata": {},
     "output_type": "display_data"
    }
   ],
   "source": [
    "#create a pairplot to show the correlations among all the variables in a more global view (using scatter points)\n",
    "sns.pairplot(step7merge2,corner=True)"
   ]
  },
  {
   "cell_type": "code",
   "execution_count": null,
   "metadata": {},
   "outputs": [],
   "source": [
    "#Obviously, all variables have strong positive correlations with each other. The correlation between \n",
    "#Total Number of Cultural Facilities and Total Value of Issued Procurements is the strongest."
   ]
  },
  {
   "cell_type": "markdown",
   "metadata": {},
   "source": [
    "<font color='darkblue'>\n",
    "ANSWER:\n",
    "\n",
    "Yes, there is a relationship between the price and number of contracts AND the attractiveness of a municipality.\n",
    "\n",
    "The correlation is strong and positive. Thus, the more attractive a municipality is, the higher the number of contracts issued in it and the higher the prices of these contracts.\n",
    "\n",
    "Additional findings:\n",
    "1. The attractiveness of a municipality has a stronger impact on the prices of the contracts than it does on the number of contracts.\n",
    "\n",
    "2. Criteria 1 (total number of cultural facilities) has a stronger impact on both the prices and numbers of contracts than Criteria 2 (total revenue from tourist accommodations) does.   \n",
    "</font>"
   ]
  },
  {
   "cell_type": "markdown",
   "metadata": {},
   "source": [
    "<font color='blue'>\n",
    "P.S. I chose this topic because I have a soft spot for arts and creativity ;) \n",
    "Although I was scared of the question, it became my favourite because I really started to feel and experience what it's like to be an artist data scientist who makes discoveries and explorations freely based on the colourful and realistic data (aka restrictions) they have available...obrigada for this and the semester!! :)\n",
    "</font> "
   ]
  },
  {
   "cell_type": "markdown",
   "metadata": {},
   "source": [
    "## End\n",
    "\n",
    "Submit this notebook in Moodle along with a statement of authorship in a single .zip archive."
   ]
  }
 ],
 "metadata": {
  "kernelspec": {
   "display_name": "Python 3",
   "language": "python",
   "name": "python3"
  },
  "language_info": {
   "codemirror_mode": {
    "name": "ipython",
    "version": 3
   },
   "file_extension": ".py",
   "mimetype": "text/x-python",
   "name": "python",
   "nbconvert_exporter": "python",
   "pygments_lexer": "ipython3",
   "version": "3.8.3"
  }
 },
 "nbformat": 4,
 "nbformat_minor": 2
}
